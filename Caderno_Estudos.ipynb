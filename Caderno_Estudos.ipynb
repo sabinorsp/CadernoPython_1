{
 "cells": [
  {
   "cell_type": "markdown",
   "id": "7d95340d",
   "metadata": {},
   "source": [
    "# Caderno de anotações de alguns códigos e estudos:\n",
    "\n",
    "* Fiz esta alteração para testes do git\n"
   ]
  },
  {
   "cell_type": "code",
   "execution_count": 3,
   "id": "3660a2c1",
   "metadata": {
    "ExecuteTime": {
     "end_time": "2022-04-17T00:21:55.533119Z",
     "start_time": "2022-04-17T00:21:55.527285Z"
    }
   },
   "outputs": [
    {
     "name": "stdout",
     "output_type": "stream",
     "text": [
      "Quantidade de vogal é: 3\n"
     ]
    }
   ],
   "source": [
    "# Define a quantidade de vogal contido numa palavra\n",
    "# Define a função para contar vogal\n",
    "def cont_Vogal(strings):\n",
    "    count = 0\n",
    "    for i in list(strings):\n",
    "        \n",
    "        if i in ['a','e','i','o','u']:\n",
    "            count += 1\n",
    "               \n",
    "    print('Quantidade de vogal é:',count)\n",
    "    #print(f'Quantidade de vogal é: {count}')\n",
    "    \n",
    "strings = 'lalaland'#input('Digite:')\n",
    "cont_Vogal(strings)"
   ]
  },
  {
   "cell_type": "code",
   "execution_count": null,
   "id": "82a94e70",
   "metadata": {},
   "outputs": [],
   "source": [
    "# Função para imprimir série de Fibonacci: \n",
    "def Fibo(x):\n",
    "    seq = [0, 1]\n",
    "    i = 2\n",
    "    \n",
    "    if (x == 0):\n",
    "        print('O número 0 digitado não é válido para essa função! ')\n",
    "    elif (x ==1 ):\n",
    "        print(seq[0])\n",
    "    elif (x == 2):\n",
    "        print(seq)\n",
    "    else:   \n",
    "        while i < x:\n",
    "            num = seq[i-1] + seq[i-2]\n",
    "            seq.append(num)\n",
    "            i += 1\n",
    "        print(seq)\n",
    "    \n",
    "Fibo(10)"
   ]
  },
  {
   "cell_type": "code",
   "execution_count": null,
   "id": "505cd4f1",
   "metadata": {},
   "outputs": [],
   "source": [
    "# Retorna profit dado uma biblioteca com chaves e valores \n",
    "# Exercicio 3\n",
    "profit = {'cost_price': 32.67, 'sell_price':45.00, 'inventory': 1200}\n",
    "\n",
    "def Lucro(x):\n",
    "    lucro = round((x['sell_price']-x['cost_price'])*x['inventory'])\n",
    "    print('Lucro calculado em $:', lucro)\n",
    "    \n",
    "Lucro(profit)"
   ]
  },
  {
   "cell_type": "code",
   "execution_count": null,
   "id": "b4d6a48d",
   "metadata": {},
   "outputs": [],
   "source": [
    "# Função que retorna se o número é impar : \n",
    "def numImpar(x):\n",
    "    if (x%2) != 0:\n",
    "        print('Seu número é impar')\n",
    "    else:\n",
    "        print('Seu número não é impar')\n",
    "        \n",
    "numImpar(2)"
   ]
  },
  {
   "cell_type": "code",
   "execution_count": 4,
   "id": "0ad2b0e4",
   "metadata": {
    "ExecuteTime": {
     "end_time": "2022-04-17T00:23:25.517901Z",
     "start_time": "2022-04-17T00:23:25.514349Z"
    }
   },
   "outputs": [
    {
     "name": "stdout",
     "output_type": "stream",
     "text": [
      "4\n"
     ]
    }
   ],
   "source": [
    "# Conta a quantidade de números presentes em um valor, sem conseidrar repetição\n",
    "def countNum(x):\n",
    "    numConv = list(str(x))\n",
    "    print(len(set(numConv)))\n",
    "\n",
    "countNum(102525500)"
   ]
  },
  {
   "cell_type": "markdown",
   "id": "151f2afa",
   "metadata": {},
   "source": [
    "**Escreva uma função chamada right_justify, que receba uma string chamada s como\n",
    "parâmetro e exiba a string com espaços suficientes à frente para que a última letra da\n",
    "string esteja na coluna 70 da tela:"
   ]
  },
  {
   "cell_type": "code",
   "execution_count": 5,
   "id": "dd6ef063",
   "metadata": {
    "ExecuteTime": {
     "end_time": "2022-04-17T00:23:36.037297Z",
     "start_time": "2022-04-17T00:23:36.026973Z"
    }
   },
   "outputs": [
    {
     "data": {
      "text/plain": [
       "'                                                                      Right'"
      ]
     },
     "execution_count": 5,
     "metadata": {},
     "output_type": "execute_result"
    }
   ],
   "source": [
    "# Cria função justify_R\n",
    "def justify_R(string):\n",
    "    count = 0\n",
    "    \n",
    "    while count < 70:\n",
    "        string = ' ' + string\n",
    "        count += 1\n",
    "        \n",
    "    return string \n",
    "\n",
    "justify_R('Right')"
   ]
  },
  {
   "cell_type": "markdown",
   "id": "e2c5cf69",
   "metadata": {},
   "source": [
    "Um objeto de função é um valor que pode ser atribuído a uma variável ou passado como\n",
    "argumento. Por exemplo, do_twice é uma função que toma um objeto de função como\n",
    "argumento e o chama duas vezes:\n",
    "def do_twice(f):\n",
    "f()\n",
    "f()\n",
    "Aqui está um exemplo que usa do_twice para chamar uma função chamada print_spam\n",
    "duas vezes:\n",
    "def print_spam():print('spam')\n",
    "do_twice(print_spam)"
   ]
  },
  {
   "cell_type": "code",
   "execution_count": null,
   "id": "4eb068bc",
   "metadata": {},
   "outputs": [],
   "source": [
    "# 1 Digitar o exemplo e executar: \n",
    "def print_spam():\n",
    "    print('spam')\n",
    "    \n",
    "def do_twice(f):\n",
    "    f()\n",
    "    f()\n",
    "    \n",
    "do_twice(print_spam)\n"
   ]
  },
  {
   "cell_type": "code",
   "execution_count": null,
   "id": "bd24a0f4",
   "metadata": {},
   "outputs": [],
   "source": [
    "# 2 Altere do_twice para que receba dois argumentos, um objeito de função e um valor, e chame a função\n",
    "#   duas vezes, passando o valor como um argumento. \n"
   ]
  },
  {
   "cell_type": "code",
   "execution_count": null,
   "id": "d747c9b9",
   "metadata": {},
   "outputs": [],
   "source": [
    "def doo_twice(f,x):\n",
    "    f(x)\n",
    "    f(x)\n",
    "\n",
    "def prinT(x):\n",
    "    print(x)\n",
    "    \n",
    "doo_twice(prinT,45)"
   ]
  },
  {
   "cell_type": "code",
   "execution_count": null,
   "id": "e862e4d4",
   "metadata": {},
   "outputs": [],
   "source": [
    "#Copie a definição de print_twice que aparece anteriormente neste capítulo no seu\n",
    "#script.\n",
    "def print_twice(bruce):\n",
    "    print(bruce)\n",
    "    print(bruce)\n",
    "\n",
    "print_twice('Bruce')"
   ]
  },
  {
   "cell_type": "code",
   "execution_count": null,
   "id": "6c6a19a9",
   "metadata": {},
   "outputs": [],
   "source": [
    "#Use a versão alterada de do_twice para chamar print_twice duas vezes, passando\n",
    "#'spam' como um argumento.\n",
    "doo_twice(print_twice,'spam')"
   ]
  },
  {
   "cell_type": "code",
   "execution_count": null,
   "id": "893d4924",
   "metadata": {},
   "outputs": [],
   "source": [
    "# 5. Defina uma função nova chamada do_four que receba um objeto de função e um\n",
    "# valor e chame a função quatro vezes, passando o valor como um parâmetro. Deve\n",
    "# haver só duas afirmações no corpo desta função, não quatro. ((( do_Any(Função, argumento da função, quantidade repetição))))\n",
    "def do_Any(f,x,n):\n",
    "    \n",
    "    for _ in range(n):\n",
    "        f(x)\n",
    "        \n",
    "do_Any(prinT,'army',5)"
   ]
  },
  {
   "cell_type": "markdown",
   "id": "1d7b6347",
   "metadata": {},
   "source": [
    "![__](img.png)\n"
   ]
  },
  {
   "cell_type": "code",
   "execution_count": 6,
   "id": "6c734159",
   "metadata": {
    "ExecuteTime": {
     "end_time": "2022-04-17T00:25:12.674798Z",
     "start_time": "2022-04-17T00:25:12.667232Z"
    }
   },
   "outputs": [
    {
     "name": "stdout",
     "output_type": "stream",
     "text": [
      "+---------+----------+\n",
      "|         |          |\n",
      "|         |          |\n",
      "|         |          |\n",
      "|         |          |\n",
      "+---------+----------+\n",
      "|         |          |\n",
      "|         |          |\n",
      "|         |          |\n",
      "|         |          |\n",
      "+---------+----------+\n"
     ]
    }
   ],
   "source": [
    "# Cria um quadrado com dimensões x e y -> Função: repete_linhaA(linha_A, linha_B, x,y)\n",
    "# Exercicio 3.3 : Livro Pense em Pyhton\n",
    "from math import floor \n",
    "       \n",
    "def linha_A(x):\n",
    "    linha_a = '+'\n",
    "    \n",
    "    for _ in range(x):    \n",
    "        linha_a = linha_a + '-'\n",
    "        \n",
    "    linha_a = list(linha_a)\n",
    "    linha_a[floor(x/2)]= '+'\n",
    "    linha_a[x]='+'\n",
    "    linha_a = ''.join(linha_a)\n",
    "    print(linha_a)\n",
    "    \n",
    "def linha_B(x):\n",
    "    linha_b = '|'\n",
    "    \n",
    "    for _ in range(x):\n",
    "        linha_b = linha_b + ' '\n",
    "        \n",
    "    linha_b = list(linha_b)\n",
    "    linha_b[floor(x/2)] = '|'\n",
    "    linha_b[x] = '|'\n",
    "    linha_b = ''.join(linha_b)\n",
    "    print(linha_b)\n",
    "    \n",
    "def repete_linhaA(fa, fb, x, y):\n",
    "    for _ in range(y):\n",
    "        if (_ == 0) or (_ == floor(y/2)) or (_ == y-1):\n",
    "            fa(x)\n",
    "        else:\n",
    "            fb(x)\n",
    "    \n",
    "repete_linhaA(linha_A, linha_B, 21, 11)"
   ]
  },
  {
   "cell_type": "markdown",
   "id": "4e2cefcc",
   "metadata": {},
   "source": [
    "## Capitulo 4: Estudo de caso: projeto de interface \n",
    "### Livro: Pense em python\n"
   ]
  },
  {
   "cell_type": "markdown",
   "id": "d4a1855f",
   "metadata": {},
   "source": [
    "### docstring - Procedimento de documentação do código, explica quais suas funções e quais seus parâmetros"
   ]
  },
  {
   "cell_type": "code",
   "execution_count": 7,
   "id": "ce90055d",
   "metadata": {
    "ExecuteTime": {
     "end_time": "2022-04-17T00:26:24.285073Z",
     "start_time": "2022-04-17T00:26:24.280937Z"
    }
   },
   "outputs": [],
   "source": [
    "def polyline(t: int, n: float, length: int, angle: float) -> int:\n",
    "    \"\"\"\n",
    "    Desenha n segmentos de reta com o comprimento dado e ângulo ( em graus) entre eles. t é um turtle.\n",
    "     \n",
    "    args: \n",
    "        t : Variável nome t ....; \n",
    "        n:  Variável nome n ....;\n",
    "        length: Nome ,,,,       ;\n",
    "        angle : Lalaland\n",
    "    \"\"\"\n",
    "    try: \n",
    "        pass\n",
    "    except Exception as error:\n",
    "        raise ValueError('Deu Erro!',error)\n",
    "    pass"
   ]
  },
  {
   "cell_type": "code",
   "execution_count": 8,
   "id": "cdee2e67",
   "metadata": {
    "ExecuteTime": {
     "end_time": "2022-04-17T00:26:32.248159Z",
     "start_time": "2022-04-17T00:26:32.244527Z"
    }
   },
   "outputs": [
    {
     "name": "stdout",
     "output_type": "stream",
     "text": [
      "Help on function polyline in module __main__:\n",
      "\n",
      "polyline(t: int, n: float, length: int, angle: float) -> int\n",
      "    Desenha n segmentos de reta com o comprimento dado e ângulo ( em graus) entre eles. t é um turtle.\n",
      "     \n",
      "    args: \n",
      "        t : Variável nome t ....; \n",
      "        n:  Variável nome n ....;\n",
      "        length: Nome ,,,,       ;\n",
      "        angle : Lalaland\n",
      "\n"
     ]
    }
   ],
   "source": [
    "help(polyline)"
   ]
  },
  {
   "cell_type": "markdown",
   "id": "cf9b027a",
   "metadata": {},
   "source": [
    "### Recursividade - Livro Pense em Python:\n",
    "* Uma função que chama a si mesma é dita recursiva; o Processo para executá-la é a recursividade\n"
   ]
  },
  {
   "cell_type": "code",
   "execution_count": null,
   "id": "6ede5369",
   "metadata": {},
   "outputs": [],
   "source": [
    "# Exemplo 1: \n",
    "def countdown(n: int) -> int:\n",
    "    \"\"\"Retorna uma contagem regressiva:\n",
    "    \n",
    "    Está função retorna uma contagem regressiva dado um valor inteiro positivo como entrada;\n",
    "    \n",
    "    arg : \n",
    "        n : Valor inteiro positivo, ponto inicial da contagem;\n",
    "        \n",
    "    \"\"\"\n",
    "    if n <= 0:\n",
    "        print('Blastoff!')\n",
    "    else:\n",
    "        print(n)\n",
    "        countdown(n-1)\n",
    "        \n",
    "countdown(5)"
   ]
  },
  {
   "cell_type": "code",
   "execution_count": null,
   "id": "7cdd6df4",
   "metadata": {},
   "outputs": [],
   "source": [
    "# Exemplo 2\n",
    "def print_n(s, n:int):\n",
    "    \"\"\" Retorna um atributo por uma quantidade de repetição desejada: \n",
    "    arg : \n",
    "        s : atributo fixo que será repetido;\n",
    "        n : Valor inteiro positivo que representa a quantidade de repetição do atributo s;\n",
    "    \n",
    "    \"\"\"\n",
    "    if n <= 0:\n",
    "        return\n",
    "    print(s)\n",
    "    print_n(s, n-1)\n",
    "    \n",
    "print_n('Repete',5)"
   ]
  },
  {
   "cell_type": "markdown",
   "id": "d5b01d20",
   "metadata": {},
   "source": [
    "### 5.1 - Entrada de teclado"
   ]
  },
  {
   "cell_type": "code",
   "execution_count": null,
   "id": "cb2103d0",
   "metadata": {},
   "outputs": [],
   "source": [
    "text = input('Digite aqui uma palavra')\n",
    "text"
   ]
  },
  {
   "cell_type": "code",
   "execution_count": null,
   "id": "e3c67cfa",
   "metadata": {},
   "outputs": [],
   "source": [
    "text = input('Digite aqui uma palavra \\\\n')"
   ]
  },
  {
   "cell_type": "markdown",
   "id": "081bb92f",
   "metadata": {},
   "source": [
    "### Exercicios Cap 5: \n"
   ]
  },
  {
   "cell_type": "markdown",
   "id": "c06ef1e9",
   "metadata": {},
   "source": [
    "* Exercicio 5.1: O módulo time fornece uma função, também chamada time, que devolve a Hora Média de\n",
    "Greenwich na “época”, que é um momento arbitrário usado como ponto de referência. Em\n",
    "sistemas UNIX, a época é primeiro de janeiro de 1970.\n",
    "\n",
    "*Escreva um script que leia a hora atual e a converta em um tempo em horas, minutos e\n",
    "segundos, mais o número de dias desde a época."
   ]
  },
  {
   "cell_type": "code",
   "execution_count": 9,
   "id": "10d2896b",
   "metadata": {
    "ExecuteTime": {
     "end_time": "2022-04-17T00:44:47.617347Z",
     "start_time": "2022-04-17T00:44:47.614607Z"
    }
   },
   "outputs": [],
   "source": [
    "import time\n",
    "since_time = int(time.time())"
   ]
  },
  {
   "cell_type": "code",
   "execution_count": 10,
   "id": "d0ca41cf",
   "metadata": {
    "ExecuteTime": {
     "end_time": "2022-04-17T00:44:48.107127Z",
     "start_time": "2022-04-17T00:44:48.100813Z"
    }
   },
   "outputs": [
    {
     "name": "stdout",
     "output_type": "stream",
     "text": [
      "{'Years': 154, 'Mount': 1848, 'Days': 57297, 'Hours': 458376, 'Minutes': 27502604, 'Seconds': 1650156287}\n"
     ]
    }
   ],
   "source": [
    "def since_Time(time):\n",
    "    seconds = time\n",
    "    minutes = (time//60)\n",
    "    hours = minutes//60\n",
    "    days = hours//8\n",
    "    mount = days//31\n",
    "    years = mount//12\n",
    "    date = {'Years': years, 'Mount': mount, 'Days': days, 'Hours': hours, 'Minutes': minutes, 'Seconds': seconds}\n",
    "    print(date)\n",
    "    \n",
    "since_Time(since_time)"
   ]
  },
  {
   "cell_type": "markdown",
   "id": "77c7604d",
   "metadata": {},
   "source": [
    "* Exercício 5.2: \n",
    "O último teorema de Fermat diz que não existem números inteiros a, b e c tais que a**n +\n",
    "b**n == c**n para quaisquer valores de n maiores que 2.\n",
    "1. Escreva uma função chamada check_fermat que receba quatro parâmetros – a, b, c e\n",
    "n – e verifique se o teorema de Fermat se mantém. Se n for maior que 2 e a**n +\n",
    "b**n == c**n o programa deve imprimir, “Holy smokes, Fermat was wrong!” Senão\n",
    "o programa deve exibir “No, that doesn’t work.”\n",
    "2. Escreva uma função que peça ao usuário para digitar valores para a, b, c e n, os\n",
    "converta em números inteiros e use check_fermat para verificar se violam o teorema\n",
    "de Fermat."
   ]
  },
  {
   "cell_type": "code",
   "execution_count": 11,
   "id": "bf5afcf2",
   "metadata": {
    "ExecuteTime": {
     "end_time": "2022-04-17T00:44:59.909920Z",
     "start_time": "2022-04-17T00:44:53.101913Z"
    }
   },
   "outputs": [
    {
     "name": "stdout",
     "output_type": "stream",
     "text": [
      "Digite valor para a:2\n",
      "Digite valor para b:1\n",
      "Digite valor para c:5\n",
      "Digite valor para n:3\n",
      "No, that doesn't work\n"
     ]
    }
   ],
   "source": [
    "def check_fermat(a, b, c, n):\n",
    "    if (n > 2) & ((a**n + b**n) == (c**n)):\n",
    "        print('Holy smokes, Fermat was wrong!')\n",
    "    else:\n",
    "        print('No, that doesn\\'t work')\n",
    "        \n",
    "def test_fermat():\n",
    "    a = int(input('Digite valor para a:'))\n",
    "    b = int(input('Digite valor para b:'))\n",
    "    c = int(input('Digite valor para c:'))\n",
    "    n = int(input('Digite valor para n:'))\n",
    "    check_fermat(a, b, c, n)\n",
    "    \n",
    "test_fermat()"
   ]
  },
  {
   "cell_type": "markdown",
   "id": "fc8ddec7",
   "metadata": {},
   "source": [
    "*Exercicio 5.3 , Se você tiver três gravetos, pode ser que consiga arranjá-los em um triângulo ou não. Por\n",
    "exemplo, se um dos gravetos tiver 12 polegadas de comprimento e outros dois tiverem\n",
    "uma polegada de comprimento, não será possível fazer com que os gravetos curtos se\n",
    "encontrem no meio. Há um teste simples para ver se é possível formar um triângulo paraquaisquer três comprimentos:\n",
    "Se algum dos três comprimentos for maior que a soma dos outros dois, então você não\n",
    "pode formar um triângulo. Senão, você pode. (Se a soma de dois comprimentos igualar o\n",
    "terceiro, eles formam um triângulo chamado “degenerado”.)\n",
    "1. Escreva uma função chamada is_triangle que receba três números inteiros como\n",
    "argumentos, e que imprima “Yes” ou “No”, dependendo da possibilidade de formar\n",
    "ou não um triângulo de gravetos com os comprimentos dados.\n",
    "2. Escreva uma função que peça ao usuário para digitar três comprimentos de gravetos,\n",
    "os converta em números inteiros e use is_triangle para verificar se os gravetos com\n",
    "os comprimentos dados podem formar um triângulo."
   ]
  },
  {
   "cell_type": "code",
   "execution_count": null,
   "id": "db45a06f",
   "metadata": {},
   "outputs": [],
   "source": [
    "def is_triangle():\n",
    "    comp1 = int(input('Digite o comprimento 1:')) \n",
    "    comp2 = int(input('Digite o comprimento 2:')) \n",
    "    comp3 = int(input('Digite o comprimento 3:'))\n",
    "    if (comp1 + comp2) < comp3:\n",
    "        print('No!')\n",
    "    elif (comp1+comp3) < comp2:\n",
    "        print('No!')\n",
    "    elif (comp2 + comp3) < comp1:\n",
    "        print('No!')\n",
    "    else:\n",
    "        print('Yes!')\n",
    "        \n",
    "is_triangle()"
   ]
  },
  {
   "cell_type": "markdown",
   "id": "38debe8b",
   "metadata": {},
   "source": [
    "## Capítulo 6: Funções com resultado"
   ]
  },
  {
   "cell_type": "code",
   "execution_count": null,
   "id": "f94384d0",
   "metadata": {},
   "outputs": [],
   "source": [
    "#Exemplo 1: \n",
    "import math\n",
    "def area(radius):\n",
    "    a = round(math.pi*radius**2)\n",
    "    return a\n",
    "\n",
    "area(30)\n"
   ]
  },
  {
   "cell_type": "code",
   "execution_count": null,
   "id": "d9a200b8",
   "metadata": {},
   "outputs": [],
   "source": [
    "# Seguindo o exemplo 1 e agora escrevendo de uma forma mais concisa: \n",
    "def area(radius):\n",
    "    return round(math.pi*radius**2)\n",
    "\n",
    "area(30)"
   ]
  },
  {
   "cell_type": "code",
   "execution_count": null,
   "id": "eb895a95",
   "metadata": {},
   "outputs": [],
   "source": [
    "# Exemplo 2: Como exercício, escreva uma função compare que receba dois valores, x e y, e retorne 1 se\n",
    "# x > y, 0 se x == y e -1 se x < y.\n",
    "def compare(x, y):\n",
    "    if x > y:\n",
    "        return 1\n",
    "    elif x == y:\n",
    "        return -0\n",
    "    elif x < y:\n",
    "        return -1\n",
    "    \n",
    "compare( 2, 3)"
   ]
  },
  {
   "cell_type": "markdown",
   "id": "02d97105",
   "metadata": {},
   "source": [
    "* Anotações: Códigos que segue um desenvolvimento incremental, ou seja aplica etapa a etapa das funções e testa a funcionaliadde delas são descritos como scaffolding, são úteis para construir o programa, mas não são parte do produto final..\n",
    "* O desenvolvimento incremental pode economizar muito tempo de depuração."
   ]
  },
  {
   "cell_type": "markdown",
   "id": "eb583fe2",
   "metadata": {},
   "source": [
    "Os principais aspectos do processo são:\n",
    "1. Comece com um programa que funcione e faça pequenas alterações incrementais. Se\n",
    "houver um erro em qualquer ponto, será bem mais fácil encontrá-lo.\n",
    "2. Use variáveis para guardar valores intermediários, assim poderá exibi-los e verificá-\n",
    "los.\n",
    "3. Uma vez que o programa esteja funcionando, você pode querer remover uma parte do\n",
    "scaffolding ou consolidar várias instruções em expressões compostas, mas apenas se\n",
    "isso não tornar o programa difícil de ler.\n"
   ]
  },
  {
   "cell_type": "markdown",
   "id": "2952a639",
   "metadata": {},
   "source": [
    "* Como exercício, use o desenvolvimento incremental para escrever uma função chamada\n",
    "hypotenuse, que devolva o comprimento da hipotenusa de um triângulo retângulo dados os\n",
    "comprimentos dos outros dois lados como argumentos. Registre cada etapa do processo de\n",
    "desenvolvimento no decorrer do processo."
   ]
  },
  {
   "cell_type": "code",
   "execution_count": null,
   "id": "71092770",
   "metadata": {},
   "outputs": [],
   "source": [
    "# Calcula hipotenusa de um triangulo retângulo\n",
    "import math\n",
    "def calc_hypo(a,b):\n",
    "    return math.sqrt(a**2 + b**2)\n",
    "\n",
    "calc_hypo(5,2)"
   ]
  },
  {
   "cell_type": "markdown",
   "id": "015d39d7",
   "metadata": {},
   "source": [
    "* Funções booleanas: As funções podem retornar boolens, o que pode ser conviente para esconder testes complicados dentro de funções. Por exemplo:"
   ]
  },
  {
   "cell_type": "code",
   "execution_count": null,
   "id": "4a6b06d2",
   "metadata": {},
   "outputs": [],
   "source": [
    "def is_divisible(x, y):\n",
    "    if x%y ==0:\n",
    "        return True\n",
    "    else:\n",
    "        return False\n",
    "\n",
    "is_divisible(2, 3)"
   ]
  },
  {
   "cell_type": "markdown",
   "id": "8826fcd1",
   "metadata": {},
   "source": [
    "*Como um exercício, escreva uma função is_between(x, y, z) que retorne True, se x ≤ y\n",
    "≤ z, ou False, se não for o caso."
   ]
  },
  {
   "cell_type": "code",
   "execution_count": null,
   "id": "05b90171",
   "metadata": {},
   "outputs": [],
   "source": [
    "def is_between(x, y, z):\n",
    "    if x <= y <= z:\n",
    "        return True\n",
    "    else:\n",
    "        return False\n",
    "    \n",
    "is_between(1, 2 ,3)"
   ]
  },
  {
   "cell_type": "markdown",
   "id": "a7130183",
   "metadata": {},
   "source": [
    "* Recursividade: Uma função quee chama a si mesma é dita recursiva; o Processo de executá-la é a recursividade! "
   ]
  },
  {
   "cell_type": "code",
   "execution_count": null,
   "id": "8422781e",
   "metadata": {},
   "outputs": [],
   "source": [
    "# Exemplo, aplicação do fatorial ! -> 5! = 5 * 4 * 3 * 2 * 1\n",
    "def factorial(n: int) -> int:\n",
    "    \"\"\" Retorna o fatorial de um número inteiro.\n",
    "    arc:\n",
    "        n : valor int positivo;\n",
    "    \n",
    "    \"\"\"\n",
    "    if n == 0:\n",
    "        return 1\n",
    "    else: \n",
    "        recurse = factorial(n-1)\n",
    "        result = n*recurse\n",
    "        return result\n",
    "    \n",
    "factorial(0)"
   ]
  },
  {
   "cell_type": "code",
   "execution_count": null,
   "id": "8a80d04d",
   "metadata": {},
   "outputs": [],
   "source": [
    "# Após testado e depurado a função  factorial reduz-se: \n",
    "def factorial(n: int) -> int:\n",
    "    \"\"\" Retorna o fatorial de um número inteiro.\n",
    "    arc:\n",
    "        n : valor int positivo;\n",
    "    \n",
    "    \"\"\"\n",
    "    if n == 0:\n",
    "        return 1\n",
    "    return factorial(n-1)*n\n",
    "\n",
    "factorial(10)\n"
   ]
  },
  {
   "cell_type": "markdown",
   "id": "0e9cf743",
   "metadata": {},
   "source": [
    "## Capítulo 7: Iteração"
   ]
  },
  {
   "cell_type": "code",
   "execution_count": null,
   "id": "453567c3",
   "metadata": {},
   "outputs": [],
   "source": [
    "#Exemplo Iteração : Collatz conjecture \n",
    "def conj_Collatz(n):\n",
    "    while n != 1:\n",
    "        print(n)\n",
    "        if (n % 2) == 0:\n",
    "            n = n/2\n",
    "        else: \n",
    "            n = n*3 + 1\n",
    "            \n",
    "conj_Collatz(10)"
   ]
  },
  {
   "cell_type": "markdown",
   "id": "afa96a1a",
   "metadata": {},
   "source": [
    "* Break : Às vezes você não sabe que está na hora de terminar um loop até que já esteja na metade\n",
    "do corpo. Neste caso pode usar a instrução break para sair do loop."
   ]
  },
  {
   "cell_type": "code",
   "execution_count": null,
   "id": "617cf646",
   "metadata": {},
   "outputs": [],
   "source": [
    "# Exemplo: \n",
    "while True:\n",
    "    line = input('> ')\n",
    "    if line == 'done':\n",
    "        break\n",
    "    print(line)\n",
    "print('Done!')"
   ]
  },
  {
   "cell_type": "markdown",
   "id": "1f8460cb",
   "metadata": {},
   "source": [
    "* Cálculo raízes quadradas pelo Método de Newton: y = (x + a/x)/2\n"
   ]
  },
  {
   "cell_type": "code",
   "execution_count": null,
   "id": "6c56d850",
   "metadata": {},
   "outputs": [],
   "source": [
    "# Método:\n",
    "a =4\n",
    "x = 7\n",
    "while True:\n",
    "    print(x)\n",
    "    y = (x + a/x) / 2\n",
    "    if y == x:\n",
    "        break\n",
    "    x = y\n",
    "    \n",
    "    "
   ]
  },
  {
   "cell_type": "code",
   "execution_count": null,
   "id": "6c7b2aa8",
   "metadata": {},
   "outputs": [],
   "source": [
    "# Exercício 7.1 \n",
    "def calc_raiz(a, x):\n",
    "    while True:\n",
    "        #print(x)\n",
    "        y = (x + a/x) / 2\n",
    "        if y == x:\n",
    "            break\n",
    "        x = y\n",
    "    return x\n",
    "calc_raiz(4, 3)"
   ]
  },
  {
   "cell_type": "code",
   "execution_count": null,
   "id": "14ae9441",
   "metadata": {},
   "outputs": [],
   "source": [
    "# Continuação exercicio 7.1: \n",
    "import math\n",
    "def test_square_root(a):\n",
    "    print('a ', 'mysqrt(a)  ', 'math.sqrt(a)  ', 'diff')\n",
    "    for _ in range(a):\n",
    "        print(_,'   ', calc_raiz(a,(a+1)), '      ',\n",
    "              math.sqrt(a), '       ', \n",
    "              (calc_raiz(a,(a+1)) - math.sqrt(a)) \n",
    "             )\n",
    "    \n",
    "test_square_root(9)"
   ]
  },
  {
   "cell_type": "markdown",
   "id": "799fd92f",
   "metadata": {},
   "source": [
    "## Capítulo 8 - Strings: \n",
    "*Strings não são como números inteiros, de ponto flutuante ou booleanos. Uma string é\n",
    "uma sequência, ou seja, uma coleção ordenada de outros valores. Neste capítulo você verá\n",
    "como acessar os caracteres que compõem uma string e aprenderá alguns métodos que as\n",
    "strings oferecem."
   ]
  },
  {
   "cell_type": "markdown",
   "id": "f4c782b4",
   "metadata": {},
   "source": [
    "*Como exercício, escreva uma função que receba uma string como argumento e exiba as\n",
    "letras de trás para a frente, uma por linha."
   ]
  },
  {
   "cell_type": "code",
   "execution_count": null,
   "id": "88322573",
   "metadata": {},
   "outputs": [],
   "source": [
    "def write_inv_string(string): \n",
    "    \n",
    "    count = len(string) -1\n",
    "    \n",
    "    while count >= 0:\n",
    "        print(string[(count - len(string))])\n",
    "        count -= 1\n",
    "        \n",
    "write_inv_string('Palavra')   "
   ]
  },
  {
   "cell_type": "markdown",
   "id": "eda3bba8",
   "metadata": {},
   "source": [
    "### 8.4 -Fatiamento de strings\n",
    "* Um segmento de uma string é chamado de fatia. Selecionar uma fatia é como selecionar\n",
    "um caractere:"
   ]
  },
  {
   "cell_type": "code",
   "execution_count": null,
   "id": "bdccf738",
   "metadata": {},
   "outputs": [],
   "source": [
    "#Exemplo: \n",
    "s = 'Monty Python'\n",
    "s[0:5]"
   ]
  },
  {
   "cell_type": "markdown",
   "id": "451ff020",
   "metadata": {},
   "source": [
    "* Strings são imutáveis, é tentador usar o operador [] no lado esquerdo de uma atribuição, com a inteção de alterar um caractere em uma string! "
   ]
  },
  {
   "cell_type": "code",
   "execution_count": null,
   "id": "18e38929",
   "metadata": {},
   "outputs": [],
   "source": [
    "#Exemplo do erro: \n",
    "greeting = 'Hellooooo'\n",
    "greeting[0] = 'X'"
   ]
  },
  {
   "cell_type": "markdown",
   "id": "51e4874a",
   "metadata": {},
   "source": [
    "### Métodos de strings: "
   ]
  },
  {
   "cell_type": "code",
   "execution_count": null,
   "id": "377a63ac",
   "metadata": {},
   "outputs": [],
   "source": [
    "# Devolve uma string com todas letras maiúsculas: \n",
    "word = 'banana'\n",
    "new_word = word.upper()\n",
    "new_word"
   ]
  },
  {
   "cell_type": "code",
   "execution_count": null,
   "id": "4f1a7c17",
   "metadata": {},
   "outputs": [],
   "source": [
    "word.strip('n')"
   ]
  },
  {
   "cell_type": "code",
   "execution_count": null,
   "id": "02aee081",
   "metadata": {},
   "outputs": [],
   "source": [
    "# Cifra de César - codificação string\n",
    "import string\n",
    "\n",
    "alphabet = string.ascii_lowercase\n",
    "\n",
    "def rotate_word(n: int,word):\n",
    "    \"\"\" Retorna a palavra rotacionada por um valor;\n",
    "    \n",
    "    Uma cifra de César é uma forma fraca de criptografia que implica “rotacionar” cada letra\n",
    "    por um número fixo de lugares. Rotacionar uma letra significa deslocá-lo pelo alfabeto,\n",
    "    voltando ao início se for necessário, portanto ‘A’ rotacionado por 3 é ‘D’ e ‘Z’ rotacionado\n",
    "    por 1 é ‘A’.\n",
    "    \n",
    "    arg : \n",
    "        n : Valores inteiros  no intervalo de -25 à 25\n",
    "    \"\"\"\n",
    "    \n",
    "    for letter in word.lower():\n",
    "        rout = alphabet.find(letter) + n\n",
    "        if rout > 25:\n",
    "            rout = rout - 25 \n",
    "        elif rout < 0:\n",
    "            rout = rout+ 26 \n",
    "            \n",
    "        print(alphabet[rout])\n",
    "                \n",
    "rotate_word(4,'Brasil')"
   ]
  },
  {
   "cell_type": "markdown",
   "id": "e8ffdf4f",
   "metadata": {},
   "source": [
    "## Capítulo 10: Listas"
   ]
  },
  {
   "cell_type": "markdown",
   "id": "be4ce828",
   "metadata": {},
   "source": [
    "* A forma mais comum de percorrer os elementos em uma lista é com um loop for. Segue o exemplo:"
   ]
  },
  {
   "cell_type": "code",
   "execution_count": null,
   "id": "e0ea4082",
   "metadata": {},
   "outputs": [],
   "source": [
    "cheeses = ['Cheddar', 'Edam', 'Gouda']\n",
    "numbers = [42, 123]\n",
    "\n",
    "for cheese in cheeses:\n",
    "    print(cheese)"
   ]
  },
  {
   "cell_type": "code",
   "execution_count": null,
   "id": "5ea09db5",
   "metadata": {},
   "outputs": [],
   "source": [
    "for i in range(len(numbers)):\n",
    "    numbers[i] = numbers[i]*2\n",
    "numbers"
   ]
  },
  {
   "cell_type": "markdown",
   "id": "02df3c2b",
   "metadata": {},
   "source": [
    "* O Python oferece métodos que operam em listas. Por exemplo, append adiciona um novo elemento ao fim de uma lista"
   ]
  },
  {
   "cell_type": "code",
   "execution_count": null,
   "id": "8b90a4e5",
   "metadata": {},
   "outputs": [],
   "source": [
    "t = ['a', 'b', 'c']\n",
    "t.append('d')\n",
    "t"
   ]
  },
  {
   "cell_type": "code",
   "execution_count": null,
   "id": "20d5c3c6",
   "metadata": {},
   "outputs": [],
   "source": [
    "t1 = ['a', 'b', 'c']\n",
    "t2 = ['d', 'e']\n",
    "t1.extend(t2)\n",
    "t1"
   ]
  },
  {
   "cell_type": "code",
   "execution_count": null,
   "id": "43f48286",
   "metadata": {},
   "outputs": [],
   "source": [
    "# sort() - classifica em ordem ascedente:\n",
    "t = ['d', 'c', 'e', 'b', 'a']\n",
    "t.sort()\n",
    "t"
   ]
  },
  {
   "cell_type": "markdown",
   "id": "c4807bda",
   "metadata": {},
   "source": [
    "### Mapeamento, filtragem e redução"
   ]
  },
  {
   "cell_type": "code",
   "execution_count": null,
   "id": "0496451f",
   "metadata": {},
   "outputs": [],
   "source": [
    "def only_upper(t):\n",
    "    res = []\n",
    "    for s in t:\n",
    "        if s.isupper():\n",
    "            res.append(s)\n",
    "    return res\n",
    "only_upper('CALAVa')"
   ]
  },
  {
   "cell_type": "code",
   "execution_count": null,
   "id": "56e0f961",
   "metadata": {},
   "outputs": [],
   "source": [
    "# Como excluir elementos: \n",
    "t = ['a', 'b', 'c']\n",
    "x = t.pop(1)\n",
    "t"
   ]
  },
  {
   "cell_type": "markdown",
   "id": "1ba039ae",
   "metadata": {},
   "source": [
    "* Escreva uma função chamada nested_sum que receba uma lista de listas de números\n",
    "inteiros e adicione os elementos de todas as listas aninhadas. Por exemplo:"
   ]
  },
  {
   "cell_type": "code",
   "execution_count": null,
   "id": "d462d7dd",
   "metadata": {},
   "outputs": [],
   "source": [
    "t = [[1, 2], [3], [4, 5, 6]]\n",
    "\n",
    "def nested_sum(t):\n",
    "    result = 0\n",
    "    for _ in t:\n",
    "        result = sum(_) + result\n",
    "    return result\n",
    "   \n",
    "nested_sum(t)"
   ]
  },
  {
   "cell_type": "markdown",
   "id": "e5cec8bf",
   "metadata": {},
   "source": [
    "* Exercicio 10.2 : Escreva uma função chamada cumsum que receba uma lista de números e retorne a soma\n",
    "cumulativa; isto é, uma nova lista onde o i-ésimo elemento é a soma dos primeiros i+1\n",
    "elementos da lista original."
   ]
  },
  {
   "cell_type": "code",
   "execution_count": null,
   "id": "aba8a019",
   "metadata": {},
   "outputs": [],
   "source": [
    "\n",
    "def cumsum(t):\n",
    "    result =[]\n",
    "    save = 0\n",
    "    for num in t:\n",
    "        result.append(num + save)\n",
    "        save = num + save\n",
    "    return result\n",
    "\n",
    "cumsum([2, 3, 4, 5, 6])\n",
    "        "
   ]
  },
  {
   "cell_type": "markdown",
   "id": "e6b61adc",
   "metadata": {},
   "source": [
    "Exercicio 10.30 -  Escreva uma função chamada middle que receba uma lista e retorne uma nova lista com\n",
    "todos os elementos originais, exceto os primeiros e os últimos elementos. Por exemplo:"
   ]
  },
  {
   "cell_type": "code",
   "execution_count": null,
   "id": "9b62a806",
   "metadata": {},
   "outputs": [],
   "source": [
    "t = [1, 2, 3, 4]\n",
    "\n",
    "def middle(t):\n",
    "    return t[1:-1]\n",
    "\n",
    "new_list = middle(t)\n",
    "new_list"
   ]
  },
  {
   "cell_type": "markdown",
   "id": "e72261ae",
   "metadata": {},
   "source": [
    "* Exercicio 10.5 - Escreva uma função chamada is_sorted que tome uma lista como parâmetro e retorne True\n",
    "se a lista estiver classificada em ordem ascendente, e False se não for o caso. Por exemplo:"
   ]
  },
  {
   "cell_type": "code",
   "execution_count": null,
   "id": "008ac0de",
   "metadata": {},
   "outputs": [],
   "source": [
    "def is_sorted(t):\n",
    "    tt = t.copy()\n",
    "    t.sort()\n",
    "    for index in range(len(t)):\n",
    "        if t[index] != tt[index]:\n",
    "            return False\n",
    "    return True\n",
    "\n",
    "is_sorted([2, 1, 3, 4])"
   ]
  },
  {
   "cell_type": "code",
   "execution_count": null,
   "id": "a4025b6b",
   "metadata": {},
   "outputs": [],
   "source": [
    "is_sorted([2, 2 ,3 ,1])"
   ]
  },
  {
   "cell_type": "code",
   "execution_count": null,
   "id": "b197e13c",
   "metadata": {},
   "outputs": [],
   "source": [
    "is_sorted([4,1,2,4])"
   ]
  },
  {
   "cell_type": "code",
   "execution_count": null,
   "id": "29361ecc",
   "metadata": {},
   "outputs": [],
   "source": [
    "is_sorted([1 , 3 , 5, 7, 9])"
   ]
  },
  {
   "cell_type": "code",
   "execution_count": null,
   "id": "7352fd4d",
   "metadata": {},
   "outputs": [],
   "source": [
    "is_sorted(['b', 'a', 'c'])"
   ]
  },
  {
   "cell_type": "markdown",
   "id": "df34b139",
   "metadata": {},
   "source": [
    "* 10.6 Exercicio\n",
    "\n",
    "Duas palavras são anagramas se você puder soletrar uma rearranjando as letras da outra.\n",
    "Escreva uma função chamada is_anagram que tome duas strings e retorne True se forem\n",
    "anagramas."
   ]
  },
  {
   "cell_type": "code",
   "execution_count": null,
   "id": "de145aa3",
   "metadata": {},
   "outputs": [],
   "source": [
    "def is_anagram(word1, word2):\n",
    "    word1 = word1.lower()\n",
    "    word2 = word2.lower()\n",
    "    if len(word1) == len(word2):\n",
    "        n = 0\n",
    "        for index in word1:\n",
    "            if index in word2:\n",
    "                n += 1\n",
    "        if n == len(word1):\n",
    "            return True\n",
    "            \n",
    "    return False\n",
    "\n",
    "is_anagram('Ummu','mumu')"
   ]
  },
  {
   "cell_type": "code",
   "execution_count": null,
   "id": "437bcdbc",
   "metadata": {},
   "outputs": [],
   "source": [
    "# 2 ° Método do anagrama - Exemplo dado por José via discord\n",
    "def is_anagram(w1, w2):\n",
    "    if len(w1) == len(w2):\n",
    "        return all(letter in w2 for letter in w1)\n",
    "    return False\n",
    "\n",
    "is_anagram('palvara','palavra')"
   ]
  },
  {
   "cell_type": "code",
   "execution_count": null,
   "id": "c0c704ec",
   "metadata": {},
   "outputs": [],
   "source": [
    "# Exemplo com list compreheshion\n",
    "palavra1 = 'caFe'\n",
    "palavra2 = 'Banana'"
   ]
  },
  {
   "cell_type": "code",
   "execution_count": null,
   "id": "6c2752ba",
   "metadata": {},
   "outputs": [],
   "source": [
    "# Exemplo com list comprehenshion\n",
    "def is_lower(word):\n",
    "    if word == word.lower():\n",
    "        return True\n",
    "    \n",
    "[ is_lower(letter)  for letter in palavra1]"
   ]
  },
  {
   "cell_type": "markdown",
   "id": "7f18f37a",
   "metadata": {},
   "source": [
    "* Exercicio 10.7 Escreva uma função chamada has_duplicate que tome uma lista e retorne True se houver\n",
    "algum elemento que apareça mais de uma vez. Ela não deve modificar a lista original."
   ]
  },
  {
   "cell_type": "code",
   "execution_count": 3,
   "id": "f4ced20f",
   "metadata": {
    "ExecuteTime": {
     "end_time": "2022-03-20T11:31:36.627248Z",
     "start_time": "2022-03-20T11:31:36.616169Z"
    }
   },
   "outputs": [
    {
     "data": {
      "text/plain": [
       "False"
      ]
     },
     "execution_count": 3,
     "metadata": {},
     "output_type": "execute_result"
    }
   ],
   "source": [
    "def has_duplicate(t):\n",
    "    for element in t:\n",
    "        n = 0 # contador\n",
    "        for index in range(len(t)):\n",
    "            if element == t[index]:\n",
    "                n += 1\n",
    "                if n > 1:\n",
    "                    return True               \n",
    "    return False\n",
    "has_duplicate([2,1,3,4,5,6])"
   ]
  },
  {
   "cell_type": "code",
   "execution_count": null,
   "id": "03abf4d2",
   "metadata": {},
   "outputs": [],
   "source": [
    "t = [ 2,1]\n",
    "has_duplicate(t)"
   ]
  },
  {
   "cell_type": "code",
   "execution_count": null,
   "id": "3fbcb8d5",
   "metadata": {},
   "outputs": [],
   "source": [
    "# Exemplo de iteração item a item dado uma lista\n",
    "def combination(t):\n",
    "    for element in t:\n",
    "        for index in range(len(t)):\n",
    "            print(element, t[index])\n",
    "            \n",
    "combination([1 , 2])"
   ]
  },
  {
   "cell_type": "markdown",
   "id": "fa9bbff0",
   "metadata": {},
   "source": [
    "* Este exercício pertence ao assim chamado Paradoxo de aniversário, sobre o qual você\n",
    "pode ler em http://en.wikipedia.org/wiki/Birthday_paradox.\n",
    "Se há 23 alunos na sua sala, quais são as chances de dois deles fazerem aniversário no\n",
    "mesmo dia? Você pode estimar esta probabilidade gerando amostras aleatórias de 23 dias\n",
    "de aniversário e verificando as correspondências. Dica: você pode gerar aniversários\n",
    "aleatórios com a função randint no módulo random."
   ]
  },
  {
   "cell_type": "code",
   "execution_count": 13,
   "id": "239e53f1",
   "metadata": {
    "ExecuteTime": {
     "end_time": "2022-03-20T11:36:03.142406Z",
     "start_time": "2022-03-20T11:36:01.962166Z"
    }
   },
   "outputs": [],
   "source": [
    "import numpy as np"
   ]
  },
  {
   "cell_type": "code",
   "execution_count": 17,
   "id": "28515476",
   "metadata": {
    "ExecuteTime": {
     "end_time": "2022-03-20T11:38:25.323888Z",
     "start_time": "2022-03-20T11:38:25.313291Z"
    }
   },
   "outputs": [
    {
     "data": {
      "text/plain": [
       "516"
      ]
     },
     "execution_count": 17,
     "metadata": {},
     "output_type": "execute_result"
    }
   ],
   "source": [
    "# Exemplo JOsé: \n",
    "\n",
    "def birthday_p(pop, n):\n",
    "    freq = 0\n",
    "    pop_n = np.random.randint(1, 366, (n, pop))\n",
    "    #pop_n = [[randint(1, 366) for i in range(pop)] for i in range(n)]\n",
    "    for class_room in pop_n:\n",
    "        pop_n_set = set(class_room)\n",
    "        if len(pop_n_set) != len(class_room):\n",
    "            freq += 1\n",
    "    return freq\n",
    "birthday_p(23,1000)\n",
    "\n",
    "# * Obs, esse exemplo mostra a diferença no tempo de execução quando comparado com o código abaixo! "
   ]
  },
  {
   "cell_type": "code",
   "execution_count": 18,
   "id": "32332a9a",
   "metadata": {
    "ExecuteTime": {
     "end_time": "2022-03-20T11:38:28.186006Z",
     "start_time": "2022-03-20T11:38:28.140735Z"
    }
   },
   "outputs": [
    {
     "data": {
      "text/plain": [
       "50.8"
      ]
     },
     "execution_count": 18,
     "metadata": {},
     "output_type": "execute_result"
    }
   ],
   "source": [
    "from random import randint\n",
    "\n",
    "def birthday_prob(p: int,n: int) -> float:\n",
    "    \"\"\" Retorna a probabilidade de ocorrencia de duas pessoas fazer aniversário no mesmo dia;\n",
    "    arg :\n",
    "        p : Quantidade de pessoas;\n",
    "        n : Quantidade de repetição da simulação;\n",
    "    \"\"\"\n",
    "    population = []\n",
    "    freq = 0\n",
    "    \n",
    "    for i in range(n):\n",
    "        \n",
    "        for element in range(p):\n",
    "            population.append(randint(1,365))\n",
    "            \n",
    "        if has_duplicate(population) == True:\n",
    "            freq += 1 \n",
    "            \n",
    "        population = []\n",
    "    \n",
    "    return (freq/n)*100    \n",
    "   \n",
    "birthday_prob(23,1000)"
   ]
  },
  {
   "cell_type": "markdown",
   "id": "d5a1e135",
   "metadata": {},
   "source": [
    "* Exercício 10.9\n",
    "Escreva uma função que leia o arquivo words.txt e construa uma lista com um elemento\n",
    "por palavra. Escreva duas versões desta função, uma usando o método append e outra\n",
    "usando a expressão t = t + [x] . Qual leva mais tempo para ser executada? Por quê?\n",
    "Solução: http://thinkpython2.com/code/wordlist.py.\n"
   ]
  },
  {
   "cell_type": "code",
   "execution_count": 154,
   "id": "506082e9",
   "metadata": {
    "ExecuteTime": {
     "end_time": "2022-03-20T15:48:38.528385Z",
     "start_time": "2022-03-20T15:48:38.522574Z"
    }
   },
   "outputs": [
    {
     "name": "stdout",
     "output_type": "stream",
     "text": [
      "4\n",
      "['pesquisaria', 'kernel', 'Python', 'thingPython']\n",
      "0.0006861686706542969 seconds\n"
     ]
    }
   ],
   "source": [
    "from __future__ import print_function, division\n",
    "import time\n",
    "\n",
    "def make_word_list1():\n",
    "    \"\"\"Reads lines from a file and builds a list using append.\"\"\"\n",
    "    t = []\n",
    "    fin = open('words.txt')\n",
    "    for line in fin:\n",
    "        word = line.strip()\n",
    "        t.append(word)\n",
    "    return t\n",
    "\n",
    "start_time = time.time()\n",
    "t = make_word_list1()\n",
    "elapsed_time = time.time() - start_time\n",
    "\n",
    "print(len(t))\n",
    "print(t[:10])\n",
    "print(elapsed_time, 'seconds')\n",
    "\n"
   ]
  },
  {
   "cell_type": "code",
   "execution_count": 155,
   "id": "4521e61c",
   "metadata": {
    "ExecuteTime": {
     "end_time": "2022-03-20T15:48:41.529369Z",
     "start_time": "2022-03-20T15:48:41.522738Z"
    }
   },
   "outputs": [
    {
     "name": "stdout",
     "output_type": "stream",
     "text": [
      "4\n",
      "['pesquisaria', 'kernel', 'Python', 'thingPython']\n",
      "0.0009968280792236328 seconds\n"
     ]
    }
   ],
   "source": [
    "def make_word_list2():\n",
    "    \"\"\"Reads lines from a file and builds a list using list +.\"\"\"\n",
    "    t = []\n",
    "    fin = open('words.txt')\n",
    "    for line in fin:\n",
    "        word = line.strip()\n",
    "        t = t + [word]\n",
    "    return t\n",
    "\n",
    "start_time = time.time()\n",
    "t = make_word_list2()\n",
    "elapsed_time = time.time() - start_time\n",
    "\n",
    "print(len(t))\n",
    "print(t[:10])\n",
    "print(elapsed_time, 'seconds')"
   ]
  },
  {
   "cell_type": "markdown",
   "id": "64a615d7",
   "metadata": {},
   "source": [
    "## Capitulo 11 : Dicionários\n",
    "\n",
    "Dicionários são um dos\n",
    "melhores recursos do Python; eles são os blocos de montar de muitos algoritmos eficientes\n",
    "e elegantes."
   ]
  },
  {
   "cell_type": "code",
   "execution_count": 12,
   "id": "b9d6c891",
   "metadata": {
    "ExecuteTime": {
     "end_time": "2022-04-17T00:49:32.408568Z",
     "start_time": "2022-04-17T00:49:32.404963Z"
    }
   },
   "outputs": [
    {
     "data": {
      "text/plain": [
       "{}"
      ]
     },
     "execution_count": 12,
     "metadata": {},
     "output_type": "execute_result"
    }
   ],
   "source": [
    "# A função dict() cria um dicionário vazio: \n",
    "eng2sp = dict()\n",
    "eng2sp"
   ]
  },
  {
   "cell_type": "code",
   "execution_count": 137,
   "id": "31fe27ce",
   "metadata": {},
   "outputs": [
    {
     "data": {
      "text/plain": [
       "{'one': 'uno'}"
      ]
     },
     "execution_count": 137,
     "metadata": {},
     "output_type": "execute_result"
    }
   ],
   "source": [
    "# Para adicionar a chave e valor usa-se o []\n",
    "eng2sp['one'] = 'uno'\n",
    "eng2sp"
   ]
  },
  {
   "cell_type": "code",
   "execution_count": 139,
   "id": "7570165f",
   "metadata": {},
   "outputs": [
    {
     "data": {
      "text/plain": [
       "{'one': 'uno', 'three': 'tres', 'two': 'dos'}"
      ]
     },
     "execution_count": 139,
     "metadata": {},
     "output_type": "execute_result"
    }
   ],
   "source": [
    "eng2sp = {'one': 'uno', 'three': 'tres', 'two': 'dos'}\n",
    "eng2sp"
   ]
  },
  {
   "cell_type": "code",
   "execution_count": 140,
   "id": "fe1f4e10",
   "metadata": {},
   "outputs": [
    {
     "data": {
      "text/plain": [
       "'dos'"
      ]
     },
     "execution_count": 140,
     "metadata": {},
     "output_type": "execute_result"
    }
   ],
   "source": [
    "eng2sp['two']"
   ]
  },
  {
   "cell_type": "code",
   "execution_count": 141,
   "id": "72456ba5",
   "metadata": {},
   "outputs": [
    {
     "data": {
      "text/plain": [
       "3"
      ]
     },
     "execution_count": 141,
     "metadata": {},
     "output_type": "execute_result"
    }
   ],
   "source": [
    "len(eng2sp)"
   ]
  },
  {
   "cell_type": "markdown",
   "id": "6a86229d",
   "metadata": {},
   "source": [
    "### Um dicionário como uma coleção de contadores: \n",
    "Suponha que você receba uma string e queira contar quantas vezes cada letra aparece nela. "
   ]
  },
  {
   "cell_type": "code",
   "execution_count": 131,
   "id": "c3a36c56",
   "metadata": {
    "ExecuteTime": {
     "end_time": "2022-03-20T13:28:24.783605Z",
     "start_time": "2022-03-20T13:28:24.778454Z"
    }
   },
   "outputs": [
    {
     "data": {
      "text/plain": [
       "{'b': 1, 'r': 1, 'o': 1, 'n': 2, 'e': 1, 's': 3, 'a': 1, 't': 1, 'u': 1}"
      ]
     },
     "execution_count": 131,
     "metadata": {},
     "output_type": "execute_result"
    }
   ],
   "source": [
    "def histogram(s):\n",
    "    d = dict()\n",
    "    for c in s:\n",
    "        if c not in d:\n",
    "            d[c] = 1\n",
    "        else: \n",
    "            d[c] += 1\n",
    "    return d\n",
    "\n",
    "histogram('bronnesatuss')"
   ]
  },
  {
   "cell_type": "markdown",
   "id": "d9412a3f",
   "metadata": {},
   "source": [
    "Os dicionários têm um método chamado get , que toma uma chave e um valor padrão. Se a\n",
    "chave aparecer no dicionário, get retorna o valor correspondente; se não for o caso, ele\n",
    "retorna o valor padrão. Por exemplo:"
   ]
  },
  {
   "cell_type": "code",
   "execution_count": 132,
   "id": "e8d21759",
   "metadata": {
    "ExecuteTime": {
     "end_time": "2022-03-20T13:28:28.329052Z",
     "start_time": "2022-03-20T13:28:28.323290Z"
    }
   },
   "outputs": [
    {
     "data": {
      "text/plain": [
       "'Não tem'"
      ]
     },
     "execution_count": 132,
     "metadata": {},
     "output_type": "execute_result"
    }
   ],
   "source": [
    "h = histogram('aaa')\n",
    "h.get('aaa','Não tem')"
   ]
  },
  {
   "cell_type": "code",
   "execution_count": 7,
   "id": "804f8be3",
   "metadata": {},
   "outputs": [
    {
     "name": "stdout",
     "output_type": "stream",
     "text": [
      "Help on method_descriptor:\n",
      "\n",
      "get(self, key, default=None, /)\n",
      "    Return the value for key if key is in the dictionary, else default.\n",
      "\n"
     ]
    }
   ],
   "source": [
    "help(dict.get)"
   ]
  },
  {
   "cell_type": "code",
   "execution_count": 193,
   "id": "73535a49",
   "metadata": {
    "ExecuteTime": {
     "end_time": "2022-03-20T18:09:16.959918Z",
     "start_time": "2022-03-20T18:09:16.952375Z"
    }
   },
   "outputs": [
    {
     "data": {
      "text/plain": [
       "{'a': 3, 'p': 3, 's': 2}"
      ]
     },
     "execution_count": 193,
     "metadata": {},
     "output_type": "execute_result"
    }
   ],
   "source": [
    "# usando o método .get() para escrever a função histogram de forma mais concisa\n",
    "def histogram(s):\n",
    "    d = dict()\n",
    "    \n",
    "    for letter in s:\n",
    "        \n",
    "        d[letter] = d.get(letter, 0 ) + 1 \n",
    "     \n",
    "    return d\n",
    "    \n",
    "histogram('aaapppss')"
   ]
  },
  {
   "cell_type": "markdown",
   "id": "f0f3ddd0",
   "metadata": {
    "ExecuteTime": {
     "end_time": "2022-03-20T13:22:41.253871Z",
     "start_time": "2022-03-20T13:22:41.249795Z"
    }
   },
   "source": [
    "### 11.3 -  Loop e dicionários: \n",
    "\n",
    "Se usar um dicionário em uma instrução for , ela percorre as chaves do dicionário. Por\n",
    "exemplo, print_hist exibe cada chave e o valor correspondente:"
   ]
  },
  {
   "cell_type": "code",
   "execution_count": 139,
   "id": "470611a8",
   "metadata": {
    "ExecuteTime": {
     "end_time": "2022-03-20T15:10:48.586098Z",
     "start_time": "2022-03-20T15:10:48.581462Z"
    }
   },
   "outputs": [
    {
     "name": "stdout",
     "output_type": "stream",
     "text": [
      "p 1\n",
      "a 1\n",
      "r 2\n",
      "o 1\n",
      "t 1\n"
     ]
    }
   ],
   "source": [
    "def print_hist(h):\n",
    "    for c in h:\n",
    "        print(c,h[c])\n",
    "        \n",
    "h = histogram('parrot')\n",
    "\n",
    "print_hist(h)"
   ]
  },
  {
   "cell_type": "code",
   "execution_count": 140,
   "id": "f47a7533",
   "metadata": {
    "ExecuteTime": {
     "end_time": "2022-03-20T15:12:18.586708Z",
     "start_time": "2022-03-20T15:12:18.581400Z"
    }
   },
   "outputs": [
    {
     "name": "stdout",
     "output_type": "stream",
     "text": [
      "a 1\n",
      "o 1\n",
      "p 1\n",
      "r 2\n",
      "t 1\n"
     ]
    }
   ],
   "source": [
    "# Novamente, as chaves não estão em nenhuma ordem determinada. Para atravessar as\n",
    "# chaves em ordem ascendente, você pode usar a função integrada sorted :\n",
    "for key in sorted(h):\n",
    "    print(key, h[key])"
   ]
  },
  {
   "cell_type": "markdown",
   "id": "aee59d0a",
   "metadata": {},
   "source": [
    "### Memo \n",
    "Um valor calculado anteriormente que é guardado para uso posterior é chamado de memo. Aqui está uma versão com memos de fibonacci:"
   ]
  },
  {
   "cell_type": "code",
   "execution_count": 214,
   "id": "d1a309c1",
   "metadata": {
    "ExecuteTime": {
     "end_time": "2022-03-20T18:26:47.966760Z",
     "start_time": "2022-03-20T18:26:47.959387Z"
    }
   },
   "outputs": [
    {
     "data": {
      "text/plain": [
       "354224848179261915075"
      ]
     },
     "execution_count": 214,
     "metadata": {},
     "output_type": "execute_result"
    }
   ],
   "source": [
    "known = {0:0, 1:1}\n",
    "def fibonacci(n):\n",
    "    if n in known:\n",
    "        return known[n]\n",
    "    res = fibonacci(n-1) + fibonacci(n-2)\n",
    "    known[n] = res\n",
    "    \n",
    "    return res\n",
    "\n",
    "fibonacci(100)\n",
    "\n",
    "#Sempre que fibonacci é chamada, ela verifica known . Se o resultado já estiver lá, pode\n",
    "#voltar imediatamente. Se não for o caso, é preciso calcular o novo valor, acrescentá-lo ao\n",
    "#dicionário e devolvê-lo."
   ]
  },
  {
   "cell_type": "markdown",
   "id": "bc7a85d9",
   "metadata": {},
   "source": [
    "### Dicionários e Listas: \n",
    "As listas podem aparecer como valores em um dicionário. Por exemplo, se você receber\n",
    "um dicionário que mapeie letras e frequências, é uma boa ideia invertê-lo; isto é, crie um\n",
    "dicionário que mapeie de frequências a letras. Como pode haver várias letras com a\n",
    "mesma frequência, cada valor no dicionário invertido deve ser uma lista de letras."
   ]
  },
  {
   "cell_type": "code",
   "execution_count": 215,
   "id": "eebeb93b",
   "metadata": {
    "ExecuteTime": {
     "end_time": "2022-03-20T18:33:28.163270Z",
     "start_time": "2022-03-20T18:33:28.157725Z"
    }
   },
   "outputs": [
    {
     "data": {
      "text/plain": [
       "{1: ['p', 'a', 'o', 't'], 2: ['r']}"
      ]
     },
     "execution_count": 215,
     "metadata": {},
     "output_type": "execute_result"
    }
   ],
   "source": [
    "def invert_dict(d):\n",
    "    inverse = dict()\n",
    "    \n",
    "    for key in d:\n",
    "        val = d[key]\n",
    "        if val not in inverse: \n",
    "            inverse[val] = [key]\n",
    "        else: \n",
    "            inverse[val].append(key)\n",
    "    return inverse\n",
    "    \n",
    "# Usando a função definida anteriormente histogram()\n",
    "\n",
    "hist = histogram('parrot')\n",
    "inverse = invert_dict(hist)\n",
    "inverse"
   ]
  },
  {
   "cell_type": "code",
   "execution_count": 201,
   "id": "5d3975ab",
   "metadata": {
    "ExecuteTime": {
     "end_time": "2022-03-20T18:14:51.417092Z",
     "start_time": "2022-03-20T18:14:51.413530Z"
    }
   },
   "outputs": [
    {
     "data": {
      "text/plain": [
       "{'p': 1, 'a': 1, 'r': 2, 'o': 1, 't': 1}"
      ]
     },
     "execution_count": 201,
     "metadata": {},
     "output_type": "execute_result"
    }
   ],
   "source": [
    "hist"
   ]
  },
  {
   "cell_type": "markdown",
   "id": "4301b610",
   "metadata": {
    "ExecuteTime": {
     "end_time": "2022-03-20T15:27:59.455583Z",
     "start_time": "2022-03-20T15:27:59.448129Z"
    }
   },
   "source": [
    "### Variáveis globais: \n",
    "As variáveis em __main__ às vezes são chamadas de globais, porque podem ser acessadas de qualquer função. \n",
    "\n",
    "As variáveis globais persistem de uma chamada da função à seguinte. \n",
    "\n",
    "É comum usar variáveis globais para flags; isto é, variáveis booleanas que indicam (\"flag\") se uma condição é verdadeira. Por exemplo, alguns programas usam um flag denominado verbose para cotnrolar o nível de detalhe da saída. "
   ]
  },
  {
   "cell_type": "code",
   "execution_count": 14,
   "id": "967b5943",
   "metadata": {
    "ExecuteTime": {
     "end_time": "2022-04-17T00:53:29.700488Z",
     "start_time": "2022-04-17T00:53:29.696921Z"
    }
   },
   "outputs": [
    {
     "name": "stdout",
     "output_type": "stream",
     "text": [
      " verbose está definido False, portanto não entra na 1° opção\n"
     ]
    }
   ],
   "source": [
    "verbose = False\n",
    "def example1():\n",
    "    if verbose: \n",
    "        print('Running example1')\n",
    "    else: \n",
    "        print(' verbose está definido False, portanto não entra na 1° opção')\n",
    "example1()"
   ]
  },
  {
   "cell_type": "markdown",
   "id": "ca411b29",
   "metadata": {},
   "source": [
    "### Exercicíos 11.10 : \n"
   ]
  },
  {
   "cell_type": "markdown",
   "id": "e64961e6",
   "metadata": {},
   "source": [
    "Exercício 11.1\n",
    "Escreva uma função que leia as palavras em words.txt e guarde-as como chaves em um\n",
    "dicionário. Não importa quais são os valores. Então você pode usar o operador in como\n",
    "uma forma rápida de verificar se uma string está no dicionário.\n",
    "Se fez o Exercício 10.10, você pode comparar a velocidade desta implementação com o\n",
    "operador in de listas e a busca por bisseção."
   ]
  },
  {
   "cell_type": "code",
   "execution_count": 223,
   "id": "367c4381",
   "metadata": {
    "ExecuteTime": {
     "end_time": "2022-03-20T18:52:42.534526Z",
     "start_time": "2022-03-20T18:52:42.527741Z"
    }
   },
   "outputs": [
    {
     "ename": "NameError",
     "evalue": "name 'words' is not defined",
     "output_type": "error",
     "traceback": [
      "\u001b[0;31m---------------------------------------------------------------------------\u001b[0m",
      "\u001b[0;31mNameError\u001b[0m                                 Traceback (most recent call last)",
      "\u001b[0;32m/tmp/ipykernel_11563/2101502099.py\u001b[0m in \u001b[0;36m<module>\u001b[0;34m\u001b[0m\n\u001b[1;32m     11\u001b[0m     \u001b[0;32mreturn\u001b[0m \u001b[0mt\u001b[0m\u001b[0;34m\u001b[0m\u001b[0;34m\u001b[0m\u001b[0m\n\u001b[1;32m     12\u001b[0m \u001b[0;34m\u001b[0m\u001b[0m\n\u001b[0;32m---> 13\u001b[0;31m \u001b[0mmake_word_list1\u001b[0m\u001b[0;34m(\u001b[0m\u001b[0mwords\u001b[0m\u001b[0;34m.\u001b[0m\u001b[0mtxt\u001b[0m\u001b[0;34m)\u001b[0m\u001b[0;34m\u001b[0m\u001b[0;34m\u001b[0m\u001b[0m\n\u001b[0m",
      "\u001b[0;31mNameError\u001b[0m: name 'words' is not defined"
     ]
    }
   ],
   "source": [
    "from __future__ import print_function, division\n",
    "\n",
    "def make_word_list1():\n",
    "    \"\"\"Reads lines from a file and builds a list using append.\"\"\"\n",
    "    t = []\n",
    "    fin = open('words.txt')\n",
    "    for line in fin:\n",
    "        word = line.strip()\n",
    "        t.append(words)\n",
    "        \n",
    "    return t\n",
    "\n",
    "make_word_list1(words.txt)"
   ]
  },
  {
   "cell_type": "code",
   "execution_count": 1,
   "id": "5b9dbf97",
   "metadata": {
    "ExecuteTime": {
     "end_time": "2022-03-21T12:16:52.231974Z",
     "start_time": "2022-03-21T12:16:52.228645Z"
    }
   },
   "outputs": [],
   "source": [
    "### Espaço deixado em branco para execuções de novos exercicios sobre dicionários\n"
   ]
  },
  {
   "cell_type": "code",
   "execution_count": null,
   "id": "1248b489",
   "metadata": {},
   "outputs": [],
   "source": []
  },
  {
   "cell_type": "markdown",
   "id": "993d1bc1",
   "metadata": {},
   "source": [
    "## Capítulo 12: Tuplas\n",
    "\n",
    "* Tuplas são Imutáveis! \n",
    "\n",
    "* Uma tupla é uma sequencia de valores. Os valores podem ser de qualquer tipo, e podem ser idexados por números inteiros, portanto, nesse sentido, as tuplas são muito parecidas com as listas. A diferença importante é que as tuplas são imutáveis."
   ]
  },
  {
   "cell_type": "code",
   "execution_count": 3,
   "id": "c698d5ad",
   "metadata": {
    "ExecuteTime": {
     "end_time": "2022-03-21T12:19:46.231971Z",
     "start_time": "2022-03-21T12:19:46.220889Z"
    }
   },
   "outputs": [
    {
     "data": {
      "text/plain": [
       "('a', 'b', 'c', 'd')"
      ]
     },
     "execution_count": 3,
     "metadata": {},
     "output_type": "execute_result"
    }
   ],
   "source": [
    "t = 'a', 'b', 'c', 'd'\n",
    "t"
   ]
  },
  {
   "cell_type": "code",
   "execution_count": 4,
   "id": "7f7f9b05",
   "metadata": {
    "ExecuteTime": {
     "end_time": "2022-03-21T12:19:52.567549Z",
     "start_time": "2022-03-21T12:19:52.563591Z"
    }
   },
   "outputs": [
    {
     "data": {
      "text/plain": [
       "tuple"
      ]
     },
     "execution_count": 4,
     "metadata": {},
     "output_type": "execute_result"
    }
   ],
   "source": [
    "type(t)"
   ]
  },
  {
   "cell_type": "code",
   "execution_count": 5,
   "id": "25c7dc3f",
   "metadata": {
    "ExecuteTime": {
     "end_time": "2022-03-21T12:20:43.191411Z",
     "start_time": "2022-03-21T12:20:43.186328Z"
    }
   },
   "outputs": [
    {
     "data": {
      "text/plain": [
       "tuple"
      ]
     },
     "execution_count": 5,
     "metadata": {},
     "output_type": "execute_result"
    }
   ],
   "source": [
    "# Para criar uma tupla com um único elemento, é preciso incluir uma vírgula final: \n",
    "t1 = 'a',\n",
    "type(t1)"
   ]
  },
  {
   "cell_type": "code",
   "execution_count": 6,
   "id": "c83a1f9a",
   "metadata": {
    "ExecuteTime": {
     "end_time": "2022-03-21T12:21:23.269268Z",
     "start_time": "2022-03-21T12:21:23.265753Z"
    }
   },
   "outputs": [
    {
     "data": {
      "text/plain": [
       "()"
      ]
     },
     "execution_count": 6,
     "metadata": {},
     "output_type": "execute_result"
    }
   ],
   "source": [
    "# Outra forma de criar tupla é com a função integrada tuple. \n",
    "t = tuple()\n",
    "t"
   ]
  },
  {
   "cell_type": "code",
   "execution_count": 8,
   "id": "f8aacea0",
   "metadata": {
    "ExecuteTime": {
     "end_time": "2022-03-21T12:21:58.102078Z",
     "start_time": "2022-03-21T12:21:58.097533Z"
    }
   },
   "outputs": [
    {
     "data": {
      "text/plain": [
       "('l', 'u', 'p', 'i', 'n', 's')"
      ]
     },
     "execution_count": 8,
     "metadata": {},
     "output_type": "execute_result"
    }
   ],
   "source": [
    "# Se os argumentos forem uma sequência (string, lista ou tupla), o resultado é uma tupla\n",
    "#com os elementos da sequência:\n",
    "\n",
    "t = tuple('lupins')\n",
    "t"
   ]
  },
  {
   "cell_type": "code",
   "execution_count": 10,
   "id": "7262face",
   "metadata": {
    "ExecuteTime": {
     "end_time": "2022-03-21T12:44:19.936546Z",
     "start_time": "2022-03-21T12:44:19.932839Z"
    }
   },
   "outputs": [
    {
     "name": "stdout",
     "output_type": "stream",
     "text": [
      "a\n",
      "('b', 'c')\n"
     ]
    }
   ],
   "source": [
    "#A maior parte dos operadores de lista também funciona em tuplas. O operador de\n",
    "#colchetes indexa um elemento:\n",
    "t = 'a', 'b', 'c', 'd', 'e'\n",
    "print(t[0])\n",
    "print(t[1:3])"
   ]
  },
  {
   "cell_type": "code",
   "execution_count": 12,
   "id": "32b4ac5b",
   "metadata": {
    "ExecuteTime": {
     "end_time": "2022-03-21T12:45:15.613851Z",
     "start_time": "2022-03-21T12:45:15.609893Z"
    }
   },
   "outputs": [
    {
     "data": {
      "text/plain": [
       "('A', 'b', 'c', 'd', 'e')"
      ]
     },
     "execution_count": 12,
     "metadata": {},
     "output_type": "execute_result"
    }
   ],
   "source": [
    "#Como tuplas são imutáveis, você não pode alterar os elementos, mas pode substituir uma\n",
    "#tupla por outra:\n",
    "t = ('A',) + t[1:]\n",
    "t"
   ]
  },
  {
   "cell_type": "markdown",
   "id": "20844a42",
   "metadata": {},
   "source": [
    "### Atribuição de tuplas: \n",
    "Muitas vezes, é útil trocar os valores de duas variáveis. Com a atribuição convencional, é\n",
    "preciso usar uma variável temporária. Por exemplo, trocar a e b.\n",
    "\n",
    "temp = a\n",
    "\n",
    "a = b\n",
    "\n",
    "b = temp"
   ]
  },
  {
   "cell_type": "code",
   "execution_count": 14,
   "id": "1d42ad1c",
   "metadata": {
    "ExecuteTime": {
     "end_time": "2022-03-21T12:47:13.322708Z",
     "start_time": "2022-03-21T12:47:13.318884Z"
    }
   },
   "outputs": [
    {
     "name": "stdout",
     "output_type": "stream",
     "text": [
      "2\n",
      "3\n"
     ]
    }
   ],
   "source": [
    "a , b = 2, 3\n",
    "print(a)\n",
    "print(b)"
   ]
  },
  {
   "cell_type": "code",
   "execution_count": 17,
   "id": "42e3ff7f",
   "metadata": {
    "ExecuteTime": {
     "end_time": "2022-03-21T12:48:28.665257Z",
     "start_time": "2022-03-21T12:48:28.662348Z"
    }
   },
   "outputs": [
    {
     "name": "stdout",
     "output_type": "stream",
     "text": [
      "monty\n",
      "python.org\n"
     ]
    }
   ],
   "source": [
    "# De forma geral, o lado direito pode ter qualquer tipo de sequência (string, lista ou tupla).\n",
    "#Por exemplo, para dividir um endereço de email em um nome de usuário e um domínio,\n",
    "#você poderia escrever:\n",
    "\n",
    "addr = 'monty@python.org'\n",
    "uname, domain = addr.split('@')\n",
    "print(uname)\n",
    "print(domain)"
   ]
  },
  {
   "cell_type": "markdown",
   "id": "a7e82be5",
   "metadata": {},
   "source": [
    "### Tuplas como valores de retorno\n",
    "\n",
    "Falando estritamente, uma função só pode retornar um valor, mas se o valor for uma tupla,\n",
    "o efeito é o mesmo que retornar valores múltiplos. Por exemplo, se você quiser dividir\n",
    "dois números inteiros e calcular o quociente e resto, não é eficiente calcular x/y e depois\n",
    "x%y. É melhor calcular ambos ao mesmo tempo"
   ]
  },
  {
   "cell_type": "code",
   "execution_count": 18,
   "id": "b1364e46",
   "metadata": {
    "ExecuteTime": {
     "end_time": "2022-03-21T12:49:33.222348Z",
     "start_time": "2022-03-21T12:49:33.218494Z"
    }
   },
   "outputs": [
    {
     "data": {
      "text/plain": [
       "(2, 1)"
      ]
     },
     "execution_count": 18,
     "metadata": {},
     "output_type": "execute_result"
    }
   ],
   "source": [
    "#A função integrada divmod toma dois argumentos e devolve uma tupla de dois valores: o\n",
    "#quociente e o resto. Você pode guardar o resultado como uma tupla:\n",
    "\n",
    "t = divmod(7, 3)\n",
    "t"
   ]
  },
  {
   "cell_type": "code",
   "execution_count": 19,
   "id": "312548c8",
   "metadata": {
    "ExecuteTime": {
     "end_time": "2022-03-21T12:50:03.119176Z",
     "start_time": "2022-03-21T12:50:03.114852Z"
    }
   },
   "outputs": [
    {
     "name": "stdout",
     "output_type": "stream",
     "text": [
      "2\n",
      "1\n"
     ]
    }
   ],
   "source": [
    "quot, rem = divmod(7, 3)\n",
    "print(quot)\n",
    "print(rem)"
   ]
  },
  {
   "cell_type": "code",
   "execution_count": 20,
   "id": "33a10364",
   "metadata": {
    "ExecuteTime": {
     "end_time": "2022-03-21T12:51:02.983456Z",
     "start_time": "2022-03-21T12:51:02.978141Z"
    }
   },
   "outputs": [
    {
     "data": {
      "text/plain": [
       "(1, 8)"
      ]
     },
     "execution_count": 20,
     "metadata": {},
     "output_type": "execute_result"
    }
   ],
   "source": [
    "# Exemplo de uma função que retorna uma tupla: \n",
    "\n",
    "def min_max(t):\n",
    "    return min(t), max(t)\n",
    "\n",
    "min_max([1 ,2 ,3 ,4, 5, 1 ,2, 3, 6, 8])"
   ]
  },
  {
   "cell_type": "markdown",
   "id": "5aa6384a",
   "metadata": {},
   "source": [
    "### Tuplas com argumentos de comprimento variável: \n",
    "\n",
    "As funções podem receber um número variável de argumentos. Um nome de parâmetro\n",
    "que comece com * reúne vários argumentos em uma tupla. Por exemplo, printall recebe\n",
    "qualquer número de argumentos e os exibe:"
   ]
  },
  {
   "cell_type": "code",
   "execution_count": 26,
   "id": "022649fd",
   "metadata": {
    "ExecuteTime": {
     "end_time": "2022-03-21T13:00:34.113400Z",
     "start_time": "2022-03-21T13:00:34.109644Z"
    }
   },
   "outputs": [
    {
     "name": "stdout",
     "output_type": "stream",
     "text": [
      "('lala', 2, 3, 54, 'Tupan')\n"
     ]
    }
   ],
   "source": [
    "def printall(*args):\n",
    "    print(args)\n",
    "\n",
    "printall('lala', 2, 3, 54, 'Tupan')"
   ]
  },
  {
   "cell_type": "code",
   "execution_count": 35,
   "id": "a10e79d7",
   "metadata": {
    "ExecuteTime": {
     "end_time": "2022-03-21T13:06:19.813996Z",
     "start_time": "2022-03-21T13:06:19.808890Z"
    }
   },
   "outputs": [
    {
     "data": {
      "text/plain": [
       "15"
      ]
     },
     "execution_count": 35,
     "metadata": {},
     "output_type": "execute_result"
    }
   ],
   "source": [
    "#Como exercício, escreva uma função chamada sumall que receba qualquer número de\n",
    "#argumentos e retorne a soma deles.\n",
    "\n",
    "def sumall(*args):\n",
    "    \"\"\" Retorna a somatória dos elementos;\n",
    "    arg: \n",
    "        *args : sequencia de uma tupla contendo elementos int ou float. \n",
    "    \"\"\"\n",
    "    res = 0\n",
    "    for index in args: \n",
    "        res = res + index\n",
    "    return res\n",
    "    \n",
    "sumall(1, 2, 3, 4, 5)"
   ]
  },
  {
   "cell_type": "markdown",
   "id": "6d0ac57c",
   "metadata": {},
   "source": [
    "### Lista e tuplas: \n",
    "\n",
    "zip é uma função integrada que recebe duas ou mais sequências e devolve uma lista de\n",
    "tuplas onde cada tupla contém um elemento de cada sequência. O nome da função tem a\n",
    "ver com o zíper, que se junta e encaixa duas carreiras de dentes."
   ]
  },
  {
   "cell_type": "code",
   "execution_count": 36,
   "id": "09024891",
   "metadata": {
    "ExecuteTime": {
     "end_time": "2022-03-21T13:08:18.432625Z",
     "start_time": "2022-03-21T13:08:18.426067Z"
    }
   },
   "outputs": [
    {
     "data": {
      "text/plain": [
       "<zip at 0x7f635422c740>"
      ]
     },
     "execution_count": 36,
     "metadata": {},
     "output_type": "execute_result"
    }
   ],
   "source": [
    "# Exemplo encaixa uma string e uma lista:\n",
    "\n",
    "s = 'abc'\n",
    "t = [0, 1, 2]\n",
    "zip(s,t)"
   ]
  },
  {
   "cell_type": "code",
   "execution_count": 37,
   "id": "b5860c8d",
   "metadata": {
    "ExecuteTime": {
     "end_time": "2022-03-21T13:09:05.189472Z",
     "start_time": "2022-03-21T13:09:05.185088Z"
    }
   },
   "outputs": [
    {
     "name": "stdout",
     "output_type": "stream",
     "text": [
      "('a', 0)\n",
      "('b', 1)\n",
      "('c', 2)\n"
     ]
    }
   ],
   "source": [
    "# O resultado é um objeto zip que sabe como percorrer os pares. O uso mais comum de zip\n",
    "#é em um loop for :\n",
    "for pair in zip(s, t):\n",
    "    print(pair)"
   ]
  },
  {
   "cell_type": "code",
   "execution_count": 38,
   "id": "bf98d0a6",
   "metadata": {
    "ExecuteTime": {
     "end_time": "2022-03-21T13:09:50.045657Z",
     "start_time": "2022-03-21T13:09:50.041203Z"
    }
   },
   "outputs": [
    {
     "data": {
      "text/plain": [
       "[('a', 0), ('b', 1), ('c', 2)]"
      ]
     },
     "execution_count": 38,
     "metadata": {},
     "output_type": "execute_result"
    }
   ],
   "source": [
    "list(zip(s,t))"
   ]
  },
  {
   "cell_type": "code",
   "execution_count": 39,
   "id": "be422548",
   "metadata": {
    "ExecuteTime": {
     "end_time": "2022-03-21T13:10:45.637420Z",
     "start_time": "2022-03-21T13:10:45.633463Z"
    }
   },
   "outputs": [
    {
     "data": {
      "text/plain": [
       "[('A', 'E'), ('n', 'l'), ('n', 'k')]"
      ]
     },
     "execution_count": 39,
     "metadata": {},
     "output_type": "execute_result"
    }
   ],
   "source": [
    "# Se as sequências não forem do mesmo comprimento, o resultado tem o comprimento da\n",
    "#mais curta:\n",
    "list(zip('Anne','Elk'))   "
   ]
  },
  {
   "cell_type": "code",
   "execution_count": 40,
   "id": "269d6e19",
   "metadata": {
    "ExecuteTime": {
     "end_time": "2022-03-21T13:12:13.593948Z",
     "start_time": "2022-03-21T13:12:13.587648Z"
    }
   },
   "outputs": [
    {
     "name": "stdout",
     "output_type": "stream",
     "text": [
      "a 0\n",
      "b 1\n",
      "c 2\n"
     ]
    }
   ],
   "source": [
    "#Você pode usar a atribuição de tuplas em um loop for para atravessar uma lista de tuplas:\n",
    "t = [('a', 0), ('b', 1), ('c', 2)]\n",
    "for letter, number in t:\n",
    "    print(letter, number)"
   ]
  },
  {
   "cell_type": "code",
   "execution_count": 41,
   "id": "662d4ec0",
   "metadata": {
    "ExecuteTime": {
     "end_time": "2022-03-21T13:15:01.350114Z",
     "start_time": "2022-03-21T13:15:01.345474Z"
    }
   },
   "outputs": [
    {
     "data": {
      "text/plain": [
       "True"
      ]
     },
     "execution_count": 41,
     "metadata": {},
     "output_type": "execute_result"
    }
   ],
   "source": [
    "#Se combinar zip , for e atribuição de tuplas, você pode fazer uma expressão útil para\n",
    "#percorrer duas (ou mais) sequências ao mesmo tempo. Por exemplo, has_match recebe\n",
    "#duas sequências, t1 e t2 e retorna True se houver um índice i tal que t1[i] == t2[i] :\n",
    "\n",
    "def has_match(t1, t2):\n",
    "    for x, y in zip(t1,t2):\n",
    "        if x == y:\n",
    "            return True\n",
    "    return False\n",
    "\n",
    "has_match('lalaland', 'lalaland')"
   ]
  },
  {
   "cell_type": "code",
   "execution_count": 42,
   "id": "51317532",
   "metadata": {
    "ExecuteTime": {
     "end_time": "2022-03-21T13:16:27.005623Z",
     "start_time": "2022-03-21T13:16:27.000462Z"
    }
   },
   "outputs": [
    {
     "name": "stdout",
     "output_type": "stream",
     "text": [
      "0 a\n",
      "1 b\n",
      "2 c\n",
      "3 d\n",
      "4 e\n"
     ]
    }
   ],
   "source": [
    "# Se precisar atravessar os elementos de uma sequência e seus índices, você pode usar a\n",
    "#função integrada enumerate :\n",
    "for index, element in enumerate('abcde'):\n",
    "    print(index, element)"
   ]
  },
  {
   "cell_type": "markdown",
   "id": "b41c0940",
   "metadata": {},
   "source": [
    "### Dicionários e Tuplas: \n"
   ]
  },
  {
   "cell_type": "code",
   "execution_count": 44,
   "id": "fa12d0aa",
   "metadata": {
    "ExecuteTime": {
     "end_time": "2022-03-21T13:18:05.780394Z",
     "start_time": "2022-03-21T13:18:05.776420Z"
    }
   },
   "outputs": [
    {
     "data": {
      "text/plain": [
       "dict_items([('a', 0), ('b', 1), ('c', 2)])"
      ]
     },
     "execution_count": 44,
     "metadata": {},
     "output_type": "execute_result"
    }
   ],
   "source": [
    "# Os dicionários têm um método chamado items que devolve uma sequência de tuplas,\n",
    "# onde cada tupla é um par chave-valor:\n",
    "\n",
    "d = {'a': 0, 'b': 1, 'c': 2}\n",
    "t = d.items()\n",
    "t"
   ]
  },
  {
   "cell_type": "code",
   "execution_count": 45,
   "id": "fbabcbab",
   "metadata": {
    "ExecuteTime": {
     "end_time": "2022-03-21T13:20:57.810526Z",
     "start_time": "2022-03-21T13:20:57.806126Z"
    }
   },
   "outputs": [
    {
     "name": "stdout",
     "output_type": "stream",
     "text": [
      "a 0\n",
      "b 1\n",
      "c 2\n"
     ]
    }
   ],
   "source": [
    "for key, value in d.items():\n",
    "    print(key, value)"
   ]
  },
  {
   "cell_type": "code",
   "execution_count": 49,
   "id": "10721710",
   "metadata": {
    "ExecuteTime": {
     "end_time": "2022-03-21T13:23:52.970320Z",
     "start_time": "2022-03-21T13:23:52.963581Z"
    }
   },
   "outputs": [
    {
     "data": {
      "text/plain": [
       "{'a': 0, 'b': 1, 'c': 3}"
      ]
     },
     "execution_count": 49,
     "metadata": {},
     "output_type": "execute_result"
    }
   ],
   "source": [
    "# Indo em outra direção, você pode usar uma lista de tuplas para inicializar um novo\n",
    "# dicionário:\n",
    "t = [('a', 0), ('b', 1), ('c', 3)]\n",
    "d = dict(t)\n",
    "d"
   ]
  },
  {
   "cell_type": "code",
   "execution_count": 51,
   "id": "1260477b",
   "metadata": {
    "ExecuteTime": {
     "end_time": "2022-03-21T13:24:45.159282Z",
     "start_time": "2022-03-21T13:24:45.155457Z"
    }
   },
   "outputs": [
    {
     "data": {
      "text/plain": [
       "{'a': 0, 'b': 1, 'c': 2, 'd': 3}"
      ]
     },
     "execution_count": 51,
     "metadata": {},
     "output_type": "execute_result"
    }
   ],
   "source": [
    "# Combinar dict com zip produz uma forma concisa de criar um dicionário:\n",
    "d = dict(zip('abcd', range(4)))\n",
    "d"
   ]
  },
  {
   "cell_type": "markdown",
   "id": "515c213d",
   "metadata": {},
   "source": [
    "* O método de dicionário update também recebe uma lista de tuplas e as adiciona, como\n",
    "pares chave-valor, a um dicionário existente.\n",
    "É comum usar tuplas como chaves em dicionários (principalmente porque você não podeusar listas). Por exemplo, uma lista telefônica poderia mapear pares de sobrenome e\n",
    "primeiro nome a números de telefone. Supondo que tenhamos definido last, first e number,\n",
    "podemos escrever:"
   ]
  },
  {
   "cell_type": "code",
   "execution_count": 54,
   "id": "3e15024a",
   "metadata": {
    "ExecuteTime": {
     "end_time": "2022-03-21T13:30:14.066810Z",
     "start_time": "2022-03-21T13:30:14.061434Z"
    }
   },
   "outputs": [
    {
     "data": {
      "text/plain": [
       "{('last', 'first'): 800000}"
      ]
     },
     "execution_count": 54,
     "metadata": {},
     "output_type": "execute_result"
    }
   ],
   "source": [
    "p = dict()\n",
    "p['last', 'first'] = 800000\n",
    "p"
   ]
  },
  {
   "cell_type": "code",
   "execution_count": null,
   "id": "1f5131c6",
   "metadata": {},
   "outputs": [],
   "source": []
  },
  {
   "cell_type": "markdown",
   "id": "ce8cf9f7",
   "metadata": {},
   "source": [
    "### Sequências de sequências: \n",
    "Eu me concentrei em listas de tuplas, mas quase todos os exemplos neste capítulo também\n",
    "funcionam com listas de listas, tuplas de tuplas e tuplas de listas. Para evitar enumerar as\n",
    "combinações possíveis, às vezes é mais fácil falar sobre sequências de sequências.\n",
    "Em muitos contextos, os tipos diferentes de sequências (strings, listas e tuplas) podem serusados de forma intercambiável. Então, como escolher uma em vez da outra?\n",
    "Para começar com o óbvio, as strings são mais limitadas que outras sequências porque os\n",
    "elementos têm de ser caracteres. Também são imutáveis. Se precisar da capacidade de\n",
    "alterar caracteres em uma string (em vez de criar outra string) você pode querer usar uma\n",
    "lista de caracteres.\n",
    "As listas são mais comuns que as tuplas, principalmente porque são mutáveis. Mas há\n",
    "alguns casos em que você pode preferir tuplas:\n",
    "\n",
    "1. Em alguns contextos, como em uma instrução return , é sintaticamente mais simples\n",
    "criar uma tupla que uma lista.\n",
    "\n",
    "2. Se quiser usar uma sequência como uma chave de dicionário, é preciso usar um tipo\n",
    "imutável como uma tupla ou string.\n",
    "\n",
    "3. Se estiver passando uma sequência como um argumento a uma função, usar tuplas\n",
    "reduz o potencial de comportamento inesperado devido a alias.\n",
    "\n",
    "Como tuplas são imutáveis, elas não fornecem métodos como sort e reverse , que alteram\n",
    "listas existentes. Porém, o Python fornece a função integrada sorted , que recebe qualquer\n",
    "sequência e retorna uma nova lista com os mesmos elementos ordenados, e reversed , que\n",
    "recebe uma sequência e retorna um iterador que percorre a lista em ordem reversa."
   ]
  },
  {
   "cell_type": "markdown",
   "id": "fcbcd2fc",
   "metadata": {
    "ExecuteTime": {
     "end_time": "2022-03-21T13:40:49.313386Z",
     "start_time": "2022-03-21T13:40:49.311014Z"
    }
   },
   "source": [
    "### Exercicios\n"
   ]
  },
  {
   "cell_type": "markdown",
   "id": "531c1325",
   "metadata": {},
   "source": [
    "* Exercicio 12.1: Escreva uma função chmada mos-frequent que receba uma string e exiba as letras em ordem decrescenten de frequencia. Encontre amostras de texto de vários idiomas diferentes e veja como a frequencia das letras varia entre os idiomas. - https://en.wikipedia.org/wiki/Letter_frequency"
   ]
  },
  {
   "cell_type": "code",
   "execution_count": 15,
   "id": "9e9700e4",
   "metadata": {
    "ExecuteTime": {
     "end_time": "2022-03-28T09:51:15.775508Z",
     "start_time": "2022-03-28T09:51:15.771765Z"
    }
   },
   "outputs": [],
   "source": [
    "# Falta terminar este exercicio (Data registro: 28/03/2022)\n",
    "def most_frequency(string):\n",
    "    print(string)\n",
    "    \n",
    "    return 0\n",
    "\n",
    "\n",
    "# usando o método .get() para escrever a função histogram de forma mais concisa\n",
    "def histogram(s):\n",
    "    d = dict()\n",
    "    \n",
    "    for letter in s:\n",
    "        \n",
    "        d[letter] = d.get(letter, 0 ) + 1 \n",
    "     \n",
    "    return d\n",
    "    "
   ]
  },
  {
   "cell_type": "code",
   "execution_count": 10,
   "id": "4111aeb8",
   "metadata": {
    "ExecuteTime": {
     "end_time": "2022-03-28T09:48:09.671018Z",
     "start_time": "2022-03-28T09:48:09.666478Z"
    }
   },
   "outputs": [
    {
     "name": "stdout",
     "output_type": "stream",
     "text": [
      "palavra\n"
     ]
    },
    {
     "data": {
      "text/plain": [
       "0"
      ]
     },
     "execution_count": 10,
     "metadata": {},
     "output_type": "execute_result"
    }
   ],
   "source": [
    "most_frequency('palavra')"
   ]
  },
  {
   "cell_type": "code",
   "execution_count": 13,
   "id": "9d00fac0",
   "metadata": {
    "ExecuteTime": {
     "end_time": "2022-03-28T09:48:53.864598Z",
     "start_time": "2022-03-28T09:48:53.860405Z"
    }
   },
   "outputs": [
    {
     "data": {
      "text/plain": [
       "[5, 4, 3, 2, 1]"
      ]
     },
     "execution_count": 13,
     "metadata": {},
     "output_type": "execute_result"
    }
   ],
   "source": [
    "tu = [1 ,2 ,3 ,5, 4]\n",
    "sorted(tu, reverse=True)"
   ]
  },
  {
   "cell_type": "code",
   "execution_count": 14,
   "id": "59426524",
   "metadata": {
    "ExecuteTime": {
     "end_time": "2022-03-28T09:49:23.104124Z",
     "start_time": "2022-03-28T09:49:23.100107Z"
    }
   },
   "outputs": [
    {
     "data": {
      "text/plain": [
       "{'s': 1, 't': 1, 'r': 1, 'i': 1, 'n': 1, 'g': 1}"
      ]
     },
     "execution_count": 14,
     "metadata": {},
     "output_type": "execute_result"
    }
   ],
   "source": [
    "histogram('string')"
   ]
  },
  {
   "cell_type": "code",
   "execution_count": null,
   "id": "8ee19493",
   "metadata": {},
   "outputs": [],
   "source": []
  },
  {
   "cell_type": "code",
   "execution_count": null,
   "id": "707159d0",
   "metadata": {},
   "outputs": [],
   "source": []
  },
  {
   "cell_type": "code",
   "execution_count": null,
   "id": "3145678f",
   "metadata": {},
   "outputs": [],
   "source": []
  },
  {
   "cell_type": "code",
   "execution_count": null,
   "id": "48fe7b4e",
   "metadata": {},
   "outputs": [],
   "source": []
  },
  {
   "cell_type": "code",
   "execution_count": null,
   "id": "9b8092cf",
   "metadata": {},
   "outputs": [],
   "source": []
  },
  {
   "cell_type": "markdown",
   "id": "8eeea8a0",
   "metadata": {},
   "source": [
    "## Capítulo 14: Arquivos\n",
    "Este capítulo apresenta a ideia de programas “persistentes”, que mantêm dados em\n",
    "armazenamento permanente, e mostra como usar tipos diferentes de armazenamento\n",
    "permanente, como arquivos e bancos de dados"
   ]
  },
  {
   "cell_type": "markdown",
   "id": "4e20fc86",
   "metadata": {},
   "source": [
    "### Leitura e escrita: "
   ]
  },
  {
   "cell_type": "code",
   "execution_count": 64,
   "id": "004324b1",
   "metadata": {
    "ExecuteTime": {
     "end_time": "2022-03-21T13:49:19.301541Z",
     "start_time": "2022-03-21T13:49:19.298859Z"
    }
   },
   "outputs": [],
   "source": [
    "#Para escrever um arquivo texto, é preciso abri-lo com o modo 'w' como segundo\n",
    "#parâmetro:\n",
    "fout = open('output.txt', 'w')\n",
    "\n",
    "#Obs: Se o arquivo não existir, o open cria um novo, se ele existir ele apaga tudo do original e recria o arquivo do 0"
   ]
  },
  {
   "cell_type": "markdown",
   "id": "38e8ead4",
   "metadata": {},
   "source": [
    " * Se o arquivo já existe, abri-lo em modo de escrita elimina os dados antigos e começa tudo\n",
    "de novo, então tenha cuidado! Se o arquivo não existir, é criado um arquivo novo. open\n",
    "retorna um objeto de arquivo que fornece métodos para trabalhar com o arquivo. O\n",
    "método write põe dados no arquivo:"
   ]
  },
  {
   "cell_type": "code",
   "execution_count": 65,
   "id": "20953bca",
   "metadata": {
    "ExecuteTime": {
     "end_time": "2022-03-21T13:49:21.548833Z",
     "start_time": "2022-03-21T13:49:21.545795Z"
    }
   },
   "outputs": [],
   "source": [
    "line1 = \"This here's the wattle, \\n\"\n",
    "line2 = \" the emblem of our land.\\n\"\n",
    "fout.write(line1)\n",
    "fout.write(line2)\n",
    "fout.close()"
   ]
  },
  {
   "cell_type": "markdown",
   "id": "4ecfc1e9",
   "metadata": {},
   "source": [
    "### Operador de formatação: \n",
    "\n",
    "O argumento de write tem que ser uma string, então, se quisermos inserir outros valores\n",
    "em um arquivo, precisamos convertê-los em strings. O modo mais fácil de fazer isso é\n",
    "com str :"
   ]
  },
  {
   "cell_type": "code",
   "execution_count": 68,
   "id": "2575c233",
   "metadata": {
    "ExecuteTime": {
     "end_time": "2022-03-21T13:50:57.510763Z",
     "start_time": "2022-03-21T13:50:57.507196Z"
    }
   },
   "outputs": [],
   "source": [
    "x = 52\n",
    "fout2 = open('fout2.txt','w')\n",
    "fout2.write(str(x))\n",
    "\n",
    "fout2.close()"
   ]
  },
  {
   "cell_type": "markdown",
   "id": "199f600a",
   "metadata": {},
   "source": [
    "### Nomes de arquivo e caminhos: \n",
    "O módulo os fornece funções para trabalhar com arquivos e diretórios (“os” é a\n",
    "abreviação de “sistema operacional” em inglês). os.getcwd devolve o nome do diretório\n",
    "atual:"
   ]
  },
  {
   "cell_type": "code",
   "execution_count": 69,
   "id": "beeaa1ea",
   "metadata": {
    "ExecuteTime": {
     "end_time": "2022-03-21T14:04:52.325569Z",
     "start_time": "2022-03-21T14:04:52.321391Z"
    }
   },
   "outputs": [
    {
     "data": {
      "text/plain": [
       "'/home/rsp/Desktop/Codigos_python'"
      ]
     },
     "execution_count": 69,
     "metadata": {},
     "output_type": "execute_result"
    }
   ],
   "source": [
    "import os \n",
    "cwd = os.getcwd()\n",
    "cwd"
   ]
  },
  {
   "cell_type": "code",
   "execution_count": 70,
   "id": "39368165",
   "metadata": {
    "ExecuteTime": {
     "end_time": "2022-03-21T14:06:16.658465Z",
     "start_time": "2022-03-21T14:06:16.653631Z"
    }
   },
   "outputs": [
    {
     "data": {
      "text/plain": [
       "'/home/rsp/Desktop/Codigos_python/memo.txt'"
      ]
     },
     "execution_count": 70,
     "metadata": {},
     "output_type": "execute_result"
    }
   ],
   "source": [
    "os.path.abspath('memo.txt')"
   ]
  },
  {
   "cell_type": "code",
   "execution_count": 71,
   "id": "a6420bf9",
   "metadata": {
    "ExecuteTime": {
     "end_time": "2022-03-21T14:07:34.594310Z",
     "start_time": "2022-03-21T14:07:34.590724Z"
    }
   },
   "outputs": [
    {
     "data": {
      "text/plain": [
       "False"
      ]
     },
     "execution_count": 71,
     "metadata": {},
     "output_type": "execute_result"
    }
   ],
   "source": [
    "# os.path fornece outras funções para trabalhar com nomes de arquivo e caminhos. Por\n",
    "#xemplo, os.path.exists que verifica se um arquivo ou diretório existe:\n",
    "os.path.exists('memo.txt')"
   ]
  },
  {
   "cell_type": "code",
   "execution_count": 72,
   "id": "c22909c1",
   "metadata": {
    "ExecuteTime": {
     "end_time": "2022-03-21T14:08:12.450280Z",
     "start_time": "2022-03-21T14:08:12.447082Z"
    }
   },
   "outputs": [
    {
     "data": {
      "text/plain": [
       "False"
      ]
     },
     "execution_count": 72,
     "metadata": {},
     "output_type": "execute_result"
    }
   ],
   "source": [
    "# Se existir, os.path.isdir verifica se é um diretório:\n",
    "os.path.isdir('memo.txt')"
   ]
  },
  {
   "cell_type": "code",
   "execution_count": 73,
   "id": "2bd595ba",
   "metadata": {
    "ExecuteTime": {
     "end_time": "2022-03-21T14:09:06.922276Z",
     "start_time": "2022-03-21T14:09:06.918065Z"
    }
   },
   "outputs": [
    {
     "data": {
      "text/plain": [
       "False"
      ]
     },
     "execution_count": 73,
     "metadata": {},
     "output_type": "execute_result"
    }
   ],
   "source": [
    "# De forma similar, os.path.isfile verifica se é um arquivo.,\n",
    "os.path.isfile('/home/dinsdale')"
   ]
  },
  {
   "cell_type": "code",
   "execution_count": 74,
   "id": "abaa5aa2",
   "metadata": {
    "ExecuteTime": {
     "end_time": "2022-03-21T14:09:38.412270Z",
     "start_time": "2022-03-21T14:09:38.407523Z"
    }
   },
   "outputs": [
    {
     "data": {
      "text/plain": [
       "['output.txt',\n",
       " 'fout2.txt',\n",
       " 'words.txt',\n",
       " 'mypolygon.py',\n",
       " 'turtle',\n",
       " 'Caderno_Estudos.ipynb',\n",
       " '.ipynb_checkpoints',\n",
       " 'img.png']"
      ]
     },
     "execution_count": 74,
     "metadata": {},
     "output_type": "execute_result"
    }
   ],
   "source": [
    "# os.listdir retorna uma lista dos arquivos (e outros diretórios) no diretório dado:\n",
    "os.listdir(cwd)"
   ]
  },
  {
   "cell_type": "code",
   "execution_count": 76,
   "id": "4eff6205",
   "metadata": {
    "ExecuteTime": {
     "end_time": "2022-03-21T14:14:19.397553Z",
     "start_time": "2022-03-21T14:14:19.391131Z"
    }
   },
   "outputs": [
    {
     "ename": "NameError",
     "evalue": "name 'rsp' is not defined",
     "output_type": "error",
     "traceback": [
      "\u001b[0;31m---------------------------------------------------------------------------\u001b[0m",
      "\u001b[0;31mNameError\u001b[0m                                 Traceback (most recent call last)",
      "\u001b[0;32m/tmp/ipykernel_10003/1026320663.py\u001b[0m in \u001b[0;36m<module>\u001b[0;34m\u001b[0m\n\u001b[1;32m     10\u001b[0m             \u001b[0mwalk\u001b[0m\u001b[0;34m(\u001b[0m\u001b[0mpath\u001b[0m\u001b[0;34m)\u001b[0m\u001b[0;34m\u001b[0m\u001b[0;34m\u001b[0m\u001b[0m\n\u001b[1;32m     11\u001b[0m \u001b[0;34m\u001b[0m\u001b[0m\n\u001b[0;32m---> 12\u001b[0;31m \u001b[0mwalk\u001b[0m\u001b[0;34m(\u001b[0m\u001b[0mrsp\u001b[0m\u001b[0;34m)\u001b[0m\u001b[0;34m\u001b[0m\u001b[0;34m\u001b[0m\u001b[0m\n\u001b[0m",
      "\u001b[0;31mNameError\u001b[0m: name 'rsp' is not defined"
     ]
    }
   ],
   "source": [
    "# Para demonstrar essas funções, o exemplo seguinte “passeia” por um diretório, exibe os\n",
    "# nomes de todos os arquivos e chama a si mesmo recursivamente em todos os diretórios:\n",
    "\n",
    "def walk(dirname):\n",
    "    for name in os.listdir(dirname):\n",
    "        path = os.path.join(dirname, name)\n",
    "        if os.path.isfile(path):\n",
    "            print(path)\n",
    "        else:\n",
    "            walk(path)\n",
    "            \n"
   ]
  },
  {
   "cell_type": "code",
   "execution_count": null,
   "id": "274aec63",
   "metadata": {},
   "outputs": [],
   "source": [
    "# *** Deixado para complementar este capitulo \n"
   ]
  },
  {
   "cell_type": "code",
   "execution_count": null,
   "id": "2959e717",
   "metadata": {},
   "outputs": [],
   "source": []
  },
  {
   "cell_type": "markdown",
   "id": "2ce0437c",
   "metadata": {},
   "source": [
    "### Banco de dados: \n",
    "Um banco de dados é um arquivo organizado para armazenar dados. Muitos bancos de\n",
    "dados são organizados como um dicionário, porque mapeiam chaves a valores. A maior\n",
    "diferença entre um banco de dados e um dicionário é que o banco de dados está em um\n",
    "disco (ou outro armazenamento permanente), portanto persiste depois que o programa\n",
    "termina."
   ]
  },
  {
   "cell_type": "code",
   "execution_count": 6,
   "id": "911974e3",
   "metadata": {
    "ExecuteTime": {
     "end_time": "2022-03-21T18:13:08.137282Z",
     "start_time": "2022-03-21T18:13:08.133945Z"
    }
   },
   "outputs": [],
   "source": [
    "# O módulo dbm fornece uma interface para criar e atualizar arquivos de banco de dados.\n",
    "# Como exemplo, criarei um banco de dados que contém legendas de arquivos de imagem. \n",
    "\n",
    "import dbm \n",
    "\n",
    "db = dbm.open('captions','c' )\n",
    "db['cleese.png'] = 'photo of John Cleese'\n"
   ]
  },
  {
   "cell_type": "code",
   "execution_count": 7,
   "id": "5597fc1a",
   "metadata": {
    "ExecuteTime": {
     "end_time": "2022-03-21T18:13:09.031717Z",
     "start_time": "2022-03-21T18:13:09.027482Z"
    }
   },
   "outputs": [
    {
     "data": {
      "text/plain": [
       "b'photo of John Cleese'"
      ]
     },
     "execution_count": 7,
     "metadata": {},
     "output_type": "execute_result"
    }
   ],
   "source": [
    "db['cleese.png']"
   ]
  },
  {
   "cell_type": "code",
   "execution_count": null,
   "id": "0f5026b9",
   "metadata": {
    "ExecuteTime": {
     "end_time": "2022-03-21T18:12:53.832805Z",
     "start_time": "2022-03-21T18:12:53.828825Z"
    }
   },
   "outputs": [],
   "source": []
  },
  {
   "cell_type": "markdown",
   "id": "668dd0c3",
   "metadata": {},
   "source": [
    "* O resultado é um objeto bytes, o que explica a inicial b. Um objeto bytes é semelhante a uma string, de muitas formas."
   ]
  },
  {
   "cell_type": "code",
   "execution_count": 9,
   "id": "8b501377",
   "metadata": {
    "ExecuteTime": {
     "end_time": "2022-03-21T18:13:23.356464Z",
     "start_time": "2022-03-21T18:13:23.351480Z"
    }
   },
   "outputs": [
    {
     "data": {
      "text/plain": [
       "b'Photo of John Cleese doing a silly walk.'"
      ]
     },
     "execution_count": 9,
     "metadata": {},
     "output_type": "execute_result"
    }
   ],
   "source": [
    "# Se fizer outra atribuição a uma chave existente, o dbm substitui o valor antigo: \n",
    "db['cleese.png'] = 'Photo of John Cleese doing a silly walk.'\n",
    "db['cleese.png']"
   ]
  },
  {
   "cell_type": "code",
   "execution_count": 12,
   "id": "fb3d907b",
   "metadata": {
    "ExecuteTime": {
     "end_time": "2022-03-21T18:15:35.593850Z",
     "start_time": "2022-03-21T18:15:35.590221Z"
    }
   },
   "outputs": [
    {
     "name": "stdout",
     "output_type": "stream",
     "text": [
      "b'cleese.png' b'Photo of John Cleese doing a silly walk.'\n"
     ]
    }
   ],
   "source": [
    "# Alguns métodos de dicionário, como keys e items, não funcionam com objetos de banco de dados. No entando, a iteração com um loop for, sim: \n",
    "for key in db: \n",
    "    print(key, db[key])\n",
    "    \n"
   ]
  },
  {
   "cell_type": "code",
   "execution_count": null,
   "id": "3aa496ab",
   "metadata": {},
   "outputs": [],
   "source": []
  },
  {
   "cell_type": "markdown",
   "id": "84d338d8",
   "metadata": {},
   "source": [
    "### Pipes "
   ]
  },
  {
   "cell_type": "code",
   "execution_count": 17,
   "id": "94e06e92",
   "metadata": {
    "ExecuteTime": {
     "end_time": "2022-03-21T18:42:42.983817Z",
     "start_time": "2022-03-21T18:42:42.976340Z"
    }
   },
   "outputs": [],
   "source": [
    "import os\n",
    "cmd = 'ls'\n",
    "fp = os.popen(cmd)\n",
    "res = fp.read()"
   ]
  },
  {
   "cell_type": "code",
   "execution_count": 18,
   "id": "da9cee8b",
   "metadata": {
    "ExecuteTime": {
     "end_time": "2022-03-21T18:42:44.543137Z",
     "start_time": "2022-03-21T18:42:44.538250Z"
    }
   },
   "outputs": [
    {
     "data": {
      "text/plain": [
       "'Caderno_Estudos.ipynb\\ncaptions.bak\\ncaptions.dat\\ncaptions.dir\\nfout2.txt\\nimg.png\\nmypolygon.py\\noutput.txt\\nturtle\\nwords.txt\\n'"
      ]
     },
     "execution_count": 18,
     "metadata": {},
     "output_type": "execute_result"
    }
   ],
   "source": [
    "res "
   ]
  },
  {
   "cell_type": "code",
   "execution_count": 19,
   "id": "fd434199",
   "metadata": {
    "ExecuteTime": {
     "end_time": "2022-03-21T18:43:43.580578Z",
     "start_time": "2022-03-21T18:43:43.577139Z"
    }
   },
   "outputs": [
    {
     "name": "stdout",
     "output_type": "stream",
     "text": [
      "None\n"
     ]
    }
   ],
   "source": [
    "# Ao terminar, feche o pipe como se fosse um arquivo: \n",
    "stat = fp.close()\n",
    "print(stat)"
   ]
  },
  {
   "cell_type": "code",
   "execution_count": 20,
   "id": "f4fe3978",
   "metadata": {
    "ExecuteTime": {
     "end_time": "2022-03-21T18:52:43.981346Z",
     "start_time": "2022-03-21T18:52:43.979292Z"
    }
   },
   "outputs": [],
   "source": [
    "# Deixado em branco para mais exercicios"
   ]
  },
  {
   "cell_type": "code",
   "execution_count": null,
   "id": "c002a34f",
   "metadata": {},
   "outputs": [],
   "source": []
  },
  {
   "cell_type": "markdown",
   "id": "f230a779",
   "metadata": {},
   "source": [
    "## Capitulo 15 - Classes e Objetos\n"
   ]
  },
  {
   "cell_type": "code",
   "execution_count": 19,
   "id": "bf513b13",
   "metadata": {
    "ExecuteTime": {
     "end_time": "2022-04-17T00:56:06.481824Z",
     "start_time": "2022-04-17T00:56:06.477694Z"
    }
   },
   "outputs": [
    {
     "data": {
      "text/plain": [
       "<__main__.Point at 0x7f011e5485e0>"
      ]
     },
     "execution_count": 19,
     "metadata": {},
     "output_type": "execute_result"
    }
   ],
   "source": [
    "# Definição class Point:\n",
    "class Point():\n",
    "    \"\"\"\n",
    "    Represents a point in 2-D space.\n",
    "    \"\"\"\n",
    "    \n",
    "Point()\n",
    "\n",
    "# *OBs: Como Point é definido no nível superior, seu nome \"nome completo\" [ ]\n",
    "# Cada objeto é uma instância de alguma classe, então \" objeto\" e \"instância\" são intercambiáveis."
   ]
  },
  {
   "cell_type": "markdown",
   "id": "0c31c4fb",
   "metadata": {},
   "source": [
    "* Atributos: Você pode atribuir valores a uma instância usando a notação de ponto: "
   ]
  },
  {
   "cell_type": "code",
   "execution_count": 20,
   "id": "d0669998",
   "metadata": {
    "ExecuteTime": {
     "end_time": "2022-04-17T00:56:07.709215Z",
     "start_time": "2022-04-17T00:56:07.705945Z"
    }
   },
   "outputs": [],
   "source": [
    "blank = Point() # Instanciando um objeto através da class Point\n",
    "blank.x = 3.0\n",
    "blank.y = 4.0\n",
    "\n",
    "# Obs: Nesse caso, estamosa tribuindo valores a elementos nomeados de um objeto. Esses elementos chamam-se atributos"
   ]
  },
  {
   "cell_type": "code",
   "execution_count": 21,
   "id": "05b812a3",
   "metadata": {
    "ExecuteTime": {
     "end_time": "2022-04-17T00:56:08.224416Z",
     "start_time": "2022-04-17T00:56:08.221151Z"
    }
   },
   "outputs": [
    {
     "name": "stdout",
     "output_type": "stream",
     "text": [
      "3.0\n",
      "4.0\n"
     ]
    }
   ],
   "source": [
    "# POde-se ler o atributo do objeto blank pela mesma sintaxe:\n",
    "print(blank.x)\n",
    "print(blank.y)"
   ]
  },
  {
   "cell_type": "code",
   "execution_count": 22,
   "id": "2a016c18",
   "metadata": {
    "ExecuteTime": {
     "end_time": "2022-04-17T00:56:08.806314Z",
     "start_time": "2022-04-17T00:56:08.801902Z"
    }
   },
   "outputs": [
    {
     "data": {
      "text/plain": [
       "5.0"
      ]
     },
     "execution_count": 22,
     "metadata": {},
     "output_type": "execute_result"
    }
   ],
   "source": [
    "# Pode-se usar notações de ponto como parte de qualquer expressão: \n",
    "import math\n",
    "distance = math.sqrt(blank.x**2 + blank.y**2)\n",
    "distance"
   ]
  },
  {
   "cell_type": "code",
   "execution_count": 23,
   "id": "66cf35f5",
   "metadata": {
    "ExecuteTime": {
     "end_time": "2022-04-17T00:56:09.369740Z",
     "start_time": "2022-04-17T00:56:09.366097Z"
    }
   },
   "outputs": [
    {
     "name": "stdout",
     "output_type": "stream",
     "text": [
      "3.0\n",
      "4.0\n"
     ]
    }
   ],
   "source": [
    "# Pode-se passar um argumento da forma habitual: \n",
    "def print_p(p):\n",
    "    print(p.x)\n",
    "    print(p.y)\n",
    "\n",
    "print_p(blank)"
   ]
  },
  {
   "cell_type": "code",
   "execution_count": 24,
   "id": "c0cb278d",
   "metadata": {
    "ExecuteTime": {
     "end_time": "2022-04-17T00:56:10.172052Z",
     "start_time": "2022-04-17T00:56:10.167675Z"
    }
   },
   "outputs": [
    {
     "data": {
      "text/plain": [
       "5.0"
      ]
     },
     "execution_count": 24,
     "metadata": {},
     "output_type": "execute_result"
    }
   ],
   "source": [
    "# Como exericio, escreva uma função chamada distance_between_points, que toma dois pontos \n",
    "#como argumentos e retorna a distância entre eles:\n",
    "\n",
    "def distance_between_points(x,y):\n",
    "    return math.sqrt(blank.x**2 + blank.y**2)\n",
    "\n",
    "distance_between_points(blank.x, blank.y)"
   ]
  },
  {
   "cell_type": "code",
   "execution_count": 25,
   "id": "3f7f15d6",
   "metadata": {
    "ExecuteTime": {
     "end_time": "2022-04-17T00:56:12.064534Z",
     "start_time": "2022-04-17T00:56:12.061204Z"
    }
   },
   "outputs": [],
   "source": [
    "# Criando uma classe para definição de Retângulo: \n",
    "\n",
    "class Rectangle():\n",
    "    \"\"\" Represents a rectangle.\n",
    "     \n",
    "     arg: \n",
    "         width, height, corner\n",
    "    \"\"\""
   ]
  },
  {
   "cell_type": "code",
   "execution_count": 26,
   "id": "38369b11",
   "metadata": {
    "ExecuteTime": {
     "end_time": "2022-04-17T00:56:12.529812Z",
     "start_time": "2022-04-17T00:56:12.526455Z"
    }
   },
   "outputs": [],
   "source": [
    "# Instanciando um objeto box:\n",
    "\n",
    "box = Rectangle()\n",
    "box.width = 100.0\n",
    "box.height = 200.0\n",
    "box.corner = Point()\n",
    "box.corner.x = 0.0\n",
    "box.corner.y = 0.0"
   ]
  },
  {
   "cell_type": "code",
   "execution_count": 27,
   "id": "91afb49a",
   "metadata": {
    "ExecuteTime": {
     "end_time": "2022-04-17T00:56:15.897396Z",
     "start_time": "2022-04-17T00:56:15.892708Z"
    }
   },
   "outputs": [
    {
     "name": "stdout",
     "output_type": "stream",
     "text": [
      "50.0\n",
      "100.0\n"
     ]
    }
   ],
   "source": [
    "# Criando uma função para definição do centro do retângulo: \n",
    "\n",
    "def find_center(rect):\n",
    "    p = Point()\n",
    "    p.x = rect.corner.x + rect.width/2\n",
    "    p.y = rect.corner.y + rect.height/2\n",
    "    return p\n",
    "\n",
    "center = find_center(box)\n",
    "\n",
    "print_p(center)"
   ]
  },
  {
   "cell_type": "markdown",
   "id": "0e435d78",
   "metadata": {},
   "source": [
    "* Objetos são mutáveis: \n"
   ]
  },
  {
   "cell_type": "code",
   "execution_count": 20,
   "id": "8dd3433b",
   "metadata": {
    "ExecuteTime": {
     "end_time": "2022-03-23T14:23:54.700327Z",
     "start_time": "2022-03-23T14:23:54.697157Z"
    }
   },
   "outputs": [],
   "source": [
    "# Pode-se alterar o estado de um objeto fazendo uma atribuição a um dos seus atributos.\n",
    "# Por exemplo, para mudar o tamanho de um retângulo sem mudar sua posição, você pode alterar os valores de width\n",
    "# e height\n",
    "\n",
    "box.width = box.width + 50 \n",
    "box.heigh = box.height + 100\n",
    "\n"
   ]
  },
  {
   "cell_type": "code",
   "execution_count": 24,
   "id": "75a3f06d",
   "metadata": {
    "ExecuteTime": {
     "end_time": "2022-03-23T14:39:26.717074Z",
     "start_time": "2022-03-23T14:39:26.712585Z"
    }
   },
   "outputs": [
    {
     "name": "stdout",
     "output_type": "stream",
     "text": [
      "100.0\n",
      "200.0\n"
     ]
    }
   ],
   "source": [
    "# Como exericio, escreva uma função chamada move_rectangle que toma um Rectangle e dois números chamados dx e dy\n",
    "# Ela deve alterar a posição do retângulo, adicionando dx à coordenada x de corner e adionando dy à coordenada y \n",
    "# de corner.\n",
    "\n",
    "def move_rectangle(rect, dx, dy):\n",
    "    rect.corner.x += dx\n",
    "    rect.corner.y += dy\n",
    "    \n",
    "move_rectangle(box, 50, 100)\n",
    "\n",
    "print(box.corner.x)\n",
    "print(box.corner.y)"
   ]
  },
  {
   "cell_type": "markdown",
   "id": "8a3642d2",
   "metadata": {},
   "source": [
    "* Cópia: Em vez de usar alias, copiar um objeto pode ser uma alternativa. O módulo copy contém uma função chamada copy que pode duplicar qualquer objeto: \n",
    "    "
   ]
  },
  {
   "cell_type": "code",
   "execution_count": 25,
   "id": "bc3bbe41",
   "metadata": {
    "ExecuteTime": {
     "end_time": "2022-03-23T14:44:10.753164Z",
     "start_time": "2022-03-23T14:44:10.749692Z"
    }
   },
   "outputs": [],
   "source": [
    "p1 = Point()\n",
    "p1.x = 3.0\n",
    "p1.y = 4.0"
   ]
  },
  {
   "cell_type": "code",
   "execution_count": 26,
   "id": "c6547817",
   "metadata": {
    "ExecuteTime": {
     "end_time": "2022-03-23T14:44:24.703404Z",
     "start_time": "2022-03-23T14:44:24.700800Z"
    }
   },
   "outputs": [],
   "source": [
    "import copy\n",
    "p2 = copy.copy(p1)"
   ]
  },
  {
   "cell_type": "code",
   "execution_count": 27,
   "id": "96aac330",
   "metadata": {
    "ExecuteTime": {
     "end_time": "2022-03-23T14:44:31.912856Z",
     "start_time": "2022-03-23T14:44:31.909002Z"
    }
   },
   "outputs": [
    {
     "data": {
      "text/plain": [
       "False"
      ]
     },
     "execution_count": 27,
     "metadata": {},
     "output_type": "execute_result"
    }
   ],
   "source": [
    "p2 is p1 "
   ]
  },
  {
   "cell_type": "code",
   "execution_count": 28,
   "id": "2d91f6de",
   "metadata": {
    "ExecuteTime": {
     "end_time": "2022-03-23T14:44:44.386708Z",
     "start_time": "2022-03-23T14:44:44.382886Z"
    }
   },
   "outputs": [
    {
     "data": {
      "text/plain": [
       "False"
      ]
     },
     "execution_count": 28,
     "metadata": {},
     "output_type": "execute_result"
    }
   ],
   "source": [
    "p1 == p2"
   ]
  },
  {
   "cell_type": "code",
   "execution_count": 29,
   "id": "5f6de4c3",
   "metadata": {
    "ExecuteTime": {
     "end_time": "2022-03-23T14:45:28.215961Z",
     "start_time": "2022-03-23T14:45:28.213691Z"
    }
   },
   "outputs": [],
   "source": [
    "# para copiar um objeto que contém um outro objeto integrado, utiliza-se o deepcopy\n"
   ]
  },
  {
   "cell_type": "code",
   "execution_count": 30,
   "id": "47e1d1f5",
   "metadata": {
    "ExecuteTime": {
     "end_time": "2022-03-23T14:45:54.992480Z",
     "start_time": "2022-03-23T14:45:54.989508Z"
    }
   },
   "outputs": [],
   "source": [
    "box2 = copy.deepcopy(box)\n"
   ]
  },
  {
   "cell_type": "code",
   "execution_count": 31,
   "id": "d13cfc9f",
   "metadata": {
    "ExecuteTime": {
     "end_time": "2022-03-23T14:46:01.344818Z",
     "start_time": "2022-03-23T14:46:01.340758Z"
    }
   },
   "outputs": [
    {
     "data": {
      "text/plain": [
       "False"
      ]
     },
     "execution_count": 31,
     "metadata": {},
     "output_type": "execute_result"
    }
   ],
   "source": [
    "box is box2"
   ]
  },
  {
   "cell_type": "code",
   "execution_count": 32,
   "id": "5de924cb",
   "metadata": {
    "ExecuteTime": {
     "end_time": "2022-03-23T14:46:07.345434Z",
     "start_time": "2022-03-23T14:46:07.340801Z"
    }
   },
   "outputs": [
    {
     "data": {
      "text/plain": [
       "False"
      ]
     },
     "execution_count": 32,
     "metadata": {},
     "output_type": "execute_result"
    }
   ],
   "source": [
    "box == box2"
   ]
  },
  {
   "cell_type": "code",
   "execution_count": null,
   "id": "a9b0d59f",
   "metadata": {},
   "outputs": [],
   "source": [
    "## Deixado em b"
   ]
  },
  {
   "cell_type": "code",
   "execution_count": null,
   "id": "e6740413",
   "metadata": {},
   "outputs": [],
   "source": []
  },
  {
   "cell_type": "code",
   "execution_count": 2,
   "id": "2aa540f6",
   "metadata": {
    "ExecuteTime": {
     "end_time": "2022-05-16T23:36:10.041262Z",
     "start_time": "2022-05-16T23:36:10.037935Z"
    }
   },
   "outputs": [
    {
     "name": "stdout",
     "output_type": "stream",
     "text": [
      "deu certo\n"
     ]
    }
   ],
   "source": [
    "reg = ['a', 'b']\n",
    "if 'a' in reg:\n",
    "    print('deu certo')"
   ]
  },
  {
   "cell_type": "code",
   "execution_count": null,
   "id": "e2918d35",
   "metadata": {},
   "outputs": [],
   "source": []
  },
  {
   "cell_type": "code",
   "execution_count": null,
   "id": "aff08b83",
   "metadata": {},
   "outputs": [],
   "source": []
  },
  {
   "cell_type": "code",
   "execution_count": null,
   "id": "59e71ae0",
   "metadata": {},
   "outputs": [],
   "source": []
  },
  {
   "cell_type": "code",
   "execution_count": null,
   "id": "021d9137",
   "metadata": {},
   "outputs": [],
   "source": []
  },
  {
   "cell_type": "code",
   "execution_count": null,
   "id": "13abf6db",
   "metadata": {},
   "outputs": [],
   "source": []
  },
  {
   "cell_type": "code",
   "execution_count": null,
   "id": "33bd08fe",
   "metadata": {},
   "outputs": [],
   "source": []
  },
  {
   "cell_type": "code",
   "execution_count": null,
   "id": "fdd00496",
   "metadata": {},
   "outputs": [],
   "source": []
  },
  {
   "cell_type": "code",
   "execution_count": null,
   "id": "914efcd6",
   "metadata": {},
   "outputs": [],
   "source": []
  }
 ],
 "metadata": {
  "kernelspec": {
   "display_name": "Python 3 (ipykernel)",
   "language": "python",
   "name": "python3"
  },
  "language_info": {
   "codemirror_mode": {
    "name": "ipython",
    "version": 3
   },
   "file_extension": ".py",
   "mimetype": "text/x-python",
   "name": "python",
   "nbconvert_exporter": "python",
   "pygments_lexer": "ipython3",
   "version": "3.9.7"
  }
 },
 "nbformat": 4,
 "nbformat_minor": 5
}
