{
 "cells": [
  {
   "cell_type": "markdown",
   "id": "4f41a278",
   "metadata": {},
   "source": [
    "# Carderno de estudos 2. Continuação códigos python\n"
   ]
  },
  {
   "cell_type": "markdown",
   "id": "35e05987",
   "metadata": {},
   "source": [
    "## Conjuntos - Sets \n",
    "\n",
    "- Conjuntos em qualqquer lingugagem de programação, estamos fazenda referencia a Teoria doos Conjuntos de Matemática.\n",
    "- Aqui no Pyhton, os conjuntos são chamados de Sets.\n",
    "\n",
    "- Dito iesto, da mesma forma qque na matemática: \n",
    "\n",
    "    * Sets não possuem valores duplicados;\n",
    "    * Sets não possuem valores orenados;\n",
    "    * Elementos não são acessados via indice, ou seja, conjuntos não são indexados;\n",
    "    \n",
    "- Conjuntos são bons para se utilizar quando precisamos armazenar elementos mas não nos importamos com a ordenação deles. Quando não precisamos se preocupar com chaves, valores e itens duplicados;\n",
    "\n",
    "- Os Sets são referenciados em Python com chaves {};\n",
    "\n",
    "- Diferença entre conjuntos (Sets) e Dicionários em Python:\n",
    "    * Um dicionário tem chave/valor;\n",
    "    * Um Set tem apenas valor;\n"
   ]
  },
  {
   "cell_type": "code",
   "execution_count": 1,
   "id": "f4b1bae2",
   "metadata": {
    "ExecuteTime": {
     "end_time": "2022-04-24T14:12:33.066275Z",
     "start_time": "2022-04-24T14:12:33.053604Z"
    }
   },
   "outputs": [],
   "source": [
    "# Forma menos comum de criar um sets\n",
    "s = set({1,2,3,4,5,5,6,7,3,4}) # Repare que tem valores repetidos! \n"
   ]
  },
  {
   "cell_type": "code",
   "execution_count": 2,
   "id": "a6fde7bc",
   "metadata": {
    "ExecuteTime": {
     "end_time": "2022-04-24T14:12:46.141541Z",
     "start_time": "2022-04-24T14:12:46.137679Z"
    }
   },
   "outputs": [
    {
     "name": "stdout",
     "output_type": "stream",
     "text": [
      "{1, 2, 3, 4, 5, 6, 7}\n"
     ]
    }
   ],
   "source": [
    "print(s)"
   ]
  },
  {
   "cell_type": "code",
   "execution_count": 3,
   "id": "cd3cc2d4",
   "metadata": {
    "ExecuteTime": {
     "end_time": "2022-04-24T14:13:03.820141Z",
     "start_time": "2022-04-24T14:13:03.816906Z"
    }
   },
   "outputs": [
    {
     "name": "stdout",
     "output_type": "stream",
     "text": [
      "<class 'set'>\n"
     ]
    }
   ],
   "source": [
    "print(type(s))"
   ]
  },
  {
   "cell_type": "code",
   "execution_count": 5,
   "id": "3ccca5d2",
   "metadata": {
    "ExecuteTime": {
     "end_time": "2022-04-24T14:17:18.754675Z",
     "start_time": "2022-04-24T14:17:18.743068Z"
    }
   },
   "outputs": [
    {
     "data": {
      "text/plain": [
       "{1, 2, 3, 4, 5, 6}"
      ]
     },
     "execution_count": 5,
     "metadata": {},
     "output_type": "execute_result"
    }
   ],
   "source": [
    "# Forma mais Comum de se criar um Set\n",
    "s = {1,2,3,3,3,4,5,6}\n",
    "s"
   ]
  },
  {
   "cell_type": "code",
   "execution_count": 9,
   "id": "e657caa1",
   "metadata": {
    "ExecuteTime": {
     "end_time": "2022-04-24T14:19:29.058535Z",
     "start_time": "2022-04-24T14:19:29.053273Z"
    }
   },
   "outputs": [
    {
     "data": {
      "text/plain": [
       "{' ', 'R', 'S', 'a', 'b', 'd', 'g', 'i', 'n', 'o', 'r'}"
      ]
     },
     "execution_count": 9,
     "metadata": {},
     "output_type": "execute_result"
    }
   ],
   "source": [
    "s = set('Rodrigo Saabino')\n",
    "s"
   ]
  },
  {
   "cell_type": "code",
   "execution_count": 10,
   "id": "9a17735b",
   "metadata": {
    "ExecuteTime": {
     "end_time": "2022-04-24T14:19:29.690678Z",
     "start_time": "2022-04-24T14:19:29.685465Z"
    }
   },
   "outputs": [
    {
     "name": "stdout",
     "output_type": "stream",
     "text": [
      "está contido\n"
     ]
    }
   ],
   "source": [
    "# Podemos verificar se determinado elemento está condigo no conjunto\n",
    "if 'o' in s:\n",
    "    print('está contido')\n",
    "else:\n",
    "    print('Não está contido')"
   ]
  },
  {
   "cell_type": "markdown",
   "id": "8700354c",
   "metadata": {},
   "source": [
    "* Uso interessantes com Sets: \n",
    "- Imagine que fizemos um formulário de cadastro de visitantes em uma feira ou museu e os visistantes informaram manualmente a cidade de onde vieram.\n",
    "- Nós adicionamos cada cidade em uma lista Python, já qque em uma lista podemos adicionar novos elementos e ter repetição."
   ]
  },
  {
   "cell_type": "code",
   "execution_count": 11,
   "id": "3386b2c3",
   "metadata": {
    "ExecuteTime": {
     "end_time": "2022-04-24T14:31:37.583656Z",
     "start_time": "2022-04-24T14:31:37.580215Z"
    }
   },
   "outputs": [],
   "source": [
    "cidades = ['Belo Horizonte','São Paulo','Campo Grande','Cuiaba','Campo Grande','São Paulo','Cuiaba']"
   ]
  },
  {
   "cell_type": "code",
   "execution_count": 12,
   "id": "2469ae46",
   "metadata": {
    "ExecuteTime": {
     "end_time": "2022-04-24T14:33:05.175733Z",
     "start_time": "2022-04-24T14:33:05.172031Z"
    }
   },
   "outputs": [
    {
     "name": "stdout",
     "output_type": "stream",
     "text": [
      "4\n"
     ]
    }
   ],
   "source": [
    "# Agora precisamos saber quantas cidades distintas, ou seja, únicas temos: \n",
    "print(len(set(cidades)))"
   ]
  },
  {
   "cell_type": "code",
   "execution_count": 13,
   "id": "8f7ffa2b",
   "metadata": {
    "ExecuteTime": {
     "end_time": "2022-04-24T14:37:07.100346Z",
     "start_time": "2022-04-24T14:37:07.093200Z"
    }
   },
   "outputs": [
    {
     "data": {
      "text/plain": [
       "['__and__',\n",
       " '__class__',\n",
       " '__class_getitem__',\n",
       " '__contains__',\n",
       " '__delattr__',\n",
       " '__dir__',\n",
       " '__doc__',\n",
       " '__eq__',\n",
       " '__format__',\n",
       " '__ge__',\n",
       " '__getattribute__',\n",
       " '__gt__',\n",
       " '__hash__',\n",
       " '__iand__',\n",
       " '__init__',\n",
       " '__init_subclass__',\n",
       " '__ior__',\n",
       " '__isub__',\n",
       " '__iter__',\n",
       " '__ixor__',\n",
       " '__le__',\n",
       " '__len__',\n",
       " '__lt__',\n",
       " '__ne__',\n",
       " '__new__',\n",
       " '__or__',\n",
       " '__rand__',\n",
       " '__reduce__',\n",
       " '__reduce_ex__',\n",
       " '__repr__',\n",
       " '__ror__',\n",
       " '__rsub__',\n",
       " '__rxor__',\n",
       " '__setattr__',\n",
       " '__sizeof__',\n",
       " '__str__',\n",
       " '__sub__',\n",
       " '__subclasshook__',\n",
       " '__xor__',\n",
       " 'add',\n",
       " 'clear',\n",
       " 'copy',\n",
       " 'difference',\n",
       " 'difference_update',\n",
       " 'discard',\n",
       " 'intersection',\n",
       " 'intersection_update',\n",
       " 'isdisjoint',\n",
       " 'issubset',\n",
       " 'issuperset',\n",
       " 'pop',\n",
       " 'remove',\n",
       " 'symmetric_difference',\n",
       " 'symmetric_difference_update',\n",
       " 'union',\n",
       " 'update']"
      ]
     },
     "execution_count": 13,
     "metadata": {},
     "output_type": "execute_result"
    }
   ],
   "source": [
    "dir(s)"
   ]
  },
  {
   "cell_type": "code",
   "execution_count": 8,
   "id": "675fb277",
   "metadata": {
    "ExecuteTime": {
     "end_time": "2022-04-27T23:10:20.624093Z",
     "start_time": "2022-04-27T23:10:20.619923Z"
    }
   },
   "outputs": [
    {
     "data": {
      "text/plain": [
       "'A'"
      ]
     },
     "execution_count": 8,
     "metadata": {},
     "output_type": "execute_result"
    }
   ],
   "source": [
    "def bodosao():\n",
    "    return 'A'\n",
    "\n",
    "def func():\n",
    "    return bodosao()\n",
    "\n",
    "func()"
   ]
  },
  {
   "cell_type": "code",
   "execution_count": null,
   "id": "bc8339bf",
   "metadata": {},
   "outputs": [],
   "source": []
  },
  {
   "cell_type": "markdown",
   "id": "b2dc7071",
   "metadata": {},
   "source": [
    "## Decorators\n",
    " * Decorators são funções; \n",
    " * Decorators envolve outras funções e aprimoram seus comportamentos;\n",
    " * Decorators também são exemplos de Higher Order Functions;\n",
    " * Decorators tem uma sintaxe própria usando \"@\" ( Syntact Sugar)\n",
    " \n",
    " \n",
    " \\ -----------------------------------------\\\n",
    " \\            Function Decorator             \\\n",
    " \\ ------------------------------------------\\\n",
    " \n",
    " \n",
    " |----------------------------------------------|\n",
    " \\-------------------------------------------\\  |\n",
    "                 Função decorada                |\n",
    " \\ ------------------------------------------\\  |\n",
    " |----------------------------------------------|"
   ]
  },
  {
   "cell_type": "code",
   "execution_count": 7,
   "id": "bbb0b3c8",
   "metadata": {
    "ExecuteTime": {
     "end_time": "2022-05-14T21:17:26.979693Z",
     "start_time": "2022-05-14T21:17:26.975623Z"
    }
   },
   "outputs": [],
   "source": [
    "# Decorators como funções ( Sintaxe não recomendada / sem açucar sintático)\n",
    "\n",
    "def seja_educado(funcao):\n",
    "    def sendo():\n",
    "        print('Foi um prazer conhecer voce! ')\n",
    "        funcao()\n",
    "        print('Tenha um ótimo dia!')\n",
    "    return sendo\n",
    "\n"
   ]
  },
  {
   "cell_type": "code",
   "execution_count": 8,
   "id": "21526eee",
   "metadata": {
    "ExecuteTime": {
     "end_time": "2022-05-14T21:17:27.393393Z",
     "start_time": "2022-05-14T21:17:27.389700Z"
    }
   },
   "outputs": [],
   "source": [
    "def saudacao():\n",
    "    print('Seja bem vindo! ')\n",
    "    \n",
    "    "
   ]
  },
  {
   "cell_type": "code",
   "execution_count": 9,
   "id": "1f2bb91f",
   "metadata": {
    "ExecuteTime": {
     "end_time": "2022-05-14T21:17:27.993277Z",
     "start_time": "2022-05-14T21:17:27.989807Z"
    }
   },
   "outputs": [
    {
     "name": "stdout",
     "output_type": "stream",
     "text": [
      "Foi um prazer conhecer voce! \n",
      "Seja bem vindo! \n",
      "Tenha um ótimo dia!\n"
     ]
    }
   ],
   "source": [
    "# Testando 1\n",
    "\n",
    "teste = seja_educado(saudacao)\n",
    "teste()"
   ]
  },
  {
   "cell_type": "code",
   "execution_count": 11,
   "id": "04e92993",
   "metadata": {
    "ExecuteTime": {
     "end_time": "2022-05-14T21:17:37.596471Z",
     "start_time": "2022-05-14T21:17:37.591266Z"
    }
   },
   "outputs": [
    {
     "name": "stdout",
     "output_type": "stream",
     "text": [
      "Foi um prazer conhecer voce! \n",
      "EU TE ODEIO!\n",
      "Tenha um ótimo dia!\n"
     ]
    }
   ],
   "source": [
    "# Testando 2\n",
    "\n",
    "def raiva():\n",
    "    print('EU TE ODEIO!')\n",
    "    \n",
    "raiva_educada = seja_educado(raiva)\n",
    "\n",
    "raiva_educada()"
   ]
  },
  {
   "cell_type": "code",
   "execution_count": 12,
   "id": "4843151f",
   "metadata": {
    "ExecuteTime": {
     "end_time": "2022-05-14T21:21:56.723512Z",
     "start_time": "2022-05-14T21:21:56.719690Z"
    }
   },
   "outputs": [],
   "source": [
    "# Decorators com Syntax Sugar\n",
    "\n",
    "def seja_educado_mesmo(funcao):\n",
    "    def sendo_mesmo():\n",
    "        print('Foi um Prazer conhecer voce')\n",
    "        funcao()\n",
    "        print('Tenha um excelente dia!')\n",
    "    return sendo_mesmo\n",
    "\n"
   ]
  },
  {
   "cell_type": "code",
   "execution_count": 14,
   "id": "60cfd12f",
   "metadata": {
    "ExecuteTime": {
     "end_time": "2022-05-14T21:22:08.348272Z",
     "start_time": "2022-05-14T21:22:08.345765Z"
    }
   },
   "outputs": [],
   "source": [
    "@seja_educado_mesmo\n",
    "def apresentando():\n",
    "    print('Meu nome é Rodrigo')"
   ]
  },
  {
   "cell_type": "code",
   "execution_count": 15,
   "id": "65328a86",
   "metadata": {
    "ExecuteTime": {
     "end_time": "2022-05-14T21:22:30.282427Z",
     "start_time": "2022-05-14T21:22:30.278196Z"
    }
   },
   "outputs": [
    {
     "name": "stdout",
     "output_type": "stream",
     "text": [
      "Foi um Prazer conhecer voce\n",
      "Meu nome é Rodrigo\n",
      "Tenha um excelente dia!\n"
     ]
    }
   ],
   "source": [
    "apresentando()"
   ]
  },
  {
   "cell_type": "code",
   "execution_count": null,
   "id": "1f1ab43b",
   "metadata": {},
   "outputs": [],
   "source": []
  },
  {
   "cell_type": "code",
   "execution_count": null,
   "id": "0d635dd0",
   "metadata": {},
   "outputs": [],
   "source": []
  },
  {
   "cell_type": "code",
   "execution_count": null,
   "id": "b3aa59b8",
   "metadata": {},
   "outputs": [],
   "source": []
  },
  {
   "cell_type": "code",
   "execution_count": null,
   "id": "4d3aec2a",
   "metadata": {},
   "outputs": [],
   "source": []
  },
  {
   "cell_type": "code",
   "execution_count": null,
   "id": "829065a5",
   "metadata": {},
   "outputs": [],
   "source": []
  },
  {
   "cell_type": "code",
   "execution_count": null,
   "id": "5ec5a523",
   "metadata": {},
   "outputs": [],
   "source": []
  },
  {
   "cell_type": "code",
   "execution_count": null,
   "id": "914fa356",
   "metadata": {},
   "outputs": [],
   "source": []
  },
  {
   "cell_type": "code",
   "execution_count": null,
   "id": "fad76f0b",
   "metadata": {},
   "outputs": [],
   "source": []
  },
  {
   "cell_type": "markdown",
   "id": "54d85bb4",
   "metadata": {},
   "source": [
    "# Alguns Exemplos feitos durante o curso de Programação orientada a objetos do site coursera #"
   ]
  },
  {
   "cell_type": "code",
   "execution_count": 1,
   "id": "3b27c8ba",
   "metadata": {
    "ExecuteTime": {
     "end_time": "2022-05-11T23:28:40.259231Z",
     "start_time": "2022-05-11T23:28:40.250802Z"
    }
   },
   "outputs": [],
   "source": [
    "class Carro:\n",
    "    pass"
   ]
  },
  {
   "cell_type": "code",
   "execution_count": 2,
   "id": "c90b77ca",
   "metadata": {
    "ExecuteTime": {
     "end_time": "2022-05-11T23:28:49.359821Z",
     "start_time": "2022-05-11T23:28:49.356545Z"
    }
   },
   "outputs": [],
   "source": [
    "meu_carro = Carro()"
   ]
  },
  {
   "cell_type": "code",
   "execution_count": 4,
   "id": "b0e7bda9",
   "metadata": {
    "ExecuteTime": {
     "end_time": "2022-05-11T23:29:17.482394Z",
     "start_time": "2022-05-11T23:29:17.480127Z"
    }
   },
   "outputs": [],
   "source": [
    "carro_do_ime = Carro()"
   ]
  },
  {
   "cell_type": "code",
   "execution_count": 5,
   "id": "5e7020b4",
   "metadata": {
    "ExecuteTime": {
     "end_time": "2022-05-11T23:30:01.864694Z",
     "start_time": "2022-05-11T23:30:01.861118Z"
    }
   },
   "outputs": [],
   "source": [
    "meu_carro.ano = 1968\n",
    "meu_carro.modelo = 'Fusca'\n",
    "meu_carro.cor = 'azul'"
   ]
  },
  {
   "cell_type": "code",
   "execution_count": 7,
   "id": "e425d20f",
   "metadata": {
    "ExecuteTime": {
     "end_time": "2022-05-11T23:31:10.345746Z",
     "start_time": "2022-05-11T23:31:10.341893Z"
    }
   },
   "outputs": [],
   "source": [
    "carro_do_ime.ano = 1981\n",
    "carro_do_ime.modelo = 'Brasília'\n",
    "carro_do_ime.cor = 'amarelo'"
   ]
  },
  {
   "cell_type": "code",
   "execution_count": 11,
   "id": "9214ec0c",
   "metadata": {
    "ExecuteTime": {
     "end_time": "2022-05-12T01:32:13.455565Z",
     "start_time": "2022-05-12T01:32:13.451509Z"
    }
   },
   "outputs": [
    {
     "data": {
      "text/plain": [
       "1991"
      ]
     },
     "execution_count": 11,
     "metadata": {},
     "output_type": "execute_result"
    }
   ],
   "source": [
    "carro_do_ime.ano"
   ]
  },
  {
   "cell_type": "code",
   "execution_count": 12,
   "id": "09863db3",
   "metadata": {
    "ExecuteTime": {
     "end_time": "2022-05-12T01:36:02.033398Z",
     "start_time": "2022-05-12T01:36:02.029992Z"
    }
   },
   "outputs": [],
   "source": [
    "# Método construtor __init__ definição de atributos: \n",
    "class Carro():\n",
    "    def __init__(self,modelo, ano, cor):\n",
    "        self.modelo = modelo\n",
    "        self.ano = ano\n",
    "        self.cor = cor\n",
    "        "
   ]
  },
  {
   "cell_type": "code",
   "execution_count": 13,
   "id": "bdf46ab7",
   "metadata": {
    "ExecuteTime": {
     "end_time": "2022-05-12T01:37:14.310520Z",
     "start_time": "2022-05-12T01:37:14.307569Z"
    }
   },
   "outputs": [],
   "source": [
    "carro_do_meu_avo = Carro('Ford Ka', 2015, 'Branco')"
   ]
  },
  {
   "cell_type": "code",
   "execution_count": 14,
   "id": "ca66390f",
   "metadata": {
    "ExecuteTime": {
     "end_time": "2022-05-12T01:37:26.039397Z",
     "start_time": "2022-05-12T01:37:26.035541Z"
    }
   },
   "outputs": [
    {
     "data": {
      "text/plain": [
       "'Ford Ka'"
      ]
     },
     "execution_count": 14,
     "metadata": {},
     "output_type": "execute_result"
    }
   ],
   "source": [
    "carro_do_meu_avo.modelo"
   ]
  },
  {
   "cell_type": "code",
   "execution_count": 15,
   "id": "583d8137",
   "metadata": {
    "ExecuteTime": {
     "end_time": "2022-05-12T01:53:37.310326Z",
     "start_time": "2022-05-12T01:53:37.305712Z"
    }
   },
   "outputs": [],
   "source": [
    "class Bola():\n",
    "    def __init__(self,cor,diametro,material,ano_fabric):\n",
    "        self.cor = cor\n",
    "        self.diametro = diametro\n",
    "        self.material = material\n",
    "        ano_fabric = ano_fabric\n",
    "    \n",
    "    \n",
    "    def imprime(self):\n",
    "        if self.psi == 100:\n",
    "            print('A bola atingiu 100 psi de pressão interna')\n",
    "        elif self.psi > 100:\n",
    "            print('reduza a pressão interna da bola, já ultrapassou o limite de 100 psi')\n",
    "        else:\n",
    "            print('A bola está com pressão baixa, aumentar pressão!')\n",
    "            \n",
    "            \n",
    "    def pressao(self, psi):\n",
    "        self.psi = psi\n",
    "        self.imprime()"
   ]
  },
  {
   "cell_type": "code",
   "execution_count": 16,
   "id": "a14ac6bb",
   "metadata": {
    "ExecuteTime": {
     "end_time": "2022-05-12T01:54:58.647717Z",
     "start_time": "2022-05-12T01:54:58.643909Z"
    }
   },
   "outputs": [],
   "source": [
    "def main():\n",
    "    bola1 = Bola('vermelha', 50, 'borracha', 1985)\n",
    "    \n",
    "    bola1.pressao(10)\n",
    "    bola1.pressao(50)\n",
    "    bola1.pressao(100)\n",
    "    bola1.pressao(200)\n",
    "    \n",
    "    "
   ]
  },
  {
   "cell_type": "code",
   "execution_count": 17,
   "id": "3d98498b",
   "metadata": {
    "ExecuteTime": {
     "end_time": "2022-05-12T01:55:09.968689Z",
     "start_time": "2022-05-12T01:55:09.963953Z"
    }
   },
   "outputs": [
    {
     "name": "stdout",
     "output_type": "stream",
     "text": [
      "A bola está com pressão baixa, aumentar pressão!\n",
      "A bola está com pressão baixa, aumentar pressão!\n",
      "A bola atingiu 100 psi de pressão interna\n",
      "reduza a pressão interna da bola, já ultrapassou o limite de 100 psi\n"
     ]
    }
   ],
   "source": [
    "main()"
   ]
  },
  {
   "cell_type": "markdown",
   "id": "f6a75900",
   "metadata": {},
   "source": [
    "# Boas práticas em orientação a objetos: \n",
    "\n",
    "- Escolher bons nomes para: \n",
    "    - variáveis;\n",
    "    - atributos/propriedades; ( Descrever claramente algumaa infromação)\n",
    "    - método e seus argumentos; ( Já ficar entendível durante a chamada)\n",
    "    - classes;\n",
    "- Intention-revealing names;\n",
    "- Classes geralmente são substantivos;\n",
    "- Métodos geralmente são verbos;\n",
    "\n",
    "- Uso extensivo de testes Automatizados: \n",
    "    -  Boa bateria de testes; ( Código que testa o código kkk, para garantir num determinado nível o bom funcionamento do software)\n",
    "    - Boa cobertura do código ( Ter boa cobertura do código testador sobre sua programação)\n",
    "    - Uso de arcabouços específicos\n",
    "        - SUnit/ Junit/ CppUnit\n",
    "        - PyTest / Robot\n",
    "        - RSpec, Cucumber, Capybara ( para Rubby)\n",
    "        - Selenium ( Fazer testes de sistemas web)\n",
    "    - TDD ( escreve o teste, aprova e refatora);\n",
    "    \n",
    " - Revisão por Pares:\n",
    "    - Mostre seu código para outros;\n",
    "    - Given enough eyebalss, all bugs are shallow;\n",
    "    - Aceite críticas/ aprenda com elas;\n",
    "    - Critique o código de outros;\n",
    "    - Programação em pares; ( Duas pessoas programando juntas, faz a revisão por pares em tempo real)\n",
    "  \n",
    "- Herança vs. Delegação: \n",
    "    - Herança é um mecanismo poderoso; \n",
    "        - mas, às vezes, forte demais; ( Amarra de mais o código)\n",
    "    - Evite hierarquias profundas demais;\n",
    "    - Muitas vezes o uso de delegação leva a siistemas mais siples e flexíveis\n",
    "    \n",
    "- Encapsulamento e Modularização: \n",
    "    - Encapsulamento:\n",
    "        - agrupar código e dados;\n",
    "        - o que a classe deve expor;\n",
    "        - o que a classe deve esconder;\n",
    "        - Uma classe não deve mexer nos atributos da outra;\n",
    "    - Modularização:\n",
    "        - Sistemas deve ser bem organizado em  módulos de forma a lidar com a complexidade;\n",
    "        \n",
    "- Coesão das classes: \n",
    "    - Em um sistema orientado a objetos, as classes devem possuir: \n",
    "        - uma única responsábilidade;\n",
    "        - Princípio da Responsabilidade Única;\n",
    "    - Ou seja, uma classe não deve tratar de assuntos diferentes.\n",
    "    - Se uma classe trata de 2 ou 3 assuntos, veja se não dá para quebra-la em 2 ou 3 classes menores;\n",
    "\n",
    "- Acoplamento entre classes:\n",
    "    - O quanto uma classe \"conhece\" do seu entorno;\n",
    "        - Muitas referencias a outra classes;\n",
    "        - Referencias a tipo muito específico;\n",
    "    - Classes muito aclopadas são poucos flexiveis, poucos reutilizáveis\n",
    "    - Program to an interface, not an implementation\n",
    "\n",
    "- Melhoria continua e Refatoriação:\n",
    "    - Um sistema sempre pode ficar melhor;\n",
    "    - Todo dia de trabalho, você deve pensar um pouco sobre como melhorar a arquitetura do seu sistema\n",
    "    - Refatoração = pequena reestruturação no código que não altera seu comportamento, mas melhora seu design\n",
    "    - Refatoração deve ser parte da rotina\n",
    "        \n"
   ]
  },
  {
   "cell_type": "code",
   "execution_count": 114,
   "id": "9679a765",
   "metadata": {
    "ExecuteTime": {
     "end_time": "2022-05-21T13:54:36.962875Z",
     "start_time": "2022-05-21T13:54:36.958951Z"
    }
   },
   "outputs": [],
   "source": [
    "list1 = []\n",
    "list2 = [1,2,3,4,5]"
   ]
  },
  {
   "cell_type": "code",
   "execution_count": 136,
   "id": "75bfa14d",
   "metadata": {
    "ExecuteTime": {
     "end_time": "2022-05-21T14:06:30.898123Z",
     "start_time": "2022-05-21T14:06:30.893638Z"
    }
   },
   "outputs": [],
   "source": [
    "def median(list1,list2):\n",
    "    num3 = list1+list2\n",
    "    num3.sort()\n",
    "    \n",
    "    if len(num3)%2 != 0:\n",
    "        return num3[int(len(num3)/2)]\n",
    "   \n",
    "    element_1 = num3[int(len(num3)/2 -1 )]\n",
    "    element_2 = num3[int(len(num3)/2 )]\n",
    "    median = (element_1 + element_2)/2\n",
    "    return median\n",
    "    "
   ]
  },
  {
   "cell_type": "code",
   "execution_count": 137,
   "id": "8f326505",
   "metadata": {
    "ExecuteTime": {
     "end_time": "2022-05-21T14:06:31.401715Z",
     "start_time": "2022-05-21T14:06:31.396414Z"
    }
   },
   "outputs": [
    {
     "data": {
      "text/plain": [
       "3"
      ]
     },
     "execution_count": 137,
     "metadata": {},
     "output_type": "execute_result"
    }
   ],
   "source": [
    "median(list1,list2)"
   ]
  },
  {
   "cell_type": "code",
   "execution_count": null,
   "id": "99e8431c",
   "metadata": {
    "ExecuteTime": {
     "end_time": "2022-05-21T13:43:33.708137Z",
     "start_time": "2022-05-21T13:43:33.704644Z"
    }
   },
   "outputs": [],
   "source": []
  },
  {
   "cell_type": "code",
   "execution_count": 120,
   "id": "2909cc41",
   "metadata": {
    "ExecuteTime": {
     "end_time": "2022-05-21T13:57:05.499024Z",
     "start_time": "2022-05-21T13:57:05.495009Z"
    }
   },
   "outputs": [
    {
     "data": {
      "text/plain": [
       "2"
      ]
     },
     "execution_count": 120,
     "metadata": {},
     "output_type": "execute_result"
    }
   ],
   "source": []
  },
  {
   "cell_type": "code",
   "execution_count": 122,
   "id": "e1d206b8",
   "metadata": {
    "ExecuteTime": {
     "end_time": "2022-05-21T13:58:00.961995Z",
     "start_time": "2022-05-21T13:58:00.957392Z"
    }
   },
   "outputs": [
    {
     "data": {
      "text/plain": [
       "4"
      ]
     },
     "execution_count": 122,
     "metadata": {},
     "output_type": "execute_result"
    }
   ],
   "source": []
  },
  {
   "cell_type": "code",
   "execution_count": 132,
   "id": "8f1043f2",
   "metadata": {
    "ExecuteTime": {
     "end_time": "2022-05-21T14:04:27.778714Z",
     "start_time": "2022-05-21T14:04:27.775385Z"
    }
   },
   "outputs": [
    {
     "data": {
      "text/plain": [
       "2"
      ]
     },
     "execution_count": 132,
     "metadata": {},
     "output_type": "execute_result"
    }
   ],
   "source": []
  },
  {
   "cell_type": "code",
   "execution_count": 128,
   "id": "bbf687bc",
   "metadata": {
    "ExecuteTime": {
     "end_time": "2022-05-21T14:03:00.308735Z",
     "start_time": "2022-05-21T14:03:00.302264Z"
    }
   },
   "outputs": [
    {
     "data": {
      "text/plain": [
       "3"
      ]
     },
     "execution_count": 128,
     "metadata": {},
     "output_type": "execute_result"
    }
   ],
   "source": []
  },
  {
   "cell_type": "code",
   "execution_count": null,
   "id": "19428e0f",
   "metadata": {
    "ExecuteTime": {
     "end_time": "2022-05-21T13:10:33.780350Z",
     "start_time": "2022-05-21T13:10:33.774627Z"
    }
   },
   "outputs": [],
   "source": []
  },
  {
   "cell_type": "code",
   "execution_count": null,
   "id": "9a4be15f",
   "metadata": {},
   "outputs": [],
   "source": []
  },
  {
   "cell_type": "code",
   "execution_count": null,
   "id": "284659ef",
   "metadata": {},
   "outputs": [],
   "source": []
  },
  {
   "cell_type": "code",
   "execution_count": null,
   "id": "2acd2d68",
   "metadata": {},
   "outputs": [],
   "source": []
  }
 ],
 "metadata": {
  "kernelspec": {
   "display_name": "Python 3 (ipykernel)",
   "language": "python",
   "name": "python3"
  },
  "language_info": {
   "codemirror_mode": {
    "name": "ipython",
    "version": 3
   },
   "file_extension": ".py",
   "mimetype": "text/x-python",
   "name": "python",
   "nbconvert_exporter": "python",
   "pygments_lexer": "ipython3",
   "version": "3.9.7"
  }
 },
 "nbformat": 4,
 "nbformat_minor": 5
}
