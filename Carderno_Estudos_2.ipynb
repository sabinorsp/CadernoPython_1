{
 "cells": [
  {
   "cell_type": "markdown",
   "id": "4f41a278",
   "metadata": {},
   "source": [
    "# Carderno de estudos 2. Continuação códigos python\n"
   ]
  },
  {
   "cell_type": "markdown",
   "id": "35e05987",
   "metadata": {},
   "source": [
    "## Conjuntos - Sets \n",
    "\n",
    "- Conjuntos em qualqquer lingugagem de programação, estamos fazenda referencia a Teoria dos Conjuntos de Matemática.\n",
    "- Aqui no Pyhton, os conjuntos são chamados de Sets.\n",
    "\n",
    "- Dito isto, da mesma forma que na matemática: \n",
    "\n",
    "    * Sets não possuem valores duplicados;\n",
    "    * Sets não possuem valores orenados;\n",
    "    * Elementos não são acessados via indice, ou seja, conjuntos não são indexados;\n",
    "    \n",
    "- Conjuntos são bons para se utilizar quando precisamos armazenar elementos mas não nos importamos com a ordenação deles. Quando não precisamos se preocupar com chaves, valores e itens duplicados;\n",
    "\n",
    "- Os Sets são referenciados em Python com chaves {};\n",
    "\n",
    "- Diferença entre conjuntos (Sets) e Dicionários em Python:\n",
    "    * Um dicionário tem chave/valor;\n",
    "    * Um Set tem apenas valor;\n"
   ]
  },
  {
   "cell_type": "code",
   "execution_count": 1,
   "id": "f4b1bae2",
   "metadata": {
    "ExecuteTime": {
     "end_time": "2022-05-31T02:28:22.217722Z",
     "start_time": "2022-05-31T02:28:22.209161Z"
    }
   },
   "outputs": [],
   "source": [
    "# Forma menos comum de criar um sets\n",
    "s = set({1,2,3,4,5,5,6,7,3,4}) # Repare que tem valores repetidos! \n"
   ]
  },
  {
   "cell_type": "code",
   "execution_count": 2,
   "id": "a6fde7bc",
   "metadata": {
    "ExecuteTime": {
     "end_time": "2022-05-31T02:28:23.725692Z",
     "start_time": "2022-05-31T02:28:23.719603Z"
    }
   },
   "outputs": [
    {
     "name": "stdout",
     "output_type": "stream",
     "text": [
      "{1, 2, 3, 4, 5, 6, 7}\n"
     ]
    }
   ],
   "source": [
    "print(s)"
   ]
  },
  {
   "cell_type": "code",
   "execution_count": null,
   "id": "cd3cc2d4",
   "metadata": {
    "ExecuteTime": {
     "end_time": "2022-04-24T14:13:03.820141Z",
     "start_time": "2022-04-24T14:13:03.816906Z"
    }
   },
   "outputs": [],
   "source": [
    "print(type(s))"
   ]
  },
  {
   "cell_type": "code",
   "execution_count": 3,
   "id": "3ccca5d2",
   "metadata": {
    "ExecuteTime": {
     "end_time": "2022-05-31T02:28:46.628847Z",
     "start_time": "2022-05-31T02:28:46.618508Z"
    }
   },
   "outputs": [
    {
     "data": {
      "text/plain": [
       "{1, 2, 3, 4, 5, 6}"
      ]
     },
     "execution_count": 3,
     "metadata": {},
     "output_type": "execute_result"
    }
   ],
   "source": [
    "# Forma mais Comum de se criar um Set\n",
    "s = {1,2,3,3,3,4,5,6}\n",
    "s"
   ]
  },
  {
   "cell_type": "code",
   "execution_count": 4,
   "id": "e657caa1",
   "metadata": {
    "ExecuteTime": {
     "end_time": "2022-05-31T02:28:47.791479Z",
     "start_time": "2022-05-31T02:28:47.787477Z"
    }
   },
   "outputs": [
    {
     "data": {
      "text/plain": [
       "{' ', 'R', 'S', 'a', 'b', 'd', 'g', 'i', 'n', 'o', 'r'}"
      ]
     },
     "execution_count": 4,
     "metadata": {},
     "output_type": "execute_result"
    }
   ],
   "source": [
    "s = set('Rodrigo Saabino')\n",
    "s"
   ]
  },
  {
   "cell_type": "code",
   "execution_count": 5,
   "id": "9a17735b",
   "metadata": {
    "ExecuteTime": {
     "end_time": "2022-05-31T02:29:07.273614Z",
     "start_time": "2022-05-31T02:29:07.269840Z"
    }
   },
   "outputs": [
    {
     "name": "stdout",
     "output_type": "stream",
     "text": [
      "está contido\n"
     ]
    }
   ],
   "source": [
    "# Podemos verificar se determinado elemento está condigo no conjunto\n",
    "if 'o' in s:\n",
    "    print('está contido')\n",
    "else:\n",
    "    print('Não está contido')"
   ]
  },
  {
   "cell_type": "markdown",
   "id": "8700354c",
   "metadata": {},
   "source": [
    "* Uso interessantes com Sets: \n",
    "- Imagine que fizemos um formulário de cadastro de visitantes em uma feira ou museu e os visistantes informaram manualmente a cidade de onde vieram.\n",
    "- Nós adicionamos cada cidade em uma lista Python, já qque em uma lista podemos adicionar novos elementos e ter repetição."
   ]
  },
  {
   "cell_type": "code",
   "execution_count": 9,
   "id": "3386b2c3",
   "metadata": {
    "ExecuteTime": {
     "end_time": "2022-05-31T02:29:48.990100Z",
     "start_time": "2022-05-31T02:29:48.987312Z"
    }
   },
   "outputs": [],
   "source": [
    "cidades = ['Belo Horizonte','São Paulo','Campo Grande','Cuiaba','Campo Grande','São Paulo','Cuiaba']"
   ]
  },
  {
   "cell_type": "code",
   "execution_count": 7,
   "id": "2469ae46",
   "metadata": {
    "ExecuteTime": {
     "end_time": "2022-05-31T02:29:25.710272Z",
     "start_time": "2022-05-31T02:29:25.705618Z"
    }
   },
   "outputs": [
    {
     "name": "stdout",
     "output_type": "stream",
     "text": [
      "4\n"
     ]
    }
   ],
   "source": [
    "# Agora precisamos saber quantas cidades distintas, ou seja, únicas temos: \n",
    "print(len(set(cidades)))"
   ]
  },
  {
   "cell_type": "code",
   "execution_count": 10,
   "id": "8f7ffa2b",
   "metadata": {
    "ExecuteTime": {
     "end_time": "2022-05-31T02:29:53.801787Z",
     "start_time": "2022-05-31T02:29:53.795241Z"
    }
   },
   "outputs": [
    {
     "data": {
      "text/plain": [
       "['__and__',\n",
       " '__class__',\n",
       " '__class_getitem__',\n",
       " '__contains__',\n",
       " '__delattr__',\n",
       " '__dir__',\n",
       " '__doc__',\n",
       " '__eq__',\n",
       " '__format__',\n",
       " '__ge__',\n",
       " '__getattribute__',\n",
       " '__gt__',\n",
       " '__hash__',\n",
       " '__iand__',\n",
       " '__init__',\n",
       " '__init_subclass__',\n",
       " '__ior__',\n",
       " '__isub__',\n",
       " '__iter__',\n",
       " '__ixor__',\n",
       " '__le__',\n",
       " '__len__',\n",
       " '__lt__',\n",
       " '__ne__',\n",
       " '__new__',\n",
       " '__or__',\n",
       " '__rand__',\n",
       " '__reduce__',\n",
       " '__reduce_ex__',\n",
       " '__repr__',\n",
       " '__ror__',\n",
       " '__rsub__',\n",
       " '__rxor__',\n",
       " '__setattr__',\n",
       " '__sizeof__',\n",
       " '__str__',\n",
       " '__sub__',\n",
       " '__subclasshook__',\n",
       " '__xor__',\n",
       " 'add',\n",
       " 'clear',\n",
       " 'copy',\n",
       " 'difference',\n",
       " 'difference_update',\n",
       " 'discard',\n",
       " 'intersection',\n",
       " 'intersection_update',\n",
       " 'isdisjoint',\n",
       " 'issubset',\n",
       " 'issuperset',\n",
       " 'pop',\n",
       " 'remove',\n",
       " 'symmetric_difference',\n",
       " 'symmetric_difference_update',\n",
       " 'union',\n",
       " 'update']"
      ]
     },
     "execution_count": 10,
     "metadata": {},
     "output_type": "execute_result"
    }
   ],
   "source": [
    "dir(s)"
   ]
  },
  {
   "cell_type": "code",
   "execution_count": 11,
   "id": "675fb277",
   "metadata": {
    "ExecuteTime": {
     "end_time": "2022-05-31T02:29:58.600125Z",
     "start_time": "2022-05-31T02:29:58.595693Z"
    }
   },
   "outputs": [
    {
     "data": {
      "text/plain": [
       "'A'"
      ]
     },
     "execution_count": 11,
     "metadata": {},
     "output_type": "execute_result"
    }
   ],
   "source": [
    "def bodosao():\n",
    "    return 'A'\n",
    "\n",
    "def func():\n",
    "    return bodosao()\n",
    "\n",
    "func()"
   ]
  },
  {
   "cell_type": "code",
   "execution_count": null,
   "id": "bc8339bf",
   "metadata": {},
   "outputs": [],
   "source": []
  },
  {
   "cell_type": "markdown",
   "id": "b2dc7071",
   "metadata": {},
   "source": [
    "## Decorators\n",
    " * Decorators são funções; \n",
    " * Decorators envolve outras funções e aprimoram seus comportamentos;\n",
    " * Decorators também são exemplos de Higher Order Functions;\n",
    " * Decorators tem uma sintaxe própria usando \"@\" ( Syntact Sugar)\n",
    " \n",
    " \n",
    " \\ -----------------------------------------\\\n",
    " \\            Function Decorator             \\\n",
    " \\ ------------------------------------------\\\n",
    " \n",
    " \n",
    " |----------------------------------------------|\n",
    " \\-------------------------------------------\\  |\n",
    "                 Função decorada                |\n",
    " \\ ------------------------------------------\\  |\n",
    " |----------------------------------------------|"
   ]
  },
  {
   "cell_type": "code",
   "execution_count": null,
   "id": "bbb0b3c8",
   "metadata": {
    "ExecuteTime": {
     "end_time": "2022-05-14T21:17:26.979693Z",
     "start_time": "2022-05-14T21:17:26.975623Z"
    }
   },
   "outputs": [],
   "source": [
    "# Decorators como funções ( Sintaxe não recomendada / sem açucar sintático)\n",
    "\n",
    "def seja_educado(funcao):\n",
    "    def sendo():\n",
    "        print('Foi um prazer conhecer voce! ')\n",
    "        funcao()\n",
    "        print('Tenha um ótimo dia!')\n",
    "    return sendo\n",
    "\n"
   ]
  },
  {
   "cell_type": "code",
   "execution_count": null,
   "id": "21526eee",
   "metadata": {
    "ExecuteTime": {
     "end_time": "2022-05-14T21:17:27.393393Z",
     "start_time": "2022-05-14T21:17:27.389700Z"
    }
   },
   "outputs": [],
   "source": [
    "def saudacao():\n",
    "    print('Seja bem vindo! ')\n",
    "    \n",
    "    "
   ]
  },
  {
   "cell_type": "code",
   "execution_count": null,
   "id": "1f2bb91f",
   "metadata": {
    "ExecuteTime": {
     "end_time": "2022-05-14T21:17:27.993277Z",
     "start_time": "2022-05-14T21:17:27.989807Z"
    }
   },
   "outputs": [],
   "source": [
    "# Testando 1\n",
    "\n",
    "teste = seja_educado(saudacao)\n",
    "teste()"
   ]
  },
  {
   "cell_type": "code",
   "execution_count": null,
   "id": "04e92993",
   "metadata": {
    "ExecuteTime": {
     "end_time": "2022-05-14T21:17:37.596471Z",
     "start_time": "2022-05-14T21:17:37.591266Z"
    }
   },
   "outputs": [],
   "source": [
    "# Testando 2\n",
    "\n",
    "def raiva():\n",
    "    print('EU TE ODEIO!')\n",
    "    \n",
    "raiva_educada = seja_educado(raiva)\n",
    "\n",
    "raiva_educada()"
   ]
  },
  {
   "cell_type": "code",
   "execution_count": null,
   "id": "4843151f",
   "metadata": {
    "ExecuteTime": {
     "end_time": "2022-05-14T21:21:56.723512Z",
     "start_time": "2022-05-14T21:21:56.719690Z"
    }
   },
   "outputs": [],
   "source": [
    "# Decorators com Syntax Sugar\n",
    "\n",
    "def seja_educado_mesmo(funcao):\n",
    "    def sendo_mesmo():\n",
    "        print('Foi um Prazer conhecer voce')\n",
    "        funcao()\n",
    "        print('Tenha um excelente dia!')\n",
    "    return sendo_mesmo\n",
    "\n"
   ]
  },
  {
   "cell_type": "code",
   "execution_count": null,
   "id": "60cfd12f",
   "metadata": {
    "ExecuteTime": {
     "end_time": "2022-05-14T21:22:08.348272Z",
     "start_time": "2022-05-14T21:22:08.345765Z"
    }
   },
   "outputs": [],
   "source": [
    "@seja_educado_mesmo\n",
    "def apresentando():\n",
    "    print('Meu nome é Rodrigo')"
   ]
  },
  {
   "cell_type": "code",
   "execution_count": null,
   "id": "65328a86",
   "metadata": {
    "ExecuteTime": {
     "end_time": "2022-05-14T21:22:30.282427Z",
     "start_time": "2022-05-14T21:22:30.278196Z"
    }
   },
   "outputs": [],
   "source": [
    "apresentando()"
   ]
  },
  {
   "cell_type": "code",
   "execution_count": null,
   "id": "1f1ab43b",
   "metadata": {},
   "outputs": [],
   "source": []
  },
  {
   "cell_type": "code",
   "execution_count": null,
   "id": "0d635dd0",
   "metadata": {},
   "outputs": [],
   "source": []
  },
  {
   "cell_type": "code",
   "execution_count": null,
   "id": "b3aa59b8",
   "metadata": {},
   "outputs": [],
   "source": []
  },
  {
   "cell_type": "code",
   "execution_count": null,
   "id": "4d3aec2a",
   "metadata": {},
   "outputs": [],
   "source": []
  },
  {
   "cell_type": "code",
   "execution_count": null,
   "id": "829065a5",
   "metadata": {},
   "outputs": [],
   "source": []
  },
  {
   "cell_type": "code",
   "execution_count": null,
   "id": "5ec5a523",
   "metadata": {},
   "outputs": [],
   "source": []
  },
  {
   "cell_type": "code",
   "execution_count": null,
   "id": "914fa356",
   "metadata": {},
   "outputs": [],
   "source": []
  },
  {
   "cell_type": "code",
   "execution_count": null,
   "id": "fad76f0b",
   "metadata": {},
   "outputs": [],
   "source": []
  },
  {
   "cell_type": "markdown",
   "id": "54d85bb4",
   "metadata": {},
   "source": [
    "# Alguns Exemplos feitos durante o curso de Programação orientada a objetos do site coursera #"
   ]
  },
  {
   "cell_type": "code",
   "execution_count": null,
   "id": "3b27c8ba",
   "metadata": {
    "ExecuteTime": {
     "end_time": "2022-05-11T23:28:40.259231Z",
     "start_time": "2022-05-11T23:28:40.250802Z"
    }
   },
   "outputs": [],
   "source": [
    "class Carro:\n",
    "    pass"
   ]
  },
  {
   "cell_type": "code",
   "execution_count": null,
   "id": "c90b77ca",
   "metadata": {
    "ExecuteTime": {
     "end_time": "2022-05-11T23:28:49.359821Z",
     "start_time": "2022-05-11T23:28:49.356545Z"
    }
   },
   "outputs": [],
   "source": [
    "meu_carro = Carro()"
   ]
  },
  {
   "cell_type": "code",
   "execution_count": null,
   "id": "b0e7bda9",
   "metadata": {
    "ExecuteTime": {
     "end_time": "2022-05-11T23:29:17.482394Z",
     "start_time": "2022-05-11T23:29:17.480127Z"
    }
   },
   "outputs": [],
   "source": [
    "carro_do_ime = Carro()"
   ]
  },
  {
   "cell_type": "code",
   "execution_count": null,
   "id": "5e7020b4",
   "metadata": {
    "ExecuteTime": {
     "end_time": "2022-05-11T23:30:01.864694Z",
     "start_time": "2022-05-11T23:30:01.861118Z"
    }
   },
   "outputs": [],
   "source": [
    "meu_carro.ano = 1968\n",
    "meu_carro.modelo = 'Fusca'\n",
    "meu_carro.cor = 'azul'"
   ]
  },
  {
   "cell_type": "code",
   "execution_count": null,
   "id": "e425d20f",
   "metadata": {
    "ExecuteTime": {
     "end_time": "2022-05-11T23:31:10.345746Z",
     "start_time": "2022-05-11T23:31:10.341893Z"
    }
   },
   "outputs": [],
   "source": [
    "carro_do_ime.ano = 1981\n",
    "carro_do_ime.modelo = 'Brasília'\n",
    "carro_do_ime.cor = 'amarelo'"
   ]
  },
  {
   "cell_type": "code",
   "execution_count": null,
   "id": "9214ec0c",
   "metadata": {
    "ExecuteTime": {
     "end_time": "2022-05-12T01:32:13.455565Z",
     "start_time": "2022-05-12T01:32:13.451509Z"
    }
   },
   "outputs": [],
   "source": [
    "carro_do_ime.ano"
   ]
  },
  {
   "cell_type": "code",
   "execution_count": null,
   "id": "09863db3",
   "metadata": {
    "ExecuteTime": {
     "end_time": "2022-05-12T01:36:02.033398Z",
     "start_time": "2022-05-12T01:36:02.029992Z"
    }
   },
   "outputs": [],
   "source": [
    "# Método construtor __init__ definição de atributos: \n",
    "class Carro():\n",
    "    def __init__(self,modelo, ano, cor):\n",
    "        self.modelo = modelo\n",
    "        self.ano = ano\n",
    "        self.cor = cor\n",
    "        "
   ]
  },
  {
   "cell_type": "code",
   "execution_count": null,
   "id": "bdf46ab7",
   "metadata": {
    "ExecuteTime": {
     "end_time": "2022-05-12T01:37:14.310520Z",
     "start_time": "2022-05-12T01:37:14.307569Z"
    }
   },
   "outputs": [],
   "source": [
    "carro_do_meu_avo = Carro('Ford Ka', 2015, 'Branco')"
   ]
  },
  {
   "cell_type": "code",
   "execution_count": null,
   "id": "ca66390f",
   "metadata": {
    "ExecuteTime": {
     "end_time": "2022-05-12T01:37:26.039397Z",
     "start_time": "2022-05-12T01:37:26.035541Z"
    }
   },
   "outputs": [],
   "source": [
    "carro_do_meu_avo.modelo"
   ]
  },
  {
   "cell_type": "code",
   "execution_count": null,
   "id": "583d8137",
   "metadata": {
    "ExecuteTime": {
     "end_time": "2022-05-12T01:53:37.310326Z",
     "start_time": "2022-05-12T01:53:37.305712Z"
    }
   },
   "outputs": [],
   "source": [
    "class Bola():\n",
    "    def __init__(self,cor,diametro,material,ano_fabric):\n",
    "        self.cor = cor\n",
    "        self.diametro = diametro\n",
    "        self.material = material\n",
    "        ano_fabric = ano_fabric\n",
    "    \n",
    "    \n",
    "    def imprime(self):\n",
    "        if self.psi == 100:\n",
    "            print('A bola atingiu 100 psi de pressão interna')\n",
    "        elif self.psi > 100:\n",
    "            print('reduza a pressão interna da bola, já ultrapassou o limite de 100 psi')\n",
    "        else:\n",
    "            print('A bola está com pressão baixa, aumentar pressão!')\n",
    "            \n",
    "            \n",
    "    def pressao(self, psi):\n",
    "        self.psi = psi\n",
    "        self.imprime()"
   ]
  },
  {
   "cell_type": "code",
   "execution_count": null,
   "id": "a14ac6bb",
   "metadata": {
    "ExecuteTime": {
     "end_time": "2022-05-12T01:54:58.647717Z",
     "start_time": "2022-05-12T01:54:58.643909Z"
    }
   },
   "outputs": [],
   "source": [
    "def main():\n",
    "    bola1 = Bola('vermelha', 50, 'borracha', 1985)\n",
    "    \n",
    "    bola1.pressao(10)\n",
    "    bola1.pressao(50)\n",
    "    bola1.pressao(100)\n",
    "    bola1.pressao(200)\n",
    "    \n",
    "    "
   ]
  },
  {
   "cell_type": "code",
   "execution_count": null,
   "id": "3d98498b",
   "metadata": {
    "ExecuteTime": {
     "end_time": "2022-05-12T01:55:09.968689Z",
     "start_time": "2022-05-12T01:55:09.963953Z"
    }
   },
   "outputs": [],
   "source": [
    "main()"
   ]
  },
  {
   "cell_type": "markdown",
   "id": "f6a75900",
   "metadata": {},
   "source": [
    "# Boas práticas em orientação a objetos: \n",
    "\n",
    "- Escolher bons nomes para: \n",
    "    - variáveis;\n",
    "    - atributos/propriedades; ( Descrever claramente algumaa infromação)\n",
    "    - método e seus argumentos; ( Já ficar entendível durante a chamada)\n",
    "    - classes;\n",
    "- Intention-revealing names;\n",
    "- Classes geralmente são substantivos;\n",
    "- Métodos geralmente são verbos;\n",
    "\n",
    "- Uso extensivo de testes Automatizados: \n",
    "    -  Boa bateria de testes; ( Código que testa o código kkk, para garantir num determinado nível o bom funcionamento do software)\n",
    "    - Boa cobertura do código ( Ter boa cobertura do código testador sobre sua programação)\n",
    "    - Uso de arcabouços específicos\n",
    "        - SUnit/ Junit/ CppUnit\n",
    "        - PyTest / Robot\n",
    "        - RSpec, Cucumber, Capybara ( para Rubby)\n",
    "        - Selenium ( Fazer testes de sistemas web)\n",
    "    - TDD ( escreve o teste, aprova e refatora);\n",
    "    \n",
    " - Revisão por Pares:\n",
    "    - Mostre seu código para outros;\n",
    "    - Given enough eyebalss, all bugs are shallow;\n",
    "    - Aceite críticas/ aprenda com elas;\n",
    "    - Critique o código de outros;\n",
    "    - Programação em pares; ( Duas pessoas programando juntas, faz a revisão por pares em tempo real)\n",
    "  \n",
    "- Herança vs. Delegação: \n",
    "    - Herança é um mecanismo poderoso; \n",
    "        - mas, às vezes, forte demais; ( Amarra de mais o código)\n",
    "    - Evite hierarquias profundas demais;\n",
    "    - Muitas vezes o uso de delegação leva a siistemas mais siples e flexíveis\n",
    "    \n",
    "- Encapsulamento e Modularização: \n",
    "    - Encapsulamento:\n",
    "        - agrupar código e dados;\n",
    "        - o que a classe deve expor;\n",
    "        - o que a classe deve esconder;\n",
    "        - Uma classe não deve mexer nos atributos da outra;\n",
    "    - Modularização:\n",
    "        - Sistemas deve ser bem organizado em  módulos de forma a lidar com a complexidade;\n",
    "        \n",
    "- Coesão das classes: \n",
    "    - Em um sistema orientado a objetos, as classes devem possuir: \n",
    "        - uma única responsábilidade;\n",
    "        - Princípio da Responsabilidade Única;\n",
    "    - Ou seja, uma classe não deve tratar de assuntos diferentes.\n",
    "    - Se uma classe trata de 2 ou 3 assuntos, veja se não dá para quebra-la em 2 ou 3 classes menores;\n",
    "\n",
    "- Acoplamento entre classes:\n",
    "    - O quanto uma classe \"conhece\" do seu entorno;\n",
    "        - Muitas referencias a outra classes;\n",
    "        - Referencias a tipo muito específico;\n",
    "    - Classes muito aclopadas são poucos flexiveis, poucos reutilizáveis\n",
    "    - Program to an interface, not an implementation\n",
    "\n",
    "- Melhoria continua e Refatoriação:\n",
    "    - Um sistema sempre pode ficar melhor;\n",
    "    - Todo dia de trabalho, você deve pensar um pouco sobre como melhorar a arquitetura do seu sistema\n",
    "    - Refatoração = pequena reestruturação no código que não altera seu comportamento, mas melhora seu design\n",
    "    - Refatoração deve ser parte da rotina\n",
    "        \n"
   ]
  },
  {
   "cell_type": "code",
   "execution_count": null,
   "id": "9679a765",
   "metadata": {
    "ExecuteTime": {
     "end_time": "2022-05-21T13:54:36.962875Z",
     "start_time": "2022-05-21T13:54:36.958951Z"
    }
   },
   "outputs": [],
   "source": [
    "list1 = []\n",
    "list2 = [1,2,3,4,5]"
   ]
  },
  {
   "cell_type": "code",
   "execution_count": null,
   "id": "75bfa14d",
   "metadata": {
    "ExecuteTime": {
     "end_time": "2022-05-21T14:06:30.898123Z",
     "start_time": "2022-05-21T14:06:30.893638Z"
    }
   },
   "outputs": [],
   "source": [
    "def median(list1,list2):\n",
    "    num3 = list1+list2\n",
    "    num3.sort()\n",
    "    \n",
    "    if len(num3)%2 != 0:\n",
    "        return num3[int(len(num3)/2)]\n",
    "   \n",
    "    element_1 = num3[int(len(num3)/2 -1 )]\n",
    "    element_2 = num3[int(len(num3)/2 )]\n",
    "    median = (element_1 + element_2)/2\n",
    "    return median\n",
    "    "
   ]
  },
  {
   "cell_type": "code",
   "execution_count": null,
   "id": "8f326505",
   "metadata": {
    "ExecuteTime": {
     "end_time": "2022-05-21T14:06:31.401715Z",
     "start_time": "2022-05-21T14:06:31.396414Z"
    }
   },
   "outputs": [],
   "source": [
    "median(list1,list2)"
   ]
  },
  {
   "cell_type": "markdown",
   "id": "3e2bf6ec",
   "metadata": {
    "ExecuteTime": {
     "end_time": "2022-05-21T13:43:33.708137Z",
     "start_time": "2022-05-21T13:43:33.704644Z"
    }
   },
   "source": []
  },
  {
   "cell_type": "markdown",
   "id": "9ebdcfc3",
   "metadata": {
    "ExecuteTime": {
     "end_time": "2022-05-21T13:57:05.499024Z",
     "start_time": "2022-05-21T13:57:05.495009Z"
    }
   },
   "source": [
    "### Tratamento de Exceções: \n"
   ]
  },
  {
   "cell_type": "code",
   "execution_count": 2,
   "id": "e1d206b8",
   "metadata": {
    "ExecuteTime": {
     "end_time": "2022-05-25T00:17:51.042019Z",
     "start_time": "2022-05-25T00:17:38.332797Z"
    }
   },
   "outputs": [
    {
     "name": "stdout",
     "output_type": "stream",
     "text": [
      "Please enter a number:1.5\n",
      "Oops! That was no valid number. Try again...\n",
      "Please enter a number:2.6\n",
      "Oops! That was no valid number. Try again...\n",
      "Please enter a number:2\n"
     ]
    }
   ],
   "source": [
    "while True:\n",
    "\ttry: \n",
    "\t\tx = int(input(\"Please enter a number:\"))\n",
    "\t\tbreak\n",
    "\texcept ValueError:\n",
    "        \n",
    "\t\tprint(\"Oops! That was no valid number. Try again...\")"
   ]
  },
  {
   "cell_type": "markdown",
   "id": "0ff8262e",
   "metadata": {
    "ExecuteTime": {
     "end_time": "2022-05-21T14:04:27.778714Z",
     "start_time": "2022-05-21T14:04:27.775385Z"
    }
   },
   "source": [
    "### Exercicio Livro Pense em Python Capitulo 12.1\n",
    "* Escreva uma função chamada most_frequent que receba uma string e exiba as letras em ordem descrecente de frequencia. "
   ]
  },
  {
   "cell_type": "code",
   "execution_count": 35,
   "id": "bbf687bc",
   "metadata": {
    "ExecuteTime": {
     "end_time": "2022-06-07T23:34:11.555185Z",
     "start_time": "2022-06-07T23:34:11.550433Z"
    }
   },
   "outputs": [],
   "source": [
    "def most_frequent(string):\n",
    "    words = dict()\n",
    "    for word in string.lower():\n",
    "        words[word]= words.get(word,0) + 1\n",
    "        \n",
    "    ordering = sorted(words.items(), key = lambda item: item[1], reverse=True)\n",
    "    return dict(ordering)\n",
    "        "
   ]
  },
  {
   "cell_type": "code",
   "execution_count": 40,
   "id": "19428e0f",
   "metadata": {
    "ExecuteTime": {
     "end_time": "2022-06-07T23:37:31.308518Z",
     "start_time": "2022-06-07T23:37:31.305817Z"
    }
   },
   "outputs": [],
   "source": [
    "dataset = 'orem ipsum dolor sit amet, consectetur adipiscing elit. Proin odio nibh, aliquet sit amet massa ullamcorper, tincidunt congue sem. Nunc rutrum, neque et molestie eleifend, nisi lacus accumsan sapien, non sollicitudin massa ex at enim. Donec felis turpis, pretium ac tempor ac, accumsan nec turpis. Donec porttitor a turpis eget interdum. Vestibulum rutrum lectus eget quam scelerisque tempor et vel lacus. Curabitur nibh sem, egestas a volutpat imperdiet, ornare in nunc. Nam vitae ante sit amet tortor molestie semper eget sed ligula. Curabitur risus eros, rhoncus iaculis porta eget, ultrices placerat elit. Proin nec magna cursus, sodales odio non, varius odio.'"
   ]
  },
  {
   "cell_type": "code",
   "execution_count": 42,
   "id": "9a4be15f",
   "metadata": {
    "ExecuteTime": {
     "end_time": "2022-06-07T23:37:52.325059Z",
     "start_time": "2022-06-07T23:37:52.320131Z"
    }
   },
   "outputs": [
    {
     "data": {
      "text/plain": [
       "{' ': 100,\n",
       " 'e': 64,\n",
       " 'i': 50,\n",
       " 't': 50,\n",
       " 's': 44,\n",
       " 'u': 41,\n",
       " 'a': 40,\n",
       " 'r': 39,\n",
       " 'n': 36,\n",
       " 'o': 33,\n",
       " 'c': 30,\n",
       " 'm': 27,\n",
       " 'l': 25,\n",
       " 'p': 18,\n",
       " 'd': 14,\n",
       " ',': 14,\n",
       " '.': 10,\n",
       " 'g': 9,\n",
       " 'b': 5,\n",
       " 'v': 5,\n",
       " 'q': 4,\n",
       " 'h': 3,\n",
       " 'f': 2,\n",
       " 'x': 1}"
      ]
     },
     "execution_count": 42,
     "metadata": {},
     "output_type": "execute_result"
    }
   ],
   "source": [
    "most_frequent(dataset)"
   ]
  },
  {
   "cell_type": "code",
   "execution_count": 34,
   "id": "284659ef",
   "metadata": {
    "ExecuteTime": {
     "end_time": "2022-06-07T23:31:51.540598Z",
     "start_time": "2022-06-07T23:31:51.534862Z"
    }
   },
   "outputs": [
    {
     "data": {
      "text/plain": [
       "{'v': 5, 'r': 5, 'a': 4, 'p': 1, 'l': 1}"
      ]
     },
     "execution_count": 34,
     "metadata": {},
     "output_type": "execute_result"
    }
   ],
   "source": [
    "old_dict = {'p': 1, 'a': 4, 'l': 1, 'v': 5, 'r': 5}\n",
    "ordering = sorted(old_dict.items(), key=lambda item: item[1], reverse=True)\n",
    "dict(ordering)"
   ]
  },
  {
   "cell_type": "code",
   "execution_count": null,
   "id": "49346044",
   "metadata": {
    "ExecuteTime": {
     "end_time": "2022-06-07T23:23:11.539952Z",
     "start_time": "2022-06-07T23:23:11.535854Z"
    }
   },
   "outputs": [],
   "source": []
  },
  {
   "cell_type": "code",
   "execution_count": null,
   "id": "5a1c30d4",
   "metadata": {},
   "outputs": [],
   "source": []
  },
  {
   "cell_type": "markdown",
   "id": "ad79f258",
   "metadata": {},
   "source": [
    "## Testes aleatórios"
   ]
  },
  {
   "cell_type": "code",
   "execution_count": 1,
   "id": "53cfcd4f",
   "metadata": {
    "ExecuteTime": {
     "end_time": "2022-06-16T13:05:12.139599Z",
     "start_time": "2022-06-16T13:05:12.131439Z"
    }
   },
   "outputs": [],
   "source": [
    "def get_item(dictionary, key):\n",
    "    return dictionary.get(key)"
   ]
  },
  {
   "cell_type": "code",
   "execution_count": 5,
   "id": "25c2311a",
   "metadata": {
    "ExecuteTime": {
     "end_time": "2022-06-16T13:06:18.756427Z",
     "start_time": "2022-06-16T13:06:18.753832Z"
    }
   },
   "outputs": [],
   "source": [
    "sup = {'month':2, 'c': 245}"
   ]
  },
  {
   "cell_type": "code",
   "execution_count": 6,
   "id": "7c54b885",
   "metadata": {
    "ExecuteTime": {
     "end_time": "2022-06-16T13:06:19.205016Z",
     "start_time": "2022-06-16T13:06:19.201562Z"
    }
   },
   "outputs": [
    {
     "name": "stdout",
     "output_type": "stream",
     "text": [
      "2\n"
     ]
    }
   ],
   "source": [
    "print(get_item(sup,'month'))"
   ]
  },
  {
   "cell_type": "code",
   "execution_count": null,
   "id": "831eb275",
   "metadata": {},
   "outputs": [],
   "source": []
  },
  {
   "cell_type": "code",
   "execution_count": null,
   "id": "fc30cf0d",
   "metadata": {},
   "outputs": [],
   "source": []
  },
  {
   "cell_type": "code",
   "execution_count": null,
   "id": "f297dc13",
   "metadata": {},
   "outputs": [],
   "source": []
  },
  {
   "cell_type": "code",
   "execution_count": null,
   "id": "db0b06c5",
   "metadata": {},
   "outputs": [],
   "source": []
  },
  {
   "cell_type": "code",
   "execution_count": null,
   "id": "f15acd6e",
   "metadata": {},
   "outputs": [],
   "source": []
  },
  {
   "cell_type": "code",
   "execution_count": null,
   "id": "2acd2d68",
   "metadata": {},
   "outputs": [],
   "source": []
  }
 ],
 "metadata": {
  "kernelspec": {
   "display_name": "Python 3 (ipykernel)",
   "language": "python",
   "name": "python3"
  },
  "language_info": {
   "codemirror_mode": {
    "name": "ipython",
    "version": 3
   },
   "file_extension": ".py",
   "mimetype": "text/x-python",
   "name": "python",
   "nbconvert_exporter": "python",
   "pygments_lexer": "ipython3",
   "version": "3.9.7"
  }
 },
 "nbformat": 4,
 "nbformat_minor": 5
}
