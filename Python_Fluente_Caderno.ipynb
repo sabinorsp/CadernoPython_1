{
 "cells": [
  {
   "cell_type": "markdown",
   "id": "b9587cf2",
   "metadata": {},
   "source": [
    "# Exercicios e anotações Livro Python Fluente"
   ]
  },
  {
   "cell_type": "markdown",
   "id": "5306fc6c",
   "metadata": {},
   "source": [
    "## Capitulo 1\n"
   ]
  },
  {
   "cell_type": "markdown",
   "id": "bec664a6",
   "metadata": {},
   "source": [
    "### Um Baralho Pythonico\n",
    "* Métodos especiais: __getitem__ e __len__"
   ]
  },
  {
   "cell_type": "code",
   "execution_count": 15,
   "id": "84a610c4",
   "metadata": {
    "ExecuteTime": {
     "end_time": "2022-07-16T01:31:50.267314Z",
     "start_time": "2022-07-16T01:31:50.259610Z"
    }
   },
   "outputs": [],
   "source": [
    "# Um baralho como uma sequencia de cartas\n",
    "import collections\n",
    "\n",
    "Card = collections.namedtuple('Card', ['rank', 'suit'])\n",
    "\n",
    "class FrenchDeck:\n",
    "    ranks = [str(n) for n in range(2,11)] + list('JQKA')\n",
    "    suits = 'spades diamonds clubs hearts'.split()\n",
    "    \n",
    "    def __init__(self):\n",
    "        self.cards = [Card(rank,suit) for suit in self.suits \n",
    "                                      for rank in self.ranks]\n",
    "        \n",
    "    def __len__(self):\n",
    "        return len(self.cards)\n",
    "    \n",
    "    def __getitem__(self, position):\n",
    "        return self.cards[position]\n",
    "        \n",
    "        "
   ]
  },
  {
   "cell_type": "code",
   "execution_count": 16,
   "id": "6c43a7d1",
   "metadata": {
    "ExecuteTime": {
     "end_time": "2022-07-16T01:31:51.256247Z",
     "start_time": "2022-07-16T01:31:51.251487Z"
    }
   },
   "outputs": [
    {
     "data": {
      "text/plain": [
       "Card(rank='8', suit='diamante')"
      ]
     },
     "execution_count": 16,
     "metadata": {},
     "output_type": "execute_result"
    }
   ],
   "source": [
    "beer_card = Card('8','diamante')\n",
    "beer_card"
   ]
  },
  {
   "cell_type": "markdown",
   "id": "75c41b95",
   "metadata": {},
   "source": [
    "\" O ponto principal aqui é a classe FrenchDeck. Ela é concisa, porém bastante funcional. Para começar, como qualquer coleção Python padrão, o baralho responde à função len(), devolvendo o número de cartas que ele contém: "
   ]
  },
  {
   "cell_type": "code",
   "execution_count": 17,
   "id": "9eef509b",
   "metadata": {
    "ExecuteTime": {
     "end_time": "2022-07-16T01:31:52.063614Z",
     "start_time": "2022-07-16T01:31:52.059036Z"
    }
   },
   "outputs": [
    {
     "data": {
      "text/plain": [
       "52"
      ]
     },
     "execution_count": 17,
     "metadata": {},
     "output_type": "execute_result"
    }
   ],
   "source": [
    "deck = FrenchDeck()\n",
    "len(deck)"
   ]
  },
  {
   "cell_type": "code",
   "execution_count": 18,
   "id": "904cd478",
   "metadata": {
    "ExecuteTime": {
     "end_time": "2022-07-16T01:32:53.159646Z",
     "start_time": "2022-07-16T01:32:53.156880Z"
    }
   },
   "outputs": [],
   "source": [
    "# Ler cartas específicas do baralho, basta usar deck[0] ou deck[-1], e é isso que o método __getitem__ faz acontecer"
   ]
  },
  {
   "cell_type": "code",
   "execution_count": 19,
   "id": "0704ab84",
   "metadata": {
    "ExecuteTime": {
     "end_time": "2022-07-16T01:33:01.505090Z",
     "start_time": "2022-07-16T01:33:01.499774Z"
    }
   },
   "outputs": [
    {
     "data": {
      "text/plain": [
       "Card(rank='2', suit='spades')"
      ]
     },
     "execution_count": 19,
     "metadata": {},
     "output_type": "execute_result"
    }
   ],
   "source": [
    "deck[0]"
   ]
  },
  {
   "cell_type": "code",
   "execution_count": 20,
   "id": "25e76ff5",
   "metadata": {
    "ExecuteTime": {
     "end_time": "2022-07-16T01:33:10.929934Z",
     "start_time": "2022-07-16T01:33:10.924659Z"
    }
   },
   "outputs": [
    {
     "data": {
      "text/plain": [
       "Card(rank='A', suit='hearts')"
      ]
     },
     "execution_count": 20,
     "metadata": {},
     "output_type": "execute_result"
    }
   ],
   "source": [
    "deck[-1]"
   ]
  },
  {
   "cell_type": "markdown",
   "id": "46543b7a",
   "metadata": {},
   "source": [
    "O Python já possui uma função para obter um item aleatório de uma sequência: random.choice. Podemos simplismente usá-la em uma instância do baralho:\n"
   ]
  },
  {
   "cell_type": "code",
   "execution_count": 21,
   "id": "0b65beea",
   "metadata": {
    "ExecuteTime": {
     "end_time": "2022-07-16T01:35:13.032679Z",
     "start_time": "2022-07-16T01:35:13.028285Z"
    }
   },
   "outputs": [
    {
     "data": {
      "text/plain": [
       "Card(rank='5', suit='clubs')"
      ]
     },
     "execution_count": 21,
     "metadata": {},
     "output_type": "execute_result"
    }
   ],
   "source": [
    "from random import choice\n",
    "choice(deck)"
   ]
  },
  {
   "cell_type": "code",
   "execution_count": 22,
   "id": "0ebb65be",
   "metadata": {
    "ExecuteTime": {
     "end_time": "2022-07-16T01:35:21.801558Z",
     "start_time": "2022-07-16T01:35:21.796146Z"
    }
   },
   "outputs": [
    {
     "data": {
      "text/plain": [
       "Card(rank='9', suit='spades')"
      ]
     },
     "execution_count": 22,
     "metadata": {},
     "output_type": "execute_result"
    }
   ],
   "source": [
    "choice(deck)"
   ]
  },
  {
   "cell_type": "markdown",
   "id": "36085cad",
   "metadata": {},
   "source": [
    "\" Ao implementar os métodos especiais __len__ e __getitem__, nosso FrenchDeck se comporta como uma sequencia Python padrão, permitindo que se beneficie de recursos essenciais da linguagem ( por exemplo, iteração e fatiamento), e da biblioteca-padrão, conforme mostrado nos exemplos que usaram random.choice, reversed e sorted. Graças à composição, as implementações de __len__ e __getitem__ podem passar todo trabalho para um objeto list, ou seja, self.cards. "
   ]
  },
  {
   "cell_type": "code",
   "execution_count": null,
   "id": "3a36511b",
   "metadata": {},
   "outputs": [],
   "source": [
    "\n"
   ]
  },
  {
   "cell_type": "markdown",
   "id": "6fb5cbdf",
   "metadata": {},
   "source": [
    "## Capitulo 2: Uma coleção de sequencias\n",
    "\n",
    "* Sequencias container: \n",
    " - list, tuple e collections.deque - podem amarzenar itens de tipos diferentes;\n",
    " \n",
    "* Sequencias simples: \n",
    " - str, bytes, bytearray, memoryview e array.array armazenam itens de um só tipo;\n",
    " \n",
    " \n",
    "* Sequencias mutáveis: \n",
    "    - list, bytearray, array.array, collections.deque e memoryview;\n",
    "    \n",
    "* Sequencias imutáveis:\n",
    "    - tuble, str e bytes;"
   ]
  },
  {
   "cell_type": "markdown",
   "id": "104539cc",
   "metadata": {},
   "source": [
    "### List comprehensions e expressoes geradoras\n",
    "\n",
    "\" Uma maneira rápida de criar uma sequência é usar uma list comprehension ( se o alvo for uma list) ou uma empressão geradora ( para todos os demais tipos de sequencia). \""
   ]
  },
  {
   "cell_type": "code",
   "execution_count": 2,
   "id": "023af7b1",
   "metadata": {
    "ExecuteTime": {
     "end_time": "2022-07-20T01:32:21.998485Z",
     "start_time": "2022-07-20T01:32:21.993755Z"
    }
   },
   "outputs": [
    {
     "data": {
      "text/plain": [
       "[36, 67, 38, 64, 35]"
      ]
     },
     "execution_count": 2,
     "metadata": {},
     "output_type": "execute_result"
    }
   ],
   "source": [
    "# Exemplo 2.1: Cria uma lista de códigos a partir de uma string,usando laço for\n",
    "\n",
    "symbols = '$C&@#'\n",
    "codes = []\n",
    "for symbol in symbols:\n",
    "    codes.append(ord(symbol))\n",
    "    \n",
    "codes"
   ]
  },
  {
   "cell_type": "code",
   "execution_count": 3,
   "id": "bf415eef",
   "metadata": {
    "ExecuteTime": {
     "end_time": "2022-07-20T01:33:30.338287Z",
     "start_time": "2022-07-20T01:33:30.332830Z"
    }
   },
   "outputs": [
    {
     "data": {
      "text/plain": [
       "[64, 35, 36, 37, 37, 168, 35]"
      ]
     },
     "execution_count": 3,
     "metadata": {},
     "output_type": "execute_result"
    }
   ],
   "source": [
    "# Exemplo 2.1: Cria uma lista de códigos a partir de uma string, via método list comprehension\n",
    "\n",
    "symbols = '@#$%%¨#'\n",
    "codes = [ord(symbol) for symbol in symbols]\n",
    "codes"
   ]
  },
  {
   "cell_type": "markdown",
   "id": "634714d7",
   "metadata": {},
   "source": [
    "* Procure usar a list comprehension de forma concisa, se ela ocupar mais de duas linhas, provavelmente será melhor quebrá-la em partes ou reescrevê-la como um bom e velho laço for.\n",
    "\n",
    "* Em python 3, as list comprehension não deixa a variável vazar, ou seja, ela trata as variáveis local, isolando assim do global."
   ]
  },
  {
   "cell_type": "markdown",
   "id": "a453fc52",
   "metadata": {},
   "source": [
    "### Compração entre listcomps e map/filter"
   ]
  },
  {
   "cell_type": "code",
   "execution_count": 5,
   "id": "ee95c097",
   "metadata": {
    "ExecuteTime": {
     "end_time": "2022-07-20T01:38:37.557911Z",
     "start_time": "2022-07-20T01:38:37.552526Z"
    }
   },
   "outputs": [
    {
     "data": {
      "text/plain": [
       "[64, 64]"
      ]
     },
     "execution_count": 5,
     "metadata": {},
     "output_type": "execute_result"
    }
   ],
   "source": [
    "# Exemplo 2.3: A mesma lista criada por uma listcomp e uma composição de map /filter\n",
    "\n",
    "symbols = '(*@#&$@)'\n",
    "beyond_ascii = [ord(s) for s in symbols if ord(s)>50]\n",
    "beyond_ascii"
   ]
  },
  {
   "cell_type": "code",
   "execution_count": 7,
   "id": "667ea4d5",
   "metadata": {
    "ExecuteTime": {
     "end_time": "2022-07-20T01:39:56.744486Z",
     "start_time": "2022-07-20T01:39:56.737971Z"
    }
   },
   "outputs": [
    {
     "data": {
      "text/plain": [
       "[64, 64]"
      ]
     },
     "execution_count": 7,
     "metadata": {},
     "output_type": "execute_result"
    }
   ],
   "source": [
    "beyond_ascii = list(filter(lambda c: c>50, map(ord, symbols)))\n",
    "beyond_ascii"
   ]
  },
  {
   "cell_type": "markdown",
   "id": "0ab50fa5",
   "metadata": {},
   "source": [
    "### Produtos cartesianos\n",
    "* \" As listcomps podem gerar listas a partir do produto cartesiano de dois ou mais iteráveis."
   ]
  },
  {
   "cell_type": "code",
   "execution_count": 1,
   "id": "e3c8825b",
   "metadata": {
    "ExecuteTime": {
     "end_time": "2022-07-21T00:27:08.678915Z",
     "start_time": "2022-07-21T00:27:08.656673Z"
    }
   },
   "outputs": [
    {
     "data": {
      "text/plain": [
       "[('black', 'S'),\n",
       " ('black', 'M'),\n",
       " ('black', 'L'),\n",
       " ('white', 'S'),\n",
       " ('white', 'M'),\n",
       " ('white', 'L')]"
      ]
     },
     "execution_count": 1,
     "metadata": {},
     "output_type": "execute_result"
    }
   ],
   "source": [
    "# Exemplo 2.4: Produto cartesiano usando uma list comprehension\n",
    "\n",
    "colors = ['black', 'white']\n",
    "sizes = ['S', 'M', \"L\"]\n",
    "tshirts = [(color, size) for color in colors \n",
    "                         for size in sizes]\n",
    "tshirts"
   ]
  },
  {
   "cell_type": "markdown",
   "id": "c81d5197",
   "metadata": {},
   "source": [
    "### Expressões geradoras\n",
    "\n",
    "* As expressões geradoras utilizam a mesma sintaxe das listcomps, porém são delimitadas por parênteses, e não por colchetes."
   ]
  },
  {
   "cell_type": "code",
   "execution_count": 2,
   "id": "31c34a17",
   "metadata": {
    "ExecuteTime": {
     "end_time": "2022-07-21T00:29:40.488837Z",
     "start_time": "2022-07-21T00:29:40.483122Z"
    }
   },
   "outputs": [
    {
     "data": {
      "text/plain": [
       "(33, 64, 36, 37, 64, 35, 64, 33, 35)"
      ]
     },
     "execution_count": 2,
     "metadata": {},
     "output_type": "execute_result"
    }
   ],
   "source": [
    "# Exemplo 2.5: Inicializando uma tupla e um array a partir de uma expressão geradora;\n",
    "\n",
    "symbols = '!@$%@#@!#'\n",
    "tuple(ord(symbol) for symbol in symbols)"
   ]
  },
  {
   "cell_type": "code",
   "execution_count": 3,
   "id": "75b8a721",
   "metadata": {
    "ExecuteTime": {
     "end_time": "2022-07-21T00:30:17.031709Z",
     "start_time": "2022-07-21T00:30:17.027130Z"
    }
   },
   "outputs": [
    {
     "data": {
      "text/plain": [
       "array('I', [33, 64, 36, 37, 64, 35, 64, 33, 35])"
      ]
     },
     "execution_count": 3,
     "metadata": {},
     "output_type": "execute_result"
    }
   ],
   "source": [
    "import array\n",
    "\n",
    "array.array('I', (ord(symbol) for symbol in symbols))"
   ]
  },
  {
   "cell_type": "markdown",
   "id": "2a3c46e9",
   "metadata": {},
   "source": [
    "\" O exemplo 2.6 abaixo utiliza uma genexp como um produto cartesiano para exibir uma lista de camisetas de duas cores em três tamanhos. Em comparação com o exemplo 2.4, neste caso, a lista de camisetas com seis itens não é criada na memória: a expressão geradora alimenta o laço for gerando um item de cada vez. Se as duas listas usadas no produto cartesiano tivessem mil itens cada, usar uma expressão geradora evitaria o custo de criar uma lista com um milhão de itens cada, usar uma expressão geradora evitaria o custo de criar uma lista com um milhão de itens somente para alimentar o laço for.\""
   ]
  },
  {
   "cell_type": "code",
   "execution_count": 4,
   "id": "195240ea",
   "metadata": {
    "ExecuteTime": {
     "end_time": "2022-07-21T00:36:09.711612Z",
     "start_time": "2022-07-21T00:36:09.706855Z"
    }
   },
   "outputs": [
    {
     "name": "stdout",
     "output_type": "stream",
     "text": [
      "black S\n",
      "black M\n",
      "black L\n",
      "white S\n",
      "white M\n",
      "white L\n"
     ]
    }
   ],
   "source": [
    "#Exemplo 2.6: Produto cartesiano em uma expressão geradora\n",
    "\n",
    "colors = ['black', 'white']\n",
    "sizes = ['S', 'M', 'L']\n",
    "for tshirt in ('%s %s' %(c,s) for c in colors for s in sizes):\n",
    "    print(tshirt)"
   ]
  },
  {
   "cell_type": "markdown",
   "id": "18816650",
   "metadata": {},
   "source": [
    "## Tuplas não são apenas listas imutáveis: \n",
    "\n",
    "As tuplas tem dupla função: \n",
    "\n",
    "* Podem ser usadas como listas imutáveis;\n",
    "\n",
    "* Também como registror sem nomes de campos. "
   ]
  },
  {
   "cell_type": "markdown",
   "id": "63756412",
   "metadata": {},
   "source": [
    "### Tuplas como registros\n",
    "\n",
    "- Tuplas armazenam registror: cada item da tupla armazena os dados de um campo, e a posição do item na tupla confere o seu significado. "
   ]
  },
  {
   "cell_type": "code",
   "execution_count": 5,
   "id": "6f50f6ab",
   "metadata": {
    "ExecuteTime": {
     "end_time": "2022-07-21T00:44:31.551499Z",
     "start_time": "2022-07-21T00:44:31.547142Z"
    }
   },
   "outputs": [
    {
     "name": "stdout",
     "output_type": "stream",
     "text": [
      "BRA CE342567\n",
      "ESP XDA205856\n",
      "USA 31195855\n"
     ]
    }
   ],
   "source": [
    "# Exemplo 2.7: Tuplas usadas como registros\n",
    "\n",
    "lax_coordinates = (33.9425, -118.408056)\n",
    "city, year, pop, chg, area = ('Tokyo', 2003, 32450, 0.66, 8014)\n",
    "traveler_ids = [('USA', '31195855'), ('BRA', 'CE342567'), ('ESP', 'XDA205856')]\n",
    "\n",
    "for passport in sorted(traveler_ids):\n",
    "    print('%s %s' % passport)"
   ]
  },
  {
   "cell_type": "code",
   "execution_count": 7,
   "id": "268ff8a1",
   "metadata": {
    "ExecuteTime": {
     "end_time": "2022-07-21T00:45:18.450057Z",
     "start_time": "2022-07-21T00:45:18.445749Z"
    }
   },
   "outputs": [
    {
     "name": "stdout",
     "output_type": "stream",
     "text": [
      "USA\n",
      "BRA\n",
      "ESP\n"
     ]
    }
   ],
   "source": [
    "for country, _ in traveler_ids:\n",
    "    print(country)"
   ]
  },
  {
   "cell_type": "markdown",
   "id": "d2505695",
   "metadata": {},
   "source": [
    "\" o laço for sabe como obter os itens de uma tupla separadamente -  isso é chamado de \"desempacotamento\" (unpacking). Nesse caso, não estamos interessados no segundo item, portanto ele é atribuído a _, que é uma variável comumente usada para capturar valores que não queremos usar."
   ]
  },
  {
   "cell_type": "markdown",
   "id": "a284d11f",
   "metadata": {},
   "source": [
    "### Desempacotamento de tuplas\n",
    "\n",
    "city, year, pop, chg, area = ('Tokyo', 2003, 32450, 0.66, 8014) e print('%s %s' % passport) são exemplos de desempacotamento de tuplas ou desempacotamento de iteráveis."
   ]
  },
  {
   "cell_type": "code",
   "execution_count": 11,
   "id": "2589cf45",
   "metadata": {
    "ExecuteTime": {
     "end_time": "2022-07-21T00:51:37.981712Z",
     "start_time": "2022-07-21T00:51:37.977987Z"
    }
   },
   "outputs": [
    {
     "data": {
      "text/plain": [
       "33.9425"
      ]
     },
     "execution_count": 11,
     "metadata": {},
     "output_type": "execute_result"
    }
   ],
   "source": [
    "# Exemplo: \n",
    "\n",
    "lax_coordinates = (33.9425, -118.408056)\n",
    "\n",
    "latitude, longitude = lax_coordinates # desempacotamento de tupla\n",
    "\n",
    "latitude"
   ]
  },
  {
   "cell_type": "code",
   "execution_count": 12,
   "id": "ed865c91",
   "metadata": {
    "ExecuteTime": {
     "end_time": "2022-07-21T00:51:38.326062Z",
     "start_time": "2022-07-21T00:51:38.321693Z"
    }
   },
   "outputs": [
    {
     "data": {
      "text/plain": [
       "-118.408056"
      ]
     },
     "execution_count": 12,
     "metadata": {},
     "output_type": "execute_result"
    }
   ],
   "source": [
    "longitude"
   ]
  },
  {
   "cell_type": "markdown",
   "id": "42dd1828",
   "metadata": {},
   "source": [
    "\" Outro exemplo de desempacotamento de tuplas consiste em prefixar um argumnento com um asterisco ao chamar uma função: \"\n"
   ]
  },
  {
   "cell_type": "code",
   "execution_count": 13,
   "id": "6f9a787f",
   "metadata": {
    "ExecuteTime": {
     "end_time": "2022-07-21T00:53:20.926518Z",
     "start_time": "2022-07-21T00:53:20.922577Z"
    }
   },
   "outputs": [
    {
     "data": {
      "text/plain": [
       "(2, 4)"
      ]
     },
     "execution_count": 13,
     "metadata": {},
     "output_type": "execute_result"
    }
   ],
   "source": [
    "# Exemplo: \n",
    "\n",
    "t = (20, 8)\n",
    "divmod(*t)"
   ]
  },
  {
   "cell_type": "code",
   "execution_count": 14,
   "id": "522280fc",
   "metadata": {
    "ExecuteTime": {
     "end_time": "2022-07-21T00:53:34.142058Z",
     "start_time": "2022-07-21T00:53:34.138351Z"
    }
   },
   "outputs": [],
   "source": [
    "quotient, remainder = divmod(*t)"
   ]
  },
  {
   "cell_type": "code",
   "execution_count": 15,
   "id": "af1666aa",
   "metadata": {
    "ExecuteTime": {
     "end_time": "2022-07-21T00:53:38.109361Z",
     "start_time": "2022-07-21T00:53:38.105038Z"
    }
   },
   "outputs": [
    {
     "data": {
      "text/plain": [
       "2"
      ]
     },
     "execution_count": 15,
     "metadata": {},
     "output_type": "execute_result"
    }
   ],
   "source": [
    "quotient"
   ]
  },
  {
   "cell_type": "code",
   "execution_count": 16,
   "id": "bed4394c",
   "metadata": {
    "ExecuteTime": {
     "end_time": "2022-07-21T00:53:43.637841Z",
     "start_time": "2022-07-21T00:53:43.633667Z"
    }
   },
   "outputs": [
    {
     "data": {
      "text/plain": [
       "4"
      ]
     },
     "execution_count": 16,
     "metadata": {},
     "output_type": "execute_result"
    }
   ],
   "source": [
    "remainder"
   ]
  },
  {
   "cell_type": "markdown",
   "id": "9bc501cf",
   "metadata": {},
   "source": [
    "### Usando * para capturar itens excedentes"
   ]
  },
  {
   "cell_type": "code",
   "execution_count": 18,
   "id": "f0ee9a05",
   "metadata": {
    "ExecuteTime": {
     "end_time": "2022-07-21T00:57:19.252049Z",
     "start_time": "2022-07-21T00:57:19.247672Z"
    }
   },
   "outputs": [
    {
     "data": {
      "text/plain": [
       "(0, 1, [2, 3, 4])"
      ]
     },
     "execution_count": 18,
     "metadata": {},
     "output_type": "execute_result"
    }
   ],
   "source": [
    "# Exemplos: \n",
    "\n",
    "a, b, *rest = range(5)\n",
    "a, b, rest"
   ]
  },
  {
   "cell_type": "code",
   "execution_count": 20,
   "id": "506633f1",
   "metadata": {
    "ExecuteTime": {
     "end_time": "2022-07-21T00:58:01.470563Z",
     "start_time": "2022-07-21T00:58:01.465967Z"
    }
   },
   "outputs": [
    {
     "data": {
      "text/plain": [
       "(0, [1, 2], 3, 4)"
      ]
     },
     "execution_count": 20,
     "metadata": {},
     "output_type": "execute_result"
    }
   ],
   "source": [
    "a, *body, c, d = range(5)\n",
    "\n",
    "a, body, c, d"
   ]
  },
  {
   "cell_type": "markdown",
   "id": "397061bd",
   "metadata": {},
   "source": [
    "### Desempacotamento de tuplas aninhadas\n",
    "\n",
    "* A tupla que receberá uma expressão a ser desempacotada pode ter tuplas aninhadas, por exemplo(a, b, (c, d)), e Python fará a coisa certa se a expressão combinar com a estrutura aninhada."
   ]
  },
  {
   "cell_type": "code",
   "execution_count": 29,
   "id": "1adcb366",
   "metadata": {
    "ExecuteTime": {
     "end_time": "2022-07-21T01:07:49.370971Z",
     "start_time": "2022-07-21T01:07:49.365762Z"
    }
   },
   "outputs": [],
   "source": [
    "# Exemplo 2.8: Desempacotando tuplas aninhadas para acessar a longitude\n",
    "\n",
    "metro_areas = [('Tokyo', 'JP', 6565, (35.689772, 129.5234234)),\n",
    "              ('Balala', 'BL', 6565, (31.689772, 159.5234234)),\n",
    "              ('KEIKU', 'KJ', 6565, (36.689772, 119.5234234)),\n",
    "              ('Tuiuiui', 'TU', 6565, (12.689772, 169.5234234)),\n",
    "              ('HAhaha', 'HA', 6565, (14.689772, 200.5234234))]"
   ]
  },
  {
   "cell_type": "code",
   "execution_count": 30,
   "id": "03d90083",
   "metadata": {
    "ExecuteTime": {
     "end_time": "2022-07-21T01:07:49.912499Z",
     "start_time": "2022-07-21T01:07:49.907798Z"
    }
   },
   "outputs": [
    {
     "name": "stdout",
     "output_type": "stream",
     "text": [
      "                |    lat    |   long   \n",
      "Tokyo           |   35.6898 | -118.4081\n",
      "Balala          |   31.6898 | -118.4081\n",
      "KEIKU           |   36.6898 | -118.4081\n",
      "Tuiuiui         |   12.6898 | -118.4081\n",
      "HAhaha          |   14.6898 | -118.4081\n"
     ]
    }
   ],
   "source": [
    "print('{:15} | {:^9} | {:^9}'.format('', 'lat', 'long'))\n",
    "fmt = '{:15} | {:9.4f} | {:9.4f}'\n",
    "\n",
    "for name, cc, pop, ( latitude, logintude) in metro_areas:\n",
    "    print(fmt.format(name, latitude, longitude))"
   ]
  },
  {
   "cell_type": "markdown",
   "id": "299ef43d",
   "metadata": {},
   "source": [
    "### Tuplas nomeadas \n",
    "* Associar nomes aos campos é por isso que a função namedtuple foi criada\n",
    "\n",
    "A Função collections.namedtuple á uma fábrica que gera subclasses de tuple melhoradas com nomes de campos e umnome de classe."
   ]
  },
  {
   "cell_type": "code",
   "execution_count": 32,
   "id": "ee005649",
   "metadata": {
    "ExecuteTime": {
     "end_time": "2022-07-21T01:15:50.424239Z",
     "start_time": "2022-07-21T01:15:50.419108Z"
    }
   },
   "outputs": [
    {
     "data": {
      "text/plain": [
       "City(name='Tokyo', country='JP', population=36, coordinates=(35, 139))"
      ]
     },
     "execution_count": 32,
     "metadata": {},
     "output_type": "execute_result"
    }
   ],
   "source": [
    "# Exemplo 2.9: Defiinindo e usando uma tupla nomeada\n",
    "\n",
    "from collections import namedtuple\n",
    "\n",
    "City = namedtuple('City', 'name country population coordinates')\n",
    "tokyo = City('Tokyo', 'JP', 36, (35, 139))\n",
    "\n",
    "tokyo"
   ]
  },
  {
   "cell_type": "code",
   "execution_count": 33,
   "id": "5c50f349",
   "metadata": {
    "ExecuteTime": {
     "end_time": "2022-07-21T01:16:33.011275Z",
     "start_time": "2022-07-21T01:16:33.007802Z"
    }
   },
   "outputs": [
    {
     "data": {
      "text/plain": [
       "36"
      ]
     },
     "execution_count": 33,
     "metadata": {},
     "output_type": "execute_result"
    }
   ],
   "source": [
    "tokyo.population"
   ]
  },
  {
   "cell_type": "code",
   "execution_count": 34,
   "id": "c442d8ad",
   "metadata": {
    "ExecuteTime": {
     "end_time": "2022-07-21T01:17:28.515461Z",
     "start_time": "2022-07-21T01:17:28.509979Z"
    }
   },
   "outputs": [
    {
     "data": {
      "text/plain": [
       "(35, 139)"
      ]
     },
     "execution_count": 34,
     "metadata": {},
     "output_type": "execute_result"
    }
   ],
   "source": [
    "tokyo.coordinates"
   ]
  },
  {
   "cell_type": "markdown",
   "id": "6f916ad3",
   "metadata": {},
   "source": [
    "\" Uma tupla nomeada tem alguns atributos além daqueles herdados de tuple: _fields, _make(iterable) e _asdict()"
   ]
  },
  {
   "cell_type": "code",
   "execution_count": 36,
   "id": "e7a7a4cd",
   "metadata": {
    "ExecuteTime": {
     "end_time": "2022-07-21T01:19:51.670170Z",
     "start_time": "2022-07-21T01:19:51.665815Z"
    }
   },
   "outputs": [
    {
     "data": {
      "text/plain": [
       "('name', 'country', 'population', 'coordinates')"
      ]
     },
     "execution_count": 36,
     "metadata": {},
     "output_type": "execute_result"
    }
   ],
   "source": [
    "# Exemplo 2.10 - Atributos e métodos de uma tupla nomeada ( continuação do exemplo anterior)\n",
    "\n",
    "City._fields"
   ]
  },
  {
   "cell_type": "code",
   "execution_count": 39,
   "id": "7d9011e4",
   "metadata": {
    "ExecuteTime": {
     "end_time": "2022-07-21T01:26:16.005123Z",
     "start_time": "2022-07-21T01:26:15.999590Z"
    }
   },
   "outputs": [
    {
     "data": {
      "text/plain": [
       "{'name': 'Delhi NCR',\n",
       " 'country': 'IN',\n",
       " 'population': 12,\n",
       " 'coordinates': Latlong(lat=23, long=32)}"
      ]
     },
     "execution_count": 39,
     "metadata": {},
     "output_type": "execute_result"
    }
   ],
   "source": [
    "Latlong = namedtuple('Latlong', 'lat long')\n",
    "delphi_data = ('Delhi NCR', 'IN', 12, Latlong(23,32))\n",
    "delphi = City._make(delphi_data)\n",
    "delphi._asdict()"
   ]
  },
  {
   "cell_type": "markdown",
   "id": "a7db13e0",
   "metadata": {},
   "source": [
    "### Fatiamento"
   ]
  },
  {
   "cell_type": "markdown",
   "id": "694dd37c",
   "metadata": {},
   "source": [
    "* A notação a:b:c é válida somente entre [], quando usada como o operador de indexação e resultará em um objeto do tipo slice.slice(a,b,c).\n",
    "\n",
    "* Suponha que precisa-se analisar os dados de um arquivo de texto de colunas fixas, como a fatura mostrada no exemplo 2.11. Em vez de encher o código com fatias fixas, pode-se nomea-las"
   ]
  },
  {
   "cell_type": "code",
   "execution_count": 1,
   "id": "29670e18",
   "metadata": {
    "ExecuteTime": {
     "end_time": "2022-07-21T09:47:48.754964Z",
     "start_time": "2022-07-21T09:47:48.742535Z"
    }
   },
   "outputs": [
    {
     "name": "stdout",
     "output_type": "stream",
     "text": [
      "    $17.50   imoroni PiBrella                  \n",
      "     $4.95   mm Tactile Switch x20             \n",
      "    $28.00   anavise Jr. - PV-201              \n",
      "    $34.95   iTFT Mini Kit 320x240             \n",
      " \n"
     ]
    }
   ],
   "source": [
    "# Exemplo 2.11: Itens de cada linha de um arquivo simples de fatura\n",
    "\n",
    "invoice = \"\"\"\n",
    "0.....6.................................40........52...55........\n",
    "1909 Pimoroni PiBrella                      $17.50    3    $52.50\n",
    "1489 6mm Tactile Switch x20                  $4.95    2    $9.90\n",
    "1510 Panavise Jr. - PV-201                  $28.00    1    $28.00\n",
    "1601 PiTFT Mini Kit 320x240                 $34.95    1    $34.95\n",
    "\"\"\"\n",
    "\n",
    "SKU = slice(0, 6)\n",
    "DESCRIPTION = slice(6, 40)\n",
    "UNIT_PRICE = slice(40, 52)\n",
    "QUANTITY = slice(52, 55)\n",
    "ITEM_TOTAL = slice(55, None)\n",
    "\n",
    "line_items = invoice.split('\\n')[2:]\n",
    "\n",
    "for item in line_items:\n",
    "    print(item[UNIT_PRICE], item[DESCRIPTION])"
   ]
  },
  {
   "cell_type": "markdown",
   "id": "e4ccc947",
   "metadata": {
    "ExecuteTime": {
     "end_time": "2022-07-21T09:51:00.691200Z",
     "start_time": "2022-07-21T09:51:00.680979Z"
    }
   },
   "source": [
    "- Sequencias mutáveis podem ser modificadas usando a notação de fatias do lado esquerdo de uma atribuição ou como alvo de um comando del. Segue os exemplos:"
   ]
  },
  {
   "cell_type": "code",
   "execution_count": 5,
   "id": "7447e9fa",
   "metadata": {
    "ExecuteTime": {
     "end_time": "2022-07-21T09:56:37.490342Z",
     "start_time": "2022-07-21T09:56:37.485667Z"
    }
   },
   "outputs": [
    {
     "data": {
      "text/plain": [
       "[0, 1, 2, 3, 4, 5, 6, 7, 8, 9]"
      ]
     },
     "execution_count": 5,
     "metadata": {},
     "output_type": "execute_result"
    }
   ],
   "source": [
    "l = list(range(10))\n",
    "l"
   ]
  },
  {
   "cell_type": "code",
   "execution_count": 8,
   "id": "febd4c65",
   "metadata": {
    "ExecuteTime": {
     "end_time": "2022-07-21T09:56:58.884252Z",
     "start_time": "2022-07-21T09:56:58.878091Z"
    }
   },
   "outputs": [
    {
     "data": {
      "text/plain": [
       "[0, 1, 20, 30, 6, 7, 8, 9]"
      ]
     },
     "execution_count": 8,
     "metadata": {},
     "output_type": "execute_result"
    }
   ],
   "source": [
    "l[2:5] = [20, 30]\n",
    "l"
   ]
  },
  {
   "cell_type": "code",
   "execution_count": 9,
   "id": "29c7eb4c",
   "metadata": {
    "ExecuteTime": {
     "end_time": "2022-07-21T09:57:14.785746Z",
     "start_time": "2022-07-21T09:57:14.781735Z"
    }
   },
   "outputs": [
    {
     "data": {
      "text/plain": [
       "[0, 1, 20, 30, 6, 9]"
      ]
     },
     "execution_count": 9,
     "metadata": {},
     "output_type": "execute_result"
    }
   ],
   "source": [
    "del l[5:7]\n",
    "l"
   ]
  },
  {
   "cell_type": "code",
   "execution_count": 11,
   "id": "602eb19f",
   "metadata": {
    "ExecuteTime": {
     "end_time": "2022-07-21T09:58:06.945535Z",
     "start_time": "2022-07-21T09:58:06.941648Z"
    }
   },
   "outputs": [
    {
     "data": {
      "text/plain": [
       "[0, 1, 20, 11, 6, 22]"
      ]
     },
     "execution_count": 11,
     "metadata": {},
     "output_type": "execute_result"
    }
   ],
   "source": [
    "l[3::2] = [11, 22]\n",
    "l"
   ]
  },
  {
   "cell_type": "code",
   "execution_count": 12,
   "id": "9d10a9c0",
   "metadata": {
    "ExecuteTime": {
     "end_time": "2022-07-21T09:58:45.299761Z",
     "start_time": "2022-07-21T09:58:45.292969Z"
    }
   },
   "outputs": [
    {
     "ename": "TypeError",
     "evalue": "can only assign an iterable",
     "output_type": "error",
     "traceback": [
      "\u001b[0;31m---------------------------------------------------------------------------\u001b[0m",
      "\u001b[0;31mTypeError\u001b[0m                                 Traceback (most recent call last)",
      "\u001b[0;32m/tmp/ipykernel_3981/972534417.py\u001b[0m in \u001b[0;36m<module>\u001b[0;34m\u001b[0m\n\u001b[0;32m----> 1\u001b[0;31m \u001b[0ml\u001b[0m\u001b[0;34m[\u001b[0m\u001b[0;36m2\u001b[0m\u001b[0;34m:\u001b[0m\u001b[0;36m5\u001b[0m\u001b[0;34m]\u001b[0m \u001b[0;34m=\u001b[0m \u001b[0;36m100\u001b[0m\u001b[0;34m\u001b[0m\u001b[0;34m\u001b[0m\u001b[0m\n\u001b[0m\u001b[1;32m      2\u001b[0m \u001b[0ml\u001b[0m\u001b[0;34m\u001b[0m\u001b[0;34m\u001b[0m\u001b[0m\n",
      "\u001b[0;31mTypeError\u001b[0m: can only assign an iterable"
     ]
    }
   ],
   "source": [
    "l[2:5] = 100\n",
    "l"
   ]
  },
  {
   "cell_type": "code",
   "execution_count": 14,
   "id": "0e8ceb64",
   "metadata": {
    "ExecuteTime": {
     "end_time": "2022-07-21T09:59:15.760791Z",
     "start_time": "2022-07-21T09:59:15.756549Z"
    }
   },
   "outputs": [
    {
     "data": {
      "text/plain": [
       "[0, 1, 1100]"
      ]
     },
     "execution_count": 14,
     "metadata": {},
     "output_type": "execute_result"
    }
   ],
   "source": [
    "l[2:5] = [1100]\n",
    "l"
   ]
  },
  {
   "cell_type": "markdown",
   "id": "7e03f5f1",
   "metadata": {},
   "source": [
    "### Usando + e * com sequencias"
   ]
  },
  {
   "cell_type": "code",
   "execution_count": 15,
   "id": "af169f73",
   "metadata": {
    "ExecuteTime": {
     "end_time": "2022-07-21T10:01:37.115538Z",
     "start_time": "2022-07-21T10:01:37.110175Z"
    }
   },
   "outputs": [
    {
     "data": {
      "text/plain": [
       "[1, 2, 3, 1, 2, 3, 1, 2, 3, 1, 2, 3, 1, 2, 3]"
      ]
     },
     "execution_count": 15,
     "metadata": {},
     "output_type": "execute_result"
    }
   ],
   "source": [
    "# Para concatenar diversas cópias da mesma sequencia, multiplique-a por um inteiro:\n",
    "\n",
    "l= [1, 2, 3]\n",
    "l*5"
   ]
  },
  {
   "cell_type": "code",
   "execution_count": 16,
   "id": "88a5084e",
   "metadata": {
    "ExecuteTime": {
     "end_time": "2022-07-21T10:01:48.475011Z",
     "start_time": "2022-07-21T10:01:48.470653Z"
    }
   },
   "outputs": [
    {
     "data": {
      "text/plain": [
       "'abcabcabcabcabc'"
      ]
     },
     "execution_count": 16,
     "metadata": {},
     "output_type": "execute_result"
    }
   ],
   "source": [
    "5*'abc'"
   ]
  },
  {
   "cell_type": "markdown",
   "id": "3fcde8c1",
   "metadata": {},
   "source": [
    "### Criando listas de listas"
   ]
  },
  {
   "cell_type": "code",
   "execution_count": 17,
   "id": "367d5a4e",
   "metadata": {
    "ExecuteTime": {
     "end_time": "2022-07-21T10:04:17.444321Z",
     "start_time": "2022-07-21T10:04:17.437718Z"
    }
   },
   "outputs": [
    {
     "data": {
      "text/plain": [
       "[['_', '_', '_'], ['_', '_', '_'], ['_', '_', '_']]"
      ]
     },
     "execution_count": 17,
     "metadata": {},
     "output_type": "execute_result"
    }
   ],
   "source": [
    "# Exemplo 2.12 - Uma lista com três liastas de tamanho 3 pode representar um tabuleiro de jogo da velha\n",
    "\n",
    "board = [['_']*3 for i in range(3)]\n",
    "board"
   ]
  },
  {
   "cell_type": "code",
   "execution_count": 18,
   "id": "355b0282",
   "metadata": {
    "ExecuteTime": {
     "end_time": "2022-07-21T10:04:49.418150Z",
     "start_time": "2022-07-21T10:04:49.414003Z"
    }
   },
   "outputs": [
    {
     "data": {
      "text/plain": [
       "[['_', '_', '_'], ['_', '_', 'X'], ['_', '_', '_']]"
      ]
     },
     "execution_count": 18,
     "metadata": {},
     "output_type": "execute_result"
    }
   ],
   "source": [
    "board[1][2] = 'X'\n",
    "board"
   ]
  },
  {
   "cell_type": "code",
   "execution_count": 22,
   "id": "813d7004",
   "metadata": {
    "ExecuteTime": {
     "end_time": "2022-07-21T10:08:57.659875Z",
     "start_time": "2022-07-21T10:08:57.653751Z"
    }
   },
   "outputs": [
    {
     "data": {
      "text/plain": [
       "[['_', '_', '_'], ['_', '_', '_'], ['_', '_', '_']]"
      ]
     },
     "execution_count": 22,
     "metadata": {},
     "output_type": "execute_result"
    }
   ],
   "source": [
    "# Uma forma incorreta: (para uma melhor explicação, veja a página 65 do livro!)\n",
    "\n",
    "# Exemplo 2.13 - Uma lista com três referencias é a mesma lista é inutil\n",
    "\n",
    "weird_board = [['_']*3]*3\n",
    "weird_board"
   ]
  },
  {
   "cell_type": "code",
   "execution_count": 23,
   "id": "cb911d4e",
   "metadata": {
    "ExecuteTime": {
     "end_time": "2022-07-21T10:08:58.393200Z",
     "start_time": "2022-07-21T10:08:58.388963Z"
    }
   },
   "outputs": [
    {
     "data": {
      "text/plain": [
       "[['_', '_', 'O'], ['_', '_', 'O'], ['_', '_', 'O']]"
      ]
     },
     "execution_count": 23,
     "metadata": {},
     "output_type": "execute_result"
    }
   ],
   "source": [
    "weird_board[1][2] ='O'\n",
    "weird_board"
   ]
  },
  {
   "cell_type": "markdown",
   "id": "33df196b",
   "metadata": {},
   "source": [
    "### Atribuições combinadas e sequência\n",
    "ref. pg.66"
   ]
  },
  {
   "cell_type": "code",
   "execution_count": 29,
   "id": "28ae3b4f",
   "metadata": {
    "ExecuteTime": {
     "end_time": "2022-07-21T10:14:59.223524Z",
     "start_time": "2022-07-21T10:14:59.217629Z"
    }
   },
   "outputs": [
    {
     "data": {
      "text/plain": [
       "140191203711168"
      ]
     },
     "execution_count": 29,
     "metadata": {},
     "output_type": "execute_result"
    }
   ],
   "source": [
    "l = [1, 2, 3]\n",
    "id(l)"
   ]
  },
  {
   "cell_type": "code",
   "execution_count": 30,
   "id": "48ecc607",
   "metadata": {
    "ExecuteTime": {
     "end_time": "2022-07-21T10:15:00.618767Z",
     "start_time": "2022-07-21T10:15:00.615026Z"
    }
   },
   "outputs": [
    {
     "data": {
      "text/plain": [
       "[1, 2, 3, 1, 2, 3]"
      ]
     },
     "execution_count": 30,
     "metadata": {},
     "output_type": "execute_result"
    }
   ],
   "source": [
    "l *= 2\n",
    "l"
   ]
  },
  {
   "cell_type": "code",
   "execution_count": 31,
   "id": "912fafb6",
   "metadata": {
    "ExecuteTime": {
     "end_time": "2022-07-21T10:15:01.123815Z",
     "start_time": "2022-07-21T10:15:01.120154Z"
    }
   },
   "outputs": [
    {
     "data": {
      "text/plain": [
       "140191203711168"
      ]
     },
     "execution_count": 31,
     "metadata": {},
     "output_type": "execute_result"
    }
   ],
   "source": [
    "id(l) # permanece salvo na mesma alocação"
   ]
  },
  {
   "cell_type": "code",
   "execution_count": 32,
   "id": "cdcd10be",
   "metadata": {
    "ExecuteTime": {
     "end_time": "2022-07-21T10:15:03.212890Z",
     "start_time": "2022-07-21T10:15:03.207503Z"
    }
   },
   "outputs": [
    {
     "data": {
      "text/plain": [
       "140191718956544"
      ]
     },
     "execution_count": 32,
     "metadata": {},
     "output_type": "execute_result"
    }
   ],
   "source": [
    "# uso com dado imutável\n",
    "\n",
    "t = (1, 2, 3)\n",
    "id(t)\n"
   ]
  },
  {
   "cell_type": "code",
   "execution_count": 34,
   "id": "08e76d2f",
   "metadata": {
    "ExecuteTime": {
     "end_time": "2022-07-21T10:15:40.053454Z",
     "start_time": "2022-07-21T10:15:40.048815Z"
    }
   },
   "outputs": [
    {
     "data": {
      "text/plain": [
       "140191722744272"
      ]
     },
     "execution_count": 34,
     "metadata": {},
     "output_type": "execute_result"
    }
   ],
   "source": [
    "t *=2\n",
    "id(t) # uma nova tupla foi criada"
   ]
  },
  {
   "cell_type": "markdown",
   "id": "5fe5f33c",
   "metadata": {},
   "source": [
    "### O enigma da atribuição +="
   ]
  },
  {
   "cell_type": "code",
   "execution_count": 35,
   "id": "459c6537",
   "metadata": {
    "ExecuteTime": {
     "end_time": "2022-07-21T10:17:21.629602Z",
     "start_time": "2022-07-21T10:17:21.622555Z"
    }
   },
   "outputs": [
    {
     "ename": "TypeError",
     "evalue": "'tuple' object does not support item assignment",
     "output_type": "error",
     "traceback": [
      "\u001b[0;31m---------------------------------------------------------------------------\u001b[0m",
      "\u001b[0;31mTypeError\u001b[0m                                 Traceback (most recent call last)",
      "\u001b[0;32m/tmp/ipykernel_3981/3048275080.py\u001b[0m in \u001b[0;36m<module>\u001b[0;34m\u001b[0m\n\u001b[1;32m      2\u001b[0m \u001b[0;34m\u001b[0m\u001b[0m\n\u001b[1;32m      3\u001b[0m \u001b[0mt\u001b[0m \u001b[0;34m=\u001b[0m \u001b[0;34m(\u001b[0m\u001b[0;36m1\u001b[0m\u001b[0;34m,\u001b[0m \u001b[0;36m2\u001b[0m\u001b[0;34m,\u001b[0m \u001b[0;34m[\u001b[0m\u001b[0;36m30\u001b[0m\u001b[0;34m,\u001b[0m \u001b[0;36m40\u001b[0m\u001b[0;34m]\u001b[0m\u001b[0;34m)\u001b[0m\u001b[0;34m\u001b[0m\u001b[0;34m\u001b[0m\u001b[0m\n\u001b[0;32m----> 4\u001b[0;31m \u001b[0mt\u001b[0m\u001b[0;34m[\u001b[0m\u001b[0;36m2\u001b[0m\u001b[0;34m]\u001b[0m \u001b[0;34m+=\u001b[0m \u001b[0;34m[\u001b[0m\u001b[0;36m50\u001b[0m\u001b[0;34m,\u001b[0m \u001b[0;36m60\u001b[0m\u001b[0;34m]\u001b[0m\u001b[0;34m\u001b[0m\u001b[0;34m\u001b[0m\u001b[0m\n\u001b[0m",
      "\u001b[0;31mTypeError\u001b[0m: 'tuple' object does not support item assignment"
     ]
    }
   ],
   "source": [
    "# Exemplo 2.14 - Uma charada\n",
    "\n",
    "t = (1, 2, [30, 40])\n",
    "t[2] += [50, 60]"
   ]
  },
  {
   "cell_type": "code",
   "execution_count": 36,
   "id": "e9091836",
   "metadata": {
    "ExecuteTime": {
     "end_time": "2022-07-21T10:17:50.338037Z",
     "start_time": "2022-07-21T10:17:50.333991Z"
    }
   },
   "outputs": [
    {
     "data": {
      "text/plain": [
       "(1, 2, [30, 40, 50, 60])"
      ]
     },
     "execution_count": 36,
     "metadata": {},
     "output_type": "execute_result"
    }
   ],
   "source": [
    "t"
   ]
  },
  {
   "cell_type": "markdown",
   "id": "ce4efd95",
   "metadata": {},
   "source": [
    "- Lições: \n",
    "    * Colocar itens mutáveis em tuplas não é uma boa ideia.\n",
    "    * Uma atribuição combinada não é uma operação atômica.\n",
    "    * Inspecionar bytecode Python não é muito dificil ( dis.dis() )."
   ]
  },
  {
   "cell_type": "markdown",
   "id": "d79414f8",
   "metadata": {},
   "source": [
    "### list.sort e a função embutida sorted"
   ]
  },
  {
   "cell_type": "code",
   "execution_count": null,
   "id": "be03c57c",
   "metadata": {},
   "outputs": [],
   "source": []
  },
  {
   "cell_type": "code",
   "execution_count": null,
   "id": "e75af9a4",
   "metadata": {},
   "outputs": [],
   "source": []
  },
  {
   "cell_type": "code",
   "execution_count": null,
   "id": "e059064b",
   "metadata": {},
   "outputs": [],
   "source": []
  },
  {
   "cell_type": "code",
   "execution_count": null,
   "id": "fb812f24",
   "metadata": {},
   "outputs": [],
   "source": []
  },
  {
   "cell_type": "code",
   "execution_count": null,
   "id": "6bfe9264",
   "metadata": {},
   "outputs": [],
   "source": []
  },
  {
   "cell_type": "code",
   "execution_count": null,
   "id": "7e4e8969",
   "metadata": {},
   "outputs": [],
   "source": []
  },
  {
   "cell_type": "code",
   "execution_count": null,
   "id": "f18b3b69",
   "metadata": {},
   "outputs": [],
   "source": []
  },
  {
   "cell_type": "code",
   "execution_count": null,
   "id": "baf27381",
   "metadata": {},
   "outputs": [],
   "source": []
  },
  {
   "cell_type": "code",
   "execution_count": null,
   "id": "9d3d7d31",
   "metadata": {},
   "outputs": [],
   "source": []
  }
 ],
 "metadata": {
  "kernelspec": {
   "display_name": "Python 3 (ipykernel)",
   "language": "python",
   "name": "python3"
  },
  "language_info": {
   "codemirror_mode": {
    "name": "ipython",
    "version": 3
   },
   "file_extension": ".py",
   "mimetype": "text/x-python",
   "name": "python",
   "nbconvert_exporter": "python",
   "pygments_lexer": "ipython3",
   "version": "3.9.7"
  }
 },
 "nbformat": 4,
 "nbformat_minor": 5
}
